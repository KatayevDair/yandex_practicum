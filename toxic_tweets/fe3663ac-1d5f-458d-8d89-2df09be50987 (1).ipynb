{
 "cells": [
  {
   "cell_type": "markdown",
   "metadata": {
    "toc": true
   },
   "source": [
    "<h1>Содержание<span class=\"tocSkip\"></span></h1>\n",
    "<div class=\"toc\"><ul class=\"toc-item\"><li><span><a href=\"#План\" data-toc-modified-id=\"План-1\"><span class=\"toc-item-num\">1&nbsp;&nbsp;</span>План</a></span><ul class=\"toc-item\"><li><span><a href=\"#Функции-для-визуализации\" data-toc-modified-id=\"Функции-для-визуализации-1.1\"><span class=\"toc-item-num\">1.1&nbsp;&nbsp;</span>Функции для визуализации</a></span></li></ul></li><li><span><a href=\"#Подготовка\" data-toc-modified-id=\"Подготовка-2\"><span class=\"toc-item-num\">2&nbsp;&nbsp;</span>Подготовка</a></span></li><li><span><a href=\"#Обучение\" data-toc-modified-id=\"Обучение-3\"><span class=\"toc-item-num\">3&nbsp;&nbsp;</span>Обучение</a></span><ul class=\"toc-item\"><li><span><a href=\"#Тестирование-меньшей-выборки\" data-toc-modified-id=\"Тестирование-меньшей-выборки-3.1\"><span class=\"toc-item-num\">3.1&nbsp;&nbsp;</span>Тестирование меньшей выборки</a></span></li><li><span><a href=\"#LogisticRegression\" data-toc-modified-id=\"LogisticRegression-3.2\"><span class=\"toc-item-num\">3.2&nbsp;&nbsp;</span>LogisticRegression</a></span></li><li><span><a href=\"#Тестирование-большей-выборки\" data-toc-modified-id=\"Тестирование-большей-выборки-3.3\"><span class=\"toc-item-num\">3.3&nbsp;&nbsp;</span>Тестирование большей выборки</a></span></li><li><span><a href=\"#DecisionTreeClassifier\" data-toc-modified-id=\"DecisionTreeClassifier-3.4\"><span class=\"toc-item-num\">3.4&nbsp;&nbsp;</span>DecisionTreeClassifier</a></span></li><li><span><a href=\"#CatBoostClassifier\" data-toc-modified-id=\"CatBoostClassifier-3.5\"><span class=\"toc-item-num\">3.5&nbsp;&nbsp;</span>CatBoostClassifier</a></span></li></ul></li><li><span><a href=\"#Выводы\" data-toc-modified-id=\"Выводы-4\"><span class=\"toc-item-num\">4&nbsp;&nbsp;</span>Выводы</a></span></li><li><span><a href=\"#Чек-лист-проверки\" data-toc-modified-id=\"Чек-лист-проверки-5\"><span class=\"toc-item-num\">5&nbsp;&nbsp;</span>Чек-лист проверки</a></span></li></ul></div>"
   ]
  },
  {
   "cell_type": "markdown",
   "metadata": {
    "ExecuteTime": {
     "end_time": "2022-05-22T12:16:44.969684Z",
     "start_time": "2022-05-22T12:16:44.952852Z"
    }
   },
   "source": [
    "# Проект для «Викишоп» с BERT"
   ]
  },
  {
   "cell_type": "markdown",
   "metadata": {},
   "source": [
    "## План\n",
    "Для начала нам нужно будет убрать регулярные выражения(элементы разметки или знаки препинания) и стоп слова чтобы избавться от лишней информации. Лемматизацию проводить не нужно, потому-что BERT сама понимает формы слов. Потом добавим маркеры начала и конца предложения. Затем прведем токнизацию и векторизацию текстов, чтобы модель могла их воспринимать.\n",
    "\n",
    "Особенность BERT в том, что она может только заполнять пропуски в предложениях и отвечать на вопрос, связаны ли два предложения или нет. Чтобы решать задачи классификации, нужно надстроить над BERT какую-нибудь простенькую модель, которая будет принимать на вход предсказания BERT.\n",
    "\n",
    "После подготовки построим, обучиим и проверим коненечную модель.\n",
    "\n",
    "Целевой метрикой выступает F1-мера, нужно чтобы ее значение было не ниже 0.75"
   ]
  },
  {
   "cell_type": "code",
   "execution_count": 1,
   "metadata": {
    "ExecuteTime": {
     "end_time": "2022-05-21T17:36:20.317685Z",
     "start_time": "2022-05-21T17:36:20.283555Z"
    }
   },
   "outputs": [],
   "source": [
    "import pandas as pd\n",
    "\n",
    "import numpy as np\n",
    "\n",
    "import pandas as pd\n",
    "\n",
    "import torch\n",
    "\n",
    "import transformers as ppb\n",
    "\n",
    "\n",
    "from sklearn.linear_model import LogisticRegression\n",
    "from sklearn.model_selection import cross_val_score\n",
    "from sklearn.model_selection import train_test_split\n",
    "from sklearn.tree import DecisionTreeClassifier\n",
    "from sklearn.metrics import f1_score\n",
    "from sklearn.metrics import confusion_matrix\n",
    "from sklearn.preprocessing import StandardScaler \n",
    "\n",
    "\n",
    "import warnings\n",
    "warnings.filterwarnings(\"ignore\")\n",
    "\n",
    "from tqdm import notebook \n",
    "\n",
    "import tqdm\n",
    "\n",
    "import seaborn as sns\n",
    "\n",
    "import matplotlib.pyplot as plt\n",
    "\n",
    "from catboost import CatBoostClassifier"
   ]
  },
  {
   "cell_type": "markdown",
   "metadata": {},
   "source": [
    "### Функции для визуализации"
   ]
  },
  {
   "cell_type": "code",
   "execution_count": 2,
   "metadata": {},
   "outputs": [],
   "source": [
    "#часть ниже нужна для визуализации\n",
    "def calculate_tpr_fpr(y_real, y_pred):\n",
    "    cm = confusion_matrix(y_real, y_pred)\n",
    "    TN = cm[0, 0]\n",
    "    FP = cm[0, 1]\n",
    "    FN = cm[1, 0]\n",
    "    TP = cm[1, 1]\n",
    "    tpr =  TP/(TP + FN)\n",
    "    fpr = 1 - TN/(TN+FP)\n",
    "    return tpr, fpr\n",
    "\n",
    "def get_n_roc_coordinates(y_real, y_proba, n = 50):\n",
    "    tpr_list = [0]\n",
    "    fpr_list = [0]\n",
    "    for i in range(n):\n",
    "        threshold = i/n\n",
    "        y_pred = y_proba[:, 1] > threshold\n",
    "        tpr, fpr = calculate_tpr_fpr(y_real, y_pred)\n",
    "        tpr_list.append(tpr)\n",
    "        fpr_list.append(fpr)\n",
    "    return tpr_list, fpr_list\n",
    "\n",
    "def plot_roc_curve(tpr, fpr, scatter = True):\n",
    "    plt.figure(figsize = (5, 5))\n",
    "    if scatter:\n",
    "        sns.scatterplot(x = fpr, y = tpr)\n",
    "    sns.lineplot(x = fpr, y = tpr)\n",
    "    sns.lineplot(x = [0, 1], y = [0, 1], color = 'green')\n",
    "    plt.xlim(-0.05, 1.05)\n",
    "    plt.ylim(-0.05, 1.05)\n",
    "    plt.xlabel(\"False Positive Rate\")\n",
    "    plt.ylabel(\"True Positive Rate\")"
   ]
  },
  {
   "cell_type": "markdown",
   "metadata": {},
   "source": [
    "## Подготовка"
   ]
  },
  {
   "cell_type": "code",
   "execution_count": 3,
   "metadata": {
    "ExecuteTime": {
     "end_time": "2022-05-21T17:36:38.764353Z",
     "start_time": "2022-05-21T17:36:36.586770Z"
    }
   },
   "outputs": [],
   "source": [
    "try:\n",
    "    data = pd.read_csv('toxic_comments.csv')\n",
    "except:\n",
    "    data = pd.read_csv('/datasets/toxic_comments.csv')"
   ]
  },
  {
   "cell_type": "markdown",
   "metadata": {},
   "source": [
    "Из-за большого количества данных мы вынуждены взять только 10% от изначального обьема. данные распределены равномерно по всему датасету. я узнал это, когда подбирал оптимальный размер выборки. соотношение 1 и 0 оставалось одним и тем же, при уменьшении выборки. этого хватает, чтобы мы могли безболененно откинуть часть данных"
   ]
  },
  {
   "cell_type": "code",
   "execution_count": 4,
   "metadata": {},
   "outputs": [
    {
     "data": {
      "text/plain": [
       "(15957, 2)"
      ]
     },
     "execution_count": 4,
     "metadata": {},
     "output_type": "execute_result"
    }
   ],
   "source": [
    "data_shorten = data[0:15957]\n",
    "data_shorten.shape"
   ]
  },
  {
   "cell_type": "code",
   "execution_count": 5,
   "metadata": {
    "ExecuteTime": {
     "end_time": "2022-05-19T20:31:18.527655Z",
     "start_time": "2022-05-19T20:31:18.088359Z"
    }
   },
   "outputs": [
    {
     "data": {
      "text/plain": [
       "0    14343\n",
       "1     1614\n",
       "Name: toxic, dtype: int64"
      ]
     },
     "execution_count": 5,
     "metadata": {},
     "output_type": "execute_result"
    }
   ],
   "source": [
    "data_shorten.toxic.value_counts()"
   ]
  },
  {
   "cell_type": "code",
   "execution_count": 6,
   "metadata": {},
   "outputs": [
    {
     "data": {
      "text/html": [
       "<div>\n",
       "<style scoped>\n",
       "    .dataframe tbody tr th:only-of-type {\n",
       "        vertical-align: middle;\n",
       "    }\n",
       "\n",
       "    .dataframe tbody tr th {\n",
       "        vertical-align: top;\n",
       "    }\n",
       "\n",
       "    .dataframe thead th {\n",
       "        text-align: right;\n",
       "    }\n",
       "</style>\n",
       "<table border=\"1\" class=\"dataframe\">\n",
       "  <thead>\n",
       "    <tr style=\"text-align: right;\">\n",
       "      <th></th>\n",
       "      <th>text</th>\n",
       "      <th>toxic</th>\n",
       "    </tr>\n",
       "  </thead>\n",
       "  <tbody>\n",
       "    <tr>\n",
       "      <th>0</th>\n",
       "      <td>Explanation\\nWhy the edits made under my usern...</td>\n",
       "      <td>0</td>\n",
       "    </tr>\n",
       "    <tr>\n",
       "      <th>1</th>\n",
       "      <td>D'aww! He matches this background colour I'm s...</td>\n",
       "      <td>0</td>\n",
       "    </tr>\n",
       "    <tr>\n",
       "      <th>2</th>\n",
       "      <td>Hey man, I'm really not trying to edit war. It...</td>\n",
       "      <td>0</td>\n",
       "    </tr>\n",
       "    <tr>\n",
       "      <th>3</th>\n",
       "      <td>\"\\nMore\\nI can't make any real suggestions on ...</td>\n",
       "      <td>0</td>\n",
       "    </tr>\n",
       "    <tr>\n",
       "      <th>4</th>\n",
       "      <td>You, sir, are my hero. Any chance you remember...</td>\n",
       "      <td>0</td>\n",
       "    </tr>\n",
       "  </tbody>\n",
       "</table>\n",
       "</div>"
      ],
      "text/plain": [
       "                                                text  toxic\n",
       "0  Explanation\\nWhy the edits made under my usern...      0\n",
       "1  D'aww! He matches this background colour I'm s...      0\n",
       "2  Hey man, I'm really not trying to edit war. It...      0\n",
       "3  \"\\nMore\\nI can't make any real suggestions on ...      0\n",
       "4  You, sir, are my hero. Any chance you remember...      0"
      ]
     },
     "metadata": {},
     "output_type": "display_data"
    },
    {
     "data": {
      "text/plain": [
       "(159571, 2)"
      ]
     },
     "execution_count": 6,
     "metadata": {},
     "output_type": "execute_result"
    }
   ],
   "source": [
    "display(data.head())\n",
    "data.shape"
   ]
  },
  {
   "cell_type": "code",
   "execution_count": 7,
   "metadata": {},
   "outputs": [
    {
     "data": {
      "text/plain": [
       "0    143346\n",
       "1     16225\n",
       "Name: toxic, dtype: int64"
      ]
     },
     "execution_count": 7,
     "metadata": {},
     "output_type": "execute_result"
    }
   ],
   "source": [
    "data.toxic.value_counts()"
   ]
  },
  {
   "cell_type": "code",
   "execution_count": 8,
   "metadata": {
    "ExecuteTime": {
     "end_time": "2022-05-21T17:36:49.259405Z",
     "start_time": "2022-05-21T17:36:49.188492Z"
    }
   },
   "outputs": [],
   "source": [
    "asd = data.copy()"
   ]
  },
  {
   "cell_type": "code",
   "execution_count": 9,
   "metadata": {
    "ExecuteTime": {
     "end_time": "2022-05-21T17:36:52.501660Z",
     "start_time": "2022-05-21T17:36:52.360070Z"
    }
   },
   "outputs": [],
   "source": [
    "#data[(data.toxic == 0) | (data.toxic == 1[0])]\n",
    "ads  = asd[asd.toxic == 1].append(asd[asd.toxic == 0][0:16225])"
   ]
  },
  {
   "cell_type": "code",
   "execution_count": 10,
   "metadata": {
    "ExecuteTime": {
     "end_time": "2022-05-21T17:37:00.462351Z",
     "start_time": "2022-05-21T17:37:00.452999Z"
    }
   },
   "outputs": [],
   "source": [
    "import re"
   ]
  },
  {
   "cell_type": "code",
   "execution_count": 11,
   "metadata": {
    "ExecuteTime": {
     "end_time": "2022-05-21T17:37:02.963707Z",
     "start_time": "2022-05-21T17:37:02.947567Z"
    }
   },
   "outputs": [],
   "source": [
    "ads = ads.reset_index(drop=True)"
   ]
  },
  {
   "cell_type": "code",
   "execution_count": 12,
   "metadata": {
    "ExecuteTime": {
     "end_time": "2022-05-21T17:37:06.996773Z",
     "start_time": "2022-05-21T17:37:05.696900Z"
    }
   },
   "outputs": [
    {
     "data": {
      "text/plain": [
       "0    16225\n",
       "1    16225\n",
       "Name: toxic, dtype: int64"
      ]
     },
     "execution_count": 12,
     "metadata": {},
     "output_type": "execute_result"
    }
   ],
   "source": [
    "#ads = re.sub(r\"[^a-zA-Z' ]\", ' ', ads)\n",
    "[re.sub(r\"[^a-zA-Z' ]\", ' ', x) for x in list(ads.text.values)]\n",
    "\n",
    "ads.text = ads.text.apply(lambda x: \" \".join(re.sub(r\"[^a-zA-Z' ]\", ' ', x).split()) )\n",
    "ads.toxic.value_counts()"
   ]
  },
  {
   "cell_type": "code",
   "execution_count": 16,
   "metadata": {
    "ExecuteTime": {
     "end_time": "2022-05-21T17:38:46.837456Z",
     "start_time": "2022-05-21T17:37:30.528055Z"
    }
   },
   "outputs": [],
   "source": [
    "tokenized_3 = ads.text.apply((lambda x: tokenizer.encode(x, add_special_tokens=True, truncation=True, max_length = 70)))"
   ]
  },
  {
   "cell_type": "code",
   "execution_count": 17,
   "metadata": {
    "ExecuteTime": {
     "end_time": "2022-05-21T17:38:49.528058Z",
     "start_time": "2022-05-21T17:38:49.109989Z"
    }
   },
   "outputs": [],
   "source": [
    "padded_3 = np.array([i + [0]*(70-len(i)) for i in tokenized_3.values])\n",
    "attention_mask_3 = np.where(padded_3 != 0, 1, 0)"
   ]
  },
  {
   "cell_type": "code",
   "execution_count": 18,
   "metadata": {
    "ExecuteTime": {
     "end_time": "2022-05-21T21:41:04.451804Z",
     "start_time": "2022-05-21T17:39:17.437583Z"
    },
    "collapsed": true
   },
   "outputs": [
    {
     "data": {
      "application/vnd.jupyter.widget-view+json": {
       "model_id": "48cdb8cd755043e380b60d53cf8c0109",
       "version_major": 2,
       "version_minor": 0
      },
      "text/plain": [
       "  0%|          | 0/499 [00:00<?, ?it/s]"
      ]
     },
     "metadata": {},
     "output_type": "display_data"
    },
    {
     "ename": "KeyboardInterrupt",
     "evalue": "",
     "output_type": "error",
     "traceback": [
      "\u001b[0;31m---------------------------------------------------------------------------\u001b[0m",
      "\u001b[0;31mKeyboardInterrupt\u001b[0m                         Traceback (most recent call last)",
      "\u001b[0;32m/tmp/ipykernel_79/2596674588.py\u001b[0m in \u001b[0;36m<module>\u001b[0;34m\u001b[0m\n\u001b[1;32m      4\u001b[0m     \u001b[0mbatch_3\u001b[0m \u001b[0;34m=\u001b[0m \u001b[0mtorch\u001b[0m\u001b[0;34m.\u001b[0m\u001b[0mLongTensor\u001b[0m\u001b[0;34m(\u001b[0m\u001b[0mpadded_3\u001b[0m\u001b[0;34m[\u001b[0m\u001b[0mbatch_size\u001b[0m\u001b[0;34m*\u001b[0m\u001b[0mi\u001b[0m\u001b[0;34m:\u001b[0m\u001b[0mbatch_size\u001b[0m\u001b[0;34m*\u001b[0m\u001b[0;34m(\u001b[0m\u001b[0mi\u001b[0m\u001b[0;34m+\u001b[0m\u001b[0;36m1\u001b[0m\u001b[0;34m)\u001b[0m\u001b[0;34m]\u001b[0m\u001b[0;34m)\u001b[0m\u001b[0;34m\u001b[0m\u001b[0;34m\u001b[0m\u001b[0m\n\u001b[1;32m      5\u001b[0m     \u001b[0mattention_mask_batch_3\u001b[0m \u001b[0;34m=\u001b[0m \u001b[0mtorch\u001b[0m\u001b[0;34m.\u001b[0m\u001b[0mLongTensor\u001b[0m\u001b[0;34m(\u001b[0m\u001b[0mattention_mask_3\u001b[0m\u001b[0;34m[\u001b[0m\u001b[0mbatch_size\u001b[0m\u001b[0;34m*\u001b[0m\u001b[0mi\u001b[0m\u001b[0;34m:\u001b[0m\u001b[0mbatch_size\u001b[0m\u001b[0;34m*\u001b[0m\u001b[0;34m(\u001b[0m\u001b[0mi\u001b[0m\u001b[0;34m+\u001b[0m\u001b[0;36m1\u001b[0m\u001b[0;34m)\u001b[0m\u001b[0;34m]\u001b[0m\u001b[0;34m)\u001b[0m\u001b[0;34m\u001b[0m\u001b[0;34m\u001b[0m\u001b[0m\n\u001b[0;32m----> 6\u001b[0;31m     \u001b[0mbatch_embeddings_3\u001b[0m \u001b[0;34m=\u001b[0m \u001b[0mmodel\u001b[0m\u001b[0;34m(\u001b[0m\u001b[0mbatch_3\u001b[0m\u001b[0;34m,\u001b[0m \u001b[0mattention_mask\u001b[0m\u001b[0;34m=\u001b[0m\u001b[0mattention_mask_batch_3\u001b[0m\u001b[0;34m)\u001b[0m\u001b[0;34m\u001b[0m\u001b[0;34m\u001b[0m\u001b[0m\n\u001b[0m\u001b[1;32m      7\u001b[0m     \u001b[0;32mwith\u001b[0m \u001b[0mtorch\u001b[0m\u001b[0;34m.\u001b[0m\u001b[0mno_grad\u001b[0m\u001b[0;34m(\u001b[0m\u001b[0;34m)\u001b[0m\u001b[0;34m:\u001b[0m\u001b[0;34m\u001b[0m\u001b[0;34m\u001b[0m\u001b[0m\n\u001b[1;32m      8\u001b[0m         \u001b[0mbatch_embeddings_3\u001b[0m \u001b[0;34m=\u001b[0m \u001b[0mmodel\u001b[0m\u001b[0;34m(\u001b[0m\u001b[0mbatch_3\u001b[0m\u001b[0;34m,\u001b[0m \u001b[0mattention_mask\u001b[0m\u001b[0;34m=\u001b[0m\u001b[0mattention_mask_batch_3\u001b[0m\u001b[0;34m)\u001b[0m\u001b[0;34m\u001b[0m\u001b[0;34m\u001b[0m\u001b[0m\n",
      "\u001b[0;32m/opt/conda/lib/python3.9/site-packages/torch/nn/modules/module.py\u001b[0m in \u001b[0;36m_call_impl\u001b[0;34m(self, *input, **kwargs)\u001b[0m\n\u001b[1;32m   1100\u001b[0m         if not (self._backward_hooks or self._forward_hooks or self._forward_pre_hooks or _global_backward_hooks\n\u001b[1;32m   1101\u001b[0m                 or _global_forward_hooks or _global_forward_pre_hooks):\n\u001b[0;32m-> 1102\u001b[0;31m             \u001b[0;32mreturn\u001b[0m \u001b[0mforward_call\u001b[0m\u001b[0;34m(\u001b[0m\u001b[0;34m*\u001b[0m\u001b[0minput\u001b[0m\u001b[0;34m,\u001b[0m \u001b[0;34m**\u001b[0m\u001b[0mkwargs\u001b[0m\u001b[0;34m)\u001b[0m\u001b[0;34m\u001b[0m\u001b[0;34m\u001b[0m\u001b[0m\n\u001b[0m\u001b[1;32m   1103\u001b[0m         \u001b[0;31m# Do not call functions when jit is used\u001b[0m\u001b[0;34m\u001b[0m\u001b[0;34m\u001b[0m\u001b[0m\n\u001b[1;32m   1104\u001b[0m         \u001b[0mfull_backward_hooks\u001b[0m\u001b[0;34m,\u001b[0m \u001b[0mnon_full_backward_hooks\u001b[0m \u001b[0;34m=\u001b[0m \u001b[0;34m[\u001b[0m\u001b[0;34m]\u001b[0m\u001b[0;34m,\u001b[0m \u001b[0;34m[\u001b[0m\u001b[0;34m]\u001b[0m\u001b[0;34m\u001b[0m\u001b[0;34m\u001b[0m\u001b[0m\n",
      "\u001b[0;32m/opt/conda/lib/python3.9/site-packages/transformers/models/distilbert/modeling_distilbert.py\u001b[0m in \u001b[0;36mforward\u001b[0;34m(self, input_ids, attention_mask, head_mask, inputs_embeds, output_attentions, output_hidden_states, return_dict)\u001b[0m\n\u001b[1;32m    549\u001b[0m         \u001b[0;32mif\u001b[0m \u001b[0minputs_embeds\u001b[0m \u001b[0;32mis\u001b[0m \u001b[0;32mNone\u001b[0m\u001b[0;34m:\u001b[0m\u001b[0;34m\u001b[0m\u001b[0;34m\u001b[0m\u001b[0m\n\u001b[1;32m    550\u001b[0m             \u001b[0minputs_embeds\u001b[0m \u001b[0;34m=\u001b[0m \u001b[0mself\u001b[0m\u001b[0;34m.\u001b[0m\u001b[0membeddings\u001b[0m\u001b[0;34m(\u001b[0m\u001b[0minput_ids\u001b[0m\u001b[0;34m)\u001b[0m  \u001b[0;31m# (bs, seq_length, dim)\u001b[0m\u001b[0;34m\u001b[0m\u001b[0;34m\u001b[0m\u001b[0m\n\u001b[0;32m--> 551\u001b[0;31m         return self.transformer(\n\u001b[0m\u001b[1;32m    552\u001b[0m             \u001b[0mx\u001b[0m\u001b[0;34m=\u001b[0m\u001b[0minputs_embeds\u001b[0m\u001b[0;34m,\u001b[0m\u001b[0;34m\u001b[0m\u001b[0;34m\u001b[0m\u001b[0m\n\u001b[1;32m    553\u001b[0m             \u001b[0mattn_mask\u001b[0m\u001b[0;34m=\u001b[0m\u001b[0mattention_mask\u001b[0m\u001b[0;34m,\u001b[0m\u001b[0;34m\u001b[0m\u001b[0;34m\u001b[0m\u001b[0m\n",
      "\u001b[0;32m/opt/conda/lib/python3.9/site-packages/torch/nn/modules/module.py\u001b[0m in \u001b[0;36m_call_impl\u001b[0;34m(self, *input, **kwargs)\u001b[0m\n\u001b[1;32m   1100\u001b[0m         if not (self._backward_hooks or self._forward_hooks or self._forward_pre_hooks or _global_backward_hooks\n\u001b[1;32m   1101\u001b[0m                 or _global_forward_hooks or _global_forward_pre_hooks):\n\u001b[0;32m-> 1102\u001b[0;31m             \u001b[0;32mreturn\u001b[0m \u001b[0mforward_call\u001b[0m\u001b[0;34m(\u001b[0m\u001b[0;34m*\u001b[0m\u001b[0minput\u001b[0m\u001b[0;34m,\u001b[0m \u001b[0;34m**\u001b[0m\u001b[0mkwargs\u001b[0m\u001b[0;34m)\u001b[0m\u001b[0;34m\u001b[0m\u001b[0;34m\u001b[0m\u001b[0m\n\u001b[0m\u001b[1;32m   1103\u001b[0m         \u001b[0;31m# Do not call functions when jit is used\u001b[0m\u001b[0;34m\u001b[0m\u001b[0;34m\u001b[0m\u001b[0m\n\u001b[1;32m   1104\u001b[0m         \u001b[0mfull_backward_hooks\u001b[0m\u001b[0;34m,\u001b[0m \u001b[0mnon_full_backward_hooks\u001b[0m \u001b[0;34m=\u001b[0m \u001b[0;34m[\u001b[0m\u001b[0;34m]\u001b[0m\u001b[0;34m,\u001b[0m \u001b[0;34m[\u001b[0m\u001b[0;34m]\u001b[0m\u001b[0;34m\u001b[0m\u001b[0;34m\u001b[0m\u001b[0m\n",
      "\u001b[0;32m/opt/conda/lib/python3.9/site-packages/transformers/models/distilbert/modeling_distilbert.py\u001b[0m in \u001b[0;36mforward\u001b[0;34m(self, x, attn_mask, head_mask, output_attentions, output_hidden_states, return_dict)\u001b[0m\n\u001b[1;32m    325\u001b[0m                 \u001b[0mall_hidden_states\u001b[0m \u001b[0;34m=\u001b[0m \u001b[0mall_hidden_states\u001b[0m \u001b[0;34m+\u001b[0m \u001b[0;34m(\u001b[0m\u001b[0mhidden_state\u001b[0m\u001b[0;34m,\u001b[0m\u001b[0;34m)\u001b[0m\u001b[0;34m\u001b[0m\u001b[0;34m\u001b[0m\u001b[0m\n\u001b[1;32m    326\u001b[0m \u001b[0;34m\u001b[0m\u001b[0m\n\u001b[0;32m--> 327\u001b[0;31m             layer_outputs = layer_module(\n\u001b[0m\u001b[1;32m    328\u001b[0m                 \u001b[0mx\u001b[0m\u001b[0;34m=\u001b[0m\u001b[0mhidden_state\u001b[0m\u001b[0;34m,\u001b[0m \u001b[0mattn_mask\u001b[0m\u001b[0;34m=\u001b[0m\u001b[0mattn_mask\u001b[0m\u001b[0;34m,\u001b[0m \u001b[0mhead_mask\u001b[0m\u001b[0;34m=\u001b[0m\u001b[0mhead_mask\u001b[0m\u001b[0;34m[\u001b[0m\u001b[0mi\u001b[0m\u001b[0;34m]\u001b[0m\u001b[0;34m,\u001b[0m \u001b[0moutput_attentions\u001b[0m\u001b[0;34m=\u001b[0m\u001b[0moutput_attentions\u001b[0m\u001b[0;34m\u001b[0m\u001b[0;34m\u001b[0m\u001b[0m\n\u001b[1;32m    329\u001b[0m             )\n",
      "\u001b[0;32m/opt/conda/lib/python3.9/site-packages/torch/nn/modules/module.py\u001b[0m in \u001b[0;36m_call_impl\u001b[0;34m(self, *input, **kwargs)\u001b[0m\n\u001b[1;32m   1100\u001b[0m         if not (self._backward_hooks or self._forward_hooks or self._forward_pre_hooks or _global_backward_hooks\n\u001b[1;32m   1101\u001b[0m                 or _global_forward_hooks or _global_forward_pre_hooks):\n\u001b[0;32m-> 1102\u001b[0;31m             \u001b[0;32mreturn\u001b[0m \u001b[0mforward_call\u001b[0m\u001b[0;34m(\u001b[0m\u001b[0;34m*\u001b[0m\u001b[0minput\u001b[0m\u001b[0;34m,\u001b[0m \u001b[0;34m**\u001b[0m\u001b[0mkwargs\u001b[0m\u001b[0;34m)\u001b[0m\u001b[0;34m\u001b[0m\u001b[0;34m\u001b[0m\u001b[0m\n\u001b[0m\u001b[1;32m   1103\u001b[0m         \u001b[0;31m# Do not call functions when jit is used\u001b[0m\u001b[0;34m\u001b[0m\u001b[0;34m\u001b[0m\u001b[0m\n\u001b[1;32m   1104\u001b[0m         \u001b[0mfull_backward_hooks\u001b[0m\u001b[0;34m,\u001b[0m \u001b[0mnon_full_backward_hooks\u001b[0m \u001b[0;34m=\u001b[0m \u001b[0;34m[\u001b[0m\u001b[0;34m]\u001b[0m\u001b[0;34m,\u001b[0m \u001b[0;34m[\u001b[0m\u001b[0;34m]\u001b[0m\u001b[0;34m\u001b[0m\u001b[0;34m\u001b[0m\u001b[0m\n",
      "\u001b[0;32m/opt/conda/lib/python3.9/site-packages/transformers/models/distilbert/modeling_distilbert.py\u001b[0m in \u001b[0;36mforward\u001b[0;34m(self, x, attn_mask, head_mask, output_attentions)\u001b[0m\n\u001b[1;32m    269\u001b[0m         \"\"\"\n\u001b[1;32m    270\u001b[0m         \u001b[0;31m# Self-Attention\u001b[0m\u001b[0;34m\u001b[0m\u001b[0;34m\u001b[0m\u001b[0m\n\u001b[0;32m--> 271\u001b[0;31m         sa_output = self.attention(\n\u001b[0m\u001b[1;32m    272\u001b[0m             \u001b[0mquery\u001b[0m\u001b[0;34m=\u001b[0m\u001b[0mx\u001b[0m\u001b[0;34m,\u001b[0m\u001b[0;34m\u001b[0m\u001b[0;34m\u001b[0m\u001b[0m\n\u001b[1;32m    273\u001b[0m             \u001b[0mkey\u001b[0m\u001b[0;34m=\u001b[0m\u001b[0mx\u001b[0m\u001b[0;34m,\u001b[0m\u001b[0;34m\u001b[0m\u001b[0;34m\u001b[0m\u001b[0m\n",
      "\u001b[0;32m/opt/conda/lib/python3.9/site-packages/torch/nn/modules/module.py\u001b[0m in \u001b[0;36m_call_impl\u001b[0;34m(self, *input, **kwargs)\u001b[0m\n\u001b[1;32m   1100\u001b[0m         if not (self._backward_hooks or self._forward_hooks or self._forward_pre_hooks or _global_backward_hooks\n\u001b[1;32m   1101\u001b[0m                 or _global_forward_hooks or _global_forward_pre_hooks):\n\u001b[0;32m-> 1102\u001b[0;31m             \u001b[0;32mreturn\u001b[0m \u001b[0mforward_call\u001b[0m\u001b[0;34m(\u001b[0m\u001b[0;34m*\u001b[0m\u001b[0minput\u001b[0m\u001b[0;34m,\u001b[0m \u001b[0;34m**\u001b[0m\u001b[0mkwargs\u001b[0m\u001b[0;34m)\u001b[0m\u001b[0;34m\u001b[0m\u001b[0;34m\u001b[0m\u001b[0m\n\u001b[0m\u001b[1;32m   1103\u001b[0m         \u001b[0;31m# Do not call functions when jit is used\u001b[0m\u001b[0;34m\u001b[0m\u001b[0;34m\u001b[0m\u001b[0m\n\u001b[1;32m   1104\u001b[0m         \u001b[0mfull_backward_hooks\u001b[0m\u001b[0;34m,\u001b[0m \u001b[0mnon_full_backward_hooks\u001b[0m \u001b[0;34m=\u001b[0m \u001b[0;34m[\u001b[0m\u001b[0;34m]\u001b[0m\u001b[0;34m,\u001b[0m \u001b[0;34m[\u001b[0m\u001b[0;34m]\u001b[0m\u001b[0;34m\u001b[0m\u001b[0;34m\u001b[0m\u001b[0m\n",
      "\u001b[0;32m/opt/conda/lib/python3.9/site-packages/transformers/models/distilbert/modeling_distilbert.py\u001b[0m in \u001b[0;36mforward\u001b[0;34m(self, query, key, value, mask, head_mask, output_attentions)\u001b[0m\n\u001b[1;32m    198\u001b[0m             \u001b[0;32mreturn\u001b[0m \u001b[0mx\u001b[0m\u001b[0;34m.\u001b[0m\u001b[0mtranspose\u001b[0m\u001b[0;34m(\u001b[0m\u001b[0;36m1\u001b[0m\u001b[0;34m,\u001b[0m \u001b[0;36m2\u001b[0m\u001b[0;34m)\u001b[0m\u001b[0;34m.\u001b[0m\u001b[0mcontiguous\u001b[0m\u001b[0;34m(\u001b[0m\u001b[0;34m)\u001b[0m\u001b[0;34m.\u001b[0m\u001b[0mview\u001b[0m\u001b[0;34m(\u001b[0m\u001b[0mbs\u001b[0m\u001b[0;34m,\u001b[0m \u001b[0;34m-\u001b[0m\u001b[0;36m1\u001b[0m\u001b[0;34m,\u001b[0m \u001b[0mself\u001b[0m\u001b[0;34m.\u001b[0m\u001b[0mn_heads\u001b[0m \u001b[0;34m*\u001b[0m \u001b[0mdim_per_head\u001b[0m\u001b[0;34m)\u001b[0m\u001b[0;34m\u001b[0m\u001b[0;34m\u001b[0m\u001b[0m\n\u001b[1;32m    199\u001b[0m \u001b[0;34m\u001b[0m\u001b[0m\n\u001b[0;32m--> 200\u001b[0;31m         \u001b[0mq\u001b[0m \u001b[0;34m=\u001b[0m \u001b[0mshape\u001b[0m\u001b[0;34m(\u001b[0m\u001b[0mself\u001b[0m\u001b[0;34m.\u001b[0m\u001b[0mq_lin\u001b[0m\u001b[0;34m(\u001b[0m\u001b[0mquery\u001b[0m\u001b[0;34m)\u001b[0m\u001b[0;34m)\u001b[0m  \u001b[0;31m# (bs, n_heads, q_length, dim_per_head)\u001b[0m\u001b[0;34m\u001b[0m\u001b[0;34m\u001b[0m\u001b[0m\n\u001b[0m\u001b[1;32m    201\u001b[0m         \u001b[0mk\u001b[0m \u001b[0;34m=\u001b[0m \u001b[0mshape\u001b[0m\u001b[0;34m(\u001b[0m\u001b[0mself\u001b[0m\u001b[0;34m.\u001b[0m\u001b[0mk_lin\u001b[0m\u001b[0;34m(\u001b[0m\u001b[0mkey\u001b[0m\u001b[0;34m)\u001b[0m\u001b[0;34m)\u001b[0m  \u001b[0;31m# (bs, n_heads, k_length, dim_per_head)\u001b[0m\u001b[0;34m\u001b[0m\u001b[0;34m\u001b[0m\u001b[0m\n\u001b[1;32m    202\u001b[0m         \u001b[0mv\u001b[0m \u001b[0;34m=\u001b[0m \u001b[0mshape\u001b[0m\u001b[0;34m(\u001b[0m\u001b[0mself\u001b[0m\u001b[0;34m.\u001b[0m\u001b[0mv_lin\u001b[0m\u001b[0;34m(\u001b[0m\u001b[0mvalue\u001b[0m\u001b[0;34m)\u001b[0m\u001b[0;34m)\u001b[0m  \u001b[0;31m# (bs, n_heads, k_length, dim_per_head)\u001b[0m\u001b[0;34m\u001b[0m\u001b[0;34m\u001b[0m\u001b[0m\n",
      "\u001b[0;32m/opt/conda/lib/python3.9/site-packages/torch/nn/modules/module.py\u001b[0m in \u001b[0;36m_call_impl\u001b[0;34m(self, *input, **kwargs)\u001b[0m\n\u001b[1;32m   1100\u001b[0m         if not (self._backward_hooks or self._forward_hooks or self._forward_pre_hooks or _global_backward_hooks\n\u001b[1;32m   1101\u001b[0m                 or _global_forward_hooks or _global_forward_pre_hooks):\n\u001b[0;32m-> 1102\u001b[0;31m             \u001b[0;32mreturn\u001b[0m \u001b[0mforward_call\u001b[0m\u001b[0;34m(\u001b[0m\u001b[0;34m*\u001b[0m\u001b[0minput\u001b[0m\u001b[0;34m,\u001b[0m \u001b[0;34m**\u001b[0m\u001b[0mkwargs\u001b[0m\u001b[0;34m)\u001b[0m\u001b[0;34m\u001b[0m\u001b[0;34m\u001b[0m\u001b[0m\n\u001b[0m\u001b[1;32m   1103\u001b[0m         \u001b[0;31m# Do not call functions when jit is used\u001b[0m\u001b[0;34m\u001b[0m\u001b[0;34m\u001b[0m\u001b[0m\n\u001b[1;32m   1104\u001b[0m         \u001b[0mfull_backward_hooks\u001b[0m\u001b[0;34m,\u001b[0m \u001b[0mnon_full_backward_hooks\u001b[0m \u001b[0;34m=\u001b[0m \u001b[0;34m[\u001b[0m\u001b[0;34m]\u001b[0m\u001b[0;34m,\u001b[0m \u001b[0;34m[\u001b[0m\u001b[0;34m]\u001b[0m\u001b[0;34m\u001b[0m\u001b[0;34m\u001b[0m\u001b[0m\n",
      "\u001b[0;32m/opt/conda/lib/python3.9/site-packages/torch/nn/modules/linear.py\u001b[0m in \u001b[0;36mforward\u001b[0;34m(self, input)\u001b[0m\n\u001b[1;32m    101\u001b[0m \u001b[0;34m\u001b[0m\u001b[0m\n\u001b[1;32m    102\u001b[0m     \u001b[0;32mdef\u001b[0m \u001b[0mforward\u001b[0m\u001b[0;34m(\u001b[0m\u001b[0mself\u001b[0m\u001b[0;34m,\u001b[0m \u001b[0minput\u001b[0m\u001b[0;34m:\u001b[0m \u001b[0mTensor\u001b[0m\u001b[0;34m)\u001b[0m \u001b[0;34m->\u001b[0m \u001b[0mTensor\u001b[0m\u001b[0;34m:\u001b[0m\u001b[0;34m\u001b[0m\u001b[0;34m\u001b[0m\u001b[0m\n\u001b[0;32m--> 103\u001b[0;31m         \u001b[0;32mreturn\u001b[0m \u001b[0mF\u001b[0m\u001b[0;34m.\u001b[0m\u001b[0mlinear\u001b[0m\u001b[0;34m(\u001b[0m\u001b[0minput\u001b[0m\u001b[0;34m,\u001b[0m \u001b[0mself\u001b[0m\u001b[0;34m.\u001b[0m\u001b[0mweight\u001b[0m\u001b[0;34m,\u001b[0m \u001b[0mself\u001b[0m\u001b[0;34m.\u001b[0m\u001b[0mbias\u001b[0m\u001b[0;34m)\u001b[0m\u001b[0;34m\u001b[0m\u001b[0;34m\u001b[0m\u001b[0m\n\u001b[0m\u001b[1;32m    104\u001b[0m \u001b[0;34m\u001b[0m\u001b[0m\n\u001b[1;32m    105\u001b[0m     \u001b[0;32mdef\u001b[0m \u001b[0mextra_repr\u001b[0m\u001b[0;34m(\u001b[0m\u001b[0mself\u001b[0m\u001b[0;34m)\u001b[0m \u001b[0;34m->\u001b[0m \u001b[0mstr\u001b[0m\u001b[0;34m:\u001b[0m\u001b[0;34m\u001b[0m\u001b[0;34m\u001b[0m\u001b[0m\n",
      "\u001b[0;32m/opt/conda/lib/python3.9/site-packages/torch/nn/functional.py\u001b[0m in \u001b[0;36mlinear\u001b[0;34m(input, weight, bias)\u001b[0m\n\u001b[1;32m   1846\u001b[0m     \u001b[0;32mif\u001b[0m \u001b[0mhas_torch_function_variadic\u001b[0m\u001b[0;34m(\u001b[0m\u001b[0minput\u001b[0m\u001b[0;34m,\u001b[0m \u001b[0mweight\u001b[0m\u001b[0;34m,\u001b[0m \u001b[0mbias\u001b[0m\u001b[0;34m)\u001b[0m\u001b[0;34m:\u001b[0m\u001b[0;34m\u001b[0m\u001b[0;34m\u001b[0m\u001b[0m\n\u001b[1;32m   1847\u001b[0m         \u001b[0;32mreturn\u001b[0m \u001b[0mhandle_torch_function\u001b[0m\u001b[0;34m(\u001b[0m\u001b[0mlinear\u001b[0m\u001b[0;34m,\u001b[0m \u001b[0;34m(\u001b[0m\u001b[0minput\u001b[0m\u001b[0;34m,\u001b[0m \u001b[0mweight\u001b[0m\u001b[0;34m,\u001b[0m \u001b[0mbias\u001b[0m\u001b[0;34m)\u001b[0m\u001b[0;34m,\u001b[0m \u001b[0minput\u001b[0m\u001b[0;34m,\u001b[0m \u001b[0mweight\u001b[0m\u001b[0;34m,\u001b[0m \u001b[0mbias\u001b[0m\u001b[0;34m=\u001b[0m\u001b[0mbias\u001b[0m\u001b[0;34m)\u001b[0m\u001b[0;34m\u001b[0m\u001b[0;34m\u001b[0m\u001b[0m\n\u001b[0;32m-> 1848\u001b[0;31m     \u001b[0;32mreturn\u001b[0m \u001b[0mtorch\u001b[0m\u001b[0;34m.\u001b[0m\u001b[0m_C\u001b[0m\u001b[0;34m.\u001b[0m\u001b[0m_nn\u001b[0m\u001b[0;34m.\u001b[0m\u001b[0mlinear\u001b[0m\u001b[0;34m(\u001b[0m\u001b[0minput\u001b[0m\u001b[0;34m,\u001b[0m \u001b[0mweight\u001b[0m\u001b[0;34m,\u001b[0m \u001b[0mbias\u001b[0m\u001b[0;34m)\u001b[0m\u001b[0;34m\u001b[0m\u001b[0;34m\u001b[0m\u001b[0m\n\u001b[0m\u001b[1;32m   1849\u001b[0m \u001b[0;34m\u001b[0m\u001b[0m\n\u001b[1;32m   1850\u001b[0m \u001b[0;34m\u001b[0m\u001b[0m\n",
      "\u001b[0;31mKeyboardInterrupt\u001b[0m: "
     ]
    }
   ],
   "source": [
    "embeddings_3 = []\n",
    "batch_size = 65\n",
    "for i in notebook.tqdm(range(padded_3.shape[0] // batch_size)):\n",
    "    batch_3 = torch.LongTensor(padded_3[batch_size*i:batch_size*(i+1)])\n",
    "    attention_mask_batch_3 = torch.LongTensor(attention_mask_3[batch_size*i:batch_size*(i+1)])\n",
    "    batch_embeddings_3 = model(batch_3, attention_mask=attention_mask_batch_3)\n",
    "    with torch.no_grad():\n",
    "        batch_embeddings_3 = model(batch_3, attention_mask=attention_mask_batch_3) \n",
    "    embeddings_3.append(batch_embeddings_3[0][:,0,:].numpy())"
   ]
  },
  {
   "cell_type": "code",
   "execution_count": 19,
   "metadata": {
    "ExecuteTime": {
     "end_time": "2022-05-21T21:41:04.578948Z",
     "start_time": "2022-05-21T21:41:04.556090Z"
    }
   },
   "outputs": [],
   "source": [
    "del batch_3\n",
    "del attention_mask_batch_3\n",
    "del batch_embeddings_3"
   ]
  },
  {
   "cell_type": "code",
   "execution_count": 32,
   "metadata": {
    "ExecuteTime": {
     "end_time": "2022-05-21T21:41:04.554761Z",
     "start_time": "2022-05-21T21:41:04.483189Z"
    }
   },
   "outputs": [
    {
     "data": {
      "text/plain": [
       "(159571, 2)"
      ]
     },
     "execution_count": 32,
     "metadata": {},
     "output_type": "execute_result"
    }
   ],
   "source": [
    "data.shape"
   ]
  },
  {
   "cell_type": "code",
   "execution_count": 20,
   "metadata": {
    "ExecuteTime": {
     "end_time": "2022-05-21T21:41:05.690920Z",
     "start_time": "2022-05-21T21:41:04.579826Z"
    }
   },
   "outputs": [
    {
     "data": {
      "text/plain": [
       "0    13542\n",
       "1     1458\n",
       "Name: toxic, dtype: int64"
      ]
     },
     "execution_count": 20,
     "metadata": {},
     "output_type": "execute_result"
    }
   ],
   "source": [
    "dsds = data[135000:150000]\n",
    "dsds.text = dsds.text.apply(lambda x: \" \".join(re.sub(r\"[^a-zA-Z' ]\", ' ', x).split()) )\n",
    "dsds.toxic.value_counts()"
   ]
  },
  {
   "cell_type": "code",
   "execution_count": 21,
   "metadata": {
    "ExecuteTime": {
     "end_time": "2022-05-22T10:45:29.334608Z",
     "start_time": "2022-05-22T10:44:45.311211Z"
    }
   },
   "outputs": [],
   "source": [
    "tokenized_4 = dsds.text.apply((lambda x: tokenizer.encode(x, add_special_tokens=True, truncation=True, max_length = 70)))"
   ]
  },
  {
   "cell_type": "code",
   "execution_count": 22,
   "metadata": {
    "ExecuteTime": {
     "end_time": "2022-05-22T10:47:25.344298Z",
     "start_time": "2022-05-22T10:47:25.011005Z"
    }
   },
   "outputs": [],
   "source": [
    "padded_4 = np.array([i + [0]*(70-len(i)) for i in tokenized_4.values])\n",
    "attention_mask_4 = np.where(padded_4 != 0, 1, 0)"
   ]
  },
  {
   "cell_type": "code",
   "execution_count": 37,
   "metadata": {
    "ExecuteTime": {
     "end_time": "2022-05-22T11:20:52.404577Z",
     "start_time": "2022-05-22T10:48:37.510267Z"
    }
   },
   "outputs": [
    {
     "data": {
      "application/vnd.jupyter.widget-view+json": {
       "model_id": "94942d4ad4bc42b386c8b1a9b36a051d",
       "version_major": 2,
       "version_minor": 0
      },
      "text/plain": [
       "  0%|          | 0/230 [00:00<?, ?it/s]"
      ]
     },
     "metadata": {},
     "output_type": "display_data"
    }
   ],
   "source": [
    "embeddings_4 = []\n",
    "batch_size = 65\n",
    "for i in notebook.tqdm(range(padded_4.shape[0] // batch_size)):\n",
    "    batch_4 = torch.LongTensor(padded_4[batch_size*i:batch_size*(i+1)])\n",
    "    attention_mask_batch_4 = torch.LongTensor(attention_mask_4[batch_size*i:batch_size*(i+1)])\n",
    "    batch_embeddings_4 = model(batch_4, attention_mask=attention_mask_batch_4)\n",
    "    with torch.no_grad():\n",
    "        batch_embeddings_4 = model(batch_4, attention_mask=attention_mask_batch_4) \n",
    "    embeddings_4.append(batch_embeddings_4[0][:,0,:].numpy())"
   ]
  },
  {
   "cell_type": "code",
   "execution_count": 38,
   "metadata": {
    "ExecuteTime": {
     "end_time": "2022-05-22T11:20:52.503047Z",
     "start_time": "2022-05-22T11:20:52.462888Z"
    }
   },
   "outputs": [],
   "source": [
    "del batch_4\n",
    "del attention_mask_batch_4\n",
    "del batch_embeddings_4"
   ]
  },
  {
   "cell_type": "code",
   "execution_count": 29,
   "metadata": {
    "ExecuteTime": {
     "end_time": "2022-05-21T17:39:04.004137Z",
     "start_time": "2022-05-21T17:39:03.988293Z"
    }
   },
   "outputs": [
    {
     "data": {
      "text/plain": [
       "False"
      ]
     },
     "execution_count": 29,
     "metadata": {},
     "output_type": "execute_result"
    }
   ],
   "source": [
    "torch.cuda.is_available()"
   ]
  },
  {
   "cell_type": "markdown",
   "metadata": {},
   "source": [
    "## Обучение"
   ]
  },
  {
   "cell_type": "code",
   "execution_count": 48,
   "metadata": {
    "ExecuteTime": {
     "end_time": "2022-05-22T11:37:27.602654Z",
     "start_time": "2022-05-22T11:37:27.516417Z"
    }
   },
   "outputs": [
    {
     "data": {
      "text/plain": [
       "(15000, 2)"
      ]
     },
     "execution_count": 48,
     "metadata": {},
     "output_type": "execute_result"
    }
   ],
   "source": [
    "dsds.shape"
   ]
  },
  {
   "cell_type": "code",
   "execution_count": 106,
   "metadata": {
    "ExecuteTime": {
     "end_time": "2022-05-22T12:15:05.135837Z",
     "start_time": "2022-05-22T12:15:04.893712Z"
    }
   },
   "outputs": [],
   "source": [
    "features_train_3 = np.concatenate(embeddings_3) \n",
    "target_train_3 = ads.toxic[:32435]\n",
    "\n",
    "features_valid, features_test = train_test_split(np.concatenate(embeddings_4) , shuffle=False, test_size=0.4)\n",
    "target_valid, target_test = train_test_split(dsds.toxic[:14950], shuffle=False, test_size=0.4)"
   ]
  },
  {
   "cell_type": "code",
   "execution_count": 102,
   "metadata": {
    "ExecuteTime": {
     "end_time": "2022-05-22T12:11:48.675394Z",
     "start_time": "2022-05-22T12:10:53.918512Z"
    }
   },
   "outputs": [
    {
     "data": {
      "text/plain": [
       "array([0.6165781 , 0.30846366, 0.0265985 , ..., 0.02024329, 0.05730441,\n",
       "       0.87498254], dtype=float32)"
      ]
     },
     "execution_count": 102,
     "metadata": {},
     "output_type": "execute_result"
    }
   ],
   "source": [
    "model_log = LogisticRegression(random_state=1234, C = 10, solver = 'saga')\n",
    "model_log.fit(features_train_3, target_train_3)\n",
    "log_probas = model_log.predict_proba(features_valid)\n",
    "log_probas_of_1 = log_probas[:, 1]\n",
    "log_probas_of_1"
   ]
  },
  {
   "cell_type": "code",
   "execution_count": 103,
   "metadata": {
    "ExecuteTime": {
     "end_time": "2022-05-22T12:12:01.087204Z",
     "start_time": "2022-05-22T12:11:51.551678Z"
    }
   },
   "outputs": [
    {
     "data": {
      "application/vnd.jupyter.widget-view+json": {
       "model_id": "65cf6eb8fe09460a9aef5b77e2bd0849",
       "version_major": 2,
       "version_minor": 0
      },
      "text/plain": [
       "  0%|          | 0/200 [00:00<?, ?it/s]"
      ]
     },
     "metadata": {},
     "output_type": "display_data"
    },
    {
     "name": "stdout",
     "output_type": "stream",
     "text": [
      "0.7491166077738516   0.81\n"
     ]
    }
   ],
   "source": [
    "best_f1_log_thr = 0\n",
    "for i in notebook.tqdm(np.arange(0,1,0.005)):\n",
    "    asda = pd.Series([own_activator(i, x) for x in log_probas_of_1])\n",
    "    if f1_score(target_valid, asda) > best_f1_log_thr:\n",
    "        best_f1_log_thr = f1_score(target_valid, asda)\n",
    "        best_ii = i\n",
    "print(best_f1_log_thr, ' ', best_ii)"
   ]
  },
  {
   "cell_type": "code",
   "execution_count": 107,
   "metadata": {
    "ExecuteTime": {
     "end_time": "2022-05-22T12:15:14.845074Z",
     "start_time": "2022-05-22T12:15:14.771304Z"
    }
   },
   "outputs": [
    {
     "data": {
      "text/plain": [
       "0.758893280632411"
      ]
     },
     "execution_count": 107,
     "metadata": {},
     "output_type": "execute_result"
    }
   ],
   "source": [
    "#model_log = LogisticRegression(random_state=1234, C = 10, solver = 'saga')\n",
    "#model_log.fit(features_train_3, target_train_3)\n",
    "log_probas = model_log.predict_proba(features_test)\n",
    "log_probas_of_1 = log_probas[:, 1]\n",
    "asda = pd.Series([own_activator(0.81, x) for x in log_probas_of_1])\n",
    "f1_score(target_test, asda)"
   ]
  },
  {
   "cell_type": "code",
   "execution_count": 66,
   "metadata": {
    "ExecuteTime": {
     "end_time": "2022-05-22T11:55:18.699039Z",
     "start_time": "2022-05-22T11:55:09.725042Z"
    }
   },
   "outputs": [
    {
     "data": {
      "application/vnd.jupyter.widget-view+json": {
       "model_id": "132f51434bae47b283713f1103e31aad",
       "version_major": 2,
       "version_minor": 0
      },
      "text/plain": [
       "  0%|          | 0/3 [00:00<?, ?it/s]"
      ]
     },
     "metadata": {},
     "output_type": "display_data"
    },
    {
     "ename": "ValueError",
     "evalue": "The truth value of an array with more than one element is ambiguous. Use a.any() or a.all()",
     "output_type": "error",
     "traceback": [
      "\u001b[1;31m---------------------------------------------------------------------------\u001b[0m",
      "\u001b[1;31mValueError\u001b[0m                                Traceback (most recent call last)",
      "\u001b[1;32m~\\AppData\\Local\\Temp/ipykernel_9200/2878970232.py\u001b[0m in \u001b[0;36m<module>\u001b[1;34m\u001b[0m\n\u001b[0;32m      8\u001b[0m         \u001b[0masda\u001b[0m \u001b[1;33m=\u001b[0m \u001b[0mpd\u001b[0m\u001b[1;33m.\u001b[0m\u001b[0mSeries\u001b[0m\u001b[1;33m(\u001b[0m\u001b[1;33m[\u001b[0m\u001b[0mown_activator\u001b[0m\u001b[1;33m(\u001b[0m\u001b[1;36m0.84\u001b[0m\u001b[1;33m,\u001b[0m \u001b[0mx\u001b[0m\u001b[1;33m)\u001b[0m \u001b[1;32mfor\u001b[0m \u001b[0mx\u001b[0m \u001b[1;32min\u001b[0m \u001b[0mlog_probas_of_1\u001b[0m\u001b[1;33m]\u001b[0m\u001b[1;33m)\u001b[0m\u001b[1;33m\u001b[0m\u001b[1;33m\u001b[0m\u001b[0m\n\u001b[0;32m      9\u001b[0m         \u001b[0masda\u001b[0m \u001b[1;33m=\u001b[0m \u001b[0mpd\u001b[0m\u001b[1;33m.\u001b[0m\u001b[0mSeries\u001b[0m\u001b[1;33m(\u001b[0m\u001b[0mlog_probas_of_1\u001b[0m\u001b[1;33m)\u001b[0m\u001b[1;33m.\u001b[0m\u001b[0mapply\u001b[0m\u001b[1;33m(\u001b[0m\u001b[1;32mlambda\u001b[0m \u001b[0mx\u001b[0m\u001b[1;33m:\u001b[0m\u001b[0mown_activator\u001b[0m\u001b[1;33m(\u001b[0m\u001b[1;36m0.84\u001b[0m\u001b[1;33m,\u001b[0m \u001b[0mx\u001b[0m\u001b[1;33m)\u001b[0m\u001b[1;33m)\u001b[0m\u001b[1;33m\u001b[0m\u001b[1;33m\u001b[0m\u001b[0m\n\u001b[1;32m---> 10\u001b[1;33m         \u001b[1;32mif\u001b[0m \u001b[0mf1_score\u001b[0m\u001b[1;33m(\u001b[0m\u001b[0mtarget_valid\u001b[0m\u001b[1;33m,\u001b[0m \u001b[0masda\u001b[0m\u001b[1;33m)\u001b[0m \u001b[1;33m>\u001b[0m \u001b[0mbest_f1_log\u001b[0m\u001b[1;33m:\u001b[0m\u001b[1;33m\u001b[0m\u001b[1;33m\u001b[0m\u001b[0m\n\u001b[0m\u001b[0;32m     11\u001b[0m             \u001b[0mbest_f1_log\u001b[0m \u001b[1;33m=\u001b[0m \u001b[1;33m(\u001b[0m\u001b[0mtarget_valid\u001b[0m\u001b[1;33m,\u001b[0m \u001b[0masda\u001b[0m\u001b[1;33m)\u001b[0m\u001b[1;33m\u001b[0m\u001b[1;33m\u001b[0m\u001b[0m\n\u001b[0;32m     12\u001b[0m             \u001b[0mbest_c\u001b[0m \u001b[1;33m=\u001b[0m \u001b[0mi\u001b[0m\u001b[1;33m\u001b[0m\u001b[1;33m\u001b[0m\u001b[0m\n",
      "\u001b[1;31mValueError\u001b[0m: The truth value of an array with more than one element is ambiguous. Use a.any() or a.all()"
     ]
    }
   ],
   "source": [
    "best_f1_log = 0\n",
    "for i in [0.001, 0.01, 0.1, 1 , 10, 100]:\n",
    "    for k in notebook.tqdm(['newton-cg', 'liblinear', 'sag']):\n",
    "        model_log = LogisticRegression(random_state=1234, C = i,  solver = k)\n",
    "        model_log.fit(features_train_3, target_train_3)\n",
    "        log_probas = model_log.predict_proba(features_valid)\n",
    "        log_probas_of_1 = log_probas[:, 1]\n",
    "        asda = pd.Series([own_activator(0.84, x) for x in log_probas_of_1])\n",
    "        asda = pd.Series(log_probas_of_1).apply(lambda x:own_activator(0.84, x))\n",
    "        if f1_score(target_valid, asda) > best_f1_log:\n",
    "            best_f1_log = (target_valid, asda)\n",
    "            best_c = i\n",
    "            best_solver = k\n",
    "    print(f'пока лучшее f1 = {best_f1_log} при С = {best_c} и solver = {best_solver}')\n",
    "    print('----------------------------------------------------------------')\n",
    "print(f'лучшее значение f1 = {best_f1_log} при С = {best_c} и  solver = {best_solver}')"
   ]
  },
  {
   "cell_type": "code",
   "execution_count": 30,
   "metadata": {
    "ExecuteTime": {
     "end_time": "2022-05-21T17:39:06.801734Z",
     "start_time": "2022-05-21T17:39:06.694038Z"
    }
   },
   "outputs": [
    {
     "data": {
      "application/vnd.jupyter.widget-view+json": {
       "model_id": "ef2b471b5f6a47bc9e2818c6e59e96df",
       "version_major": 2,
       "version_minor": 0
      },
      "text/plain": [
       "  0%|          | 0/499 [00:00<?, ?it/s]"
      ]
     },
     "metadata": {},
     "output_type": "display_data"
    },
    {
     "ename": "AssertionError",
     "evalue": "Torch not compiled with CUDA enabled",
     "output_type": "error",
     "traceback": [
      "\u001b[1;31m---------------------------------------------------------------------------\u001b[0m",
      "\u001b[1;31mAssertionError\u001b[0m                            Traceback (most recent call last)",
      "\u001b[1;32m~\\AppData\\Local\\Temp/ipykernel_9200/3170874056.py\u001b[0m in \u001b[0;36m<module>\u001b[1;34m\u001b[0m\n\u001b[0;32m      3\u001b[0m \u001b[0membeddings_3\u001b[0m \u001b[1;33m=\u001b[0m \u001b[1;33m[\u001b[0m\u001b[1;33m]\u001b[0m\u001b[1;33m\u001b[0m\u001b[1;33m\u001b[0m\u001b[0m\n\u001b[0;32m      4\u001b[0m \u001b[1;32mfor\u001b[0m \u001b[0mi\u001b[0m \u001b[1;32min\u001b[0m \u001b[0mnotebook\u001b[0m\u001b[1;33m.\u001b[0m\u001b[0mtqdm\u001b[0m\u001b[1;33m(\u001b[0m\u001b[0mrange\u001b[0m\u001b[1;33m(\u001b[0m\u001b[0mpadded_3\u001b[0m\u001b[1;33m.\u001b[0m\u001b[0mshape\u001b[0m\u001b[1;33m[\u001b[0m\u001b[1;36m0\u001b[0m\u001b[1;33m]\u001b[0m \u001b[1;33m//\u001b[0m \u001b[0mbatch_size\u001b[0m\u001b[1;33m)\u001b[0m\u001b[1;33m)\u001b[0m\u001b[1;33m:\u001b[0m\u001b[1;33m\u001b[0m\u001b[1;33m\u001b[0m\u001b[0m\n\u001b[1;32m----> 5\u001b[1;33m         \u001b[0mbatch_3\u001b[0m \u001b[1;33m=\u001b[0m \u001b[0mtorch\u001b[0m\u001b[1;33m.\u001b[0m\u001b[0mLongTensor\u001b[0m\u001b[1;33m(\u001b[0m\u001b[0mpadded_3\u001b[0m\u001b[1;33m[\u001b[0m\u001b[0mbatch_size\u001b[0m\u001b[1;33m*\u001b[0m\u001b[0mi\u001b[0m\u001b[1;33m:\u001b[0m\u001b[0mbatch_size\u001b[0m\u001b[1;33m*\u001b[0m\u001b[1;33m(\u001b[0m\u001b[0mi\u001b[0m\u001b[1;33m+\u001b[0m\u001b[1;36m1\u001b[0m\u001b[1;33m)\u001b[0m\u001b[1;33m]\u001b[0m\u001b[1;33m)\u001b[0m\u001b[1;33m.\u001b[0m\u001b[0mcuda\u001b[0m\u001b[1;33m(\u001b[0m\u001b[1;33m)\u001b[0m \u001b[1;31m# закидываем тензор на GPU\u001b[0m\u001b[1;33m\u001b[0m\u001b[1;33m\u001b[0m\u001b[0m\n\u001b[0m\u001b[0;32m      6\u001b[0m         \u001b[0mattention_mask_batch_3\u001b[0m \u001b[1;33m=\u001b[0m \u001b[0mtorch\u001b[0m\u001b[1;33m.\u001b[0m\u001b[0mLongTensor\u001b[0m\u001b[1;33m(\u001b[0m\u001b[0mattention_mask_3\u001b[0m\u001b[1;33m[\u001b[0m\u001b[0mbatch_size\u001b[0m\u001b[1;33m*\u001b[0m\u001b[0mi\u001b[0m\u001b[1;33m:\u001b[0m\u001b[0mbatch_size\u001b[0m\u001b[1;33m*\u001b[0m\u001b[1;33m(\u001b[0m\u001b[0mi\u001b[0m\u001b[1;33m+\u001b[0m\u001b[1;36m1\u001b[0m\u001b[1;33m)\u001b[0m\u001b[1;33m]\u001b[0m\u001b[1;33m)\u001b[0m\u001b[1;33m.\u001b[0m\u001b[0mcuda\u001b[0m\u001b[1;33m(\u001b[0m\u001b[1;33m)\u001b[0m\u001b[1;33m\u001b[0m\u001b[1;33m\u001b[0m\u001b[0m\n\u001b[0;32m      7\u001b[0m \u001b[1;33m\u001b[0m\u001b[0m\n",
      "\u001b[1;32m~\\AppData\\Local\\Programs\\Python\\Python39\\lib\\site-packages\\torch\\cuda\\__init__.py\u001b[0m in \u001b[0;36m_lazy_init\u001b[1;34m()\u001b[0m\n\u001b[0;32m    208\u001b[0m                 \"multiprocessing, you must use the 'spawn' start method\")\n\u001b[0;32m    209\u001b[0m         \u001b[1;32mif\u001b[0m \u001b[1;32mnot\u001b[0m \u001b[0mhasattr\u001b[0m\u001b[1;33m(\u001b[0m\u001b[0mtorch\u001b[0m\u001b[1;33m.\u001b[0m\u001b[0m_C\u001b[0m\u001b[1;33m,\u001b[0m \u001b[1;34m'_cuda_getDeviceCount'\u001b[0m\u001b[1;33m)\u001b[0m\u001b[1;33m:\u001b[0m\u001b[1;33m\u001b[0m\u001b[1;33m\u001b[0m\u001b[0m\n\u001b[1;32m--> 210\u001b[1;33m             \u001b[1;32mraise\u001b[0m \u001b[0mAssertionError\u001b[0m\u001b[1;33m(\u001b[0m\u001b[1;34m\"Torch not compiled with CUDA enabled\"\u001b[0m\u001b[1;33m)\u001b[0m\u001b[1;33m\u001b[0m\u001b[1;33m\u001b[0m\u001b[0m\n\u001b[0m\u001b[0;32m    211\u001b[0m         \u001b[1;32mif\u001b[0m \u001b[0m_cudart\u001b[0m \u001b[1;32mis\u001b[0m \u001b[1;32mNone\u001b[0m\u001b[1;33m:\u001b[0m\u001b[1;33m\u001b[0m\u001b[1;33m\u001b[0m\u001b[0m\n\u001b[0;32m    212\u001b[0m             raise AssertionError(\n",
      "\u001b[1;31mAssertionError\u001b[0m: Torch not compiled with CUDA enabled"
     ]
    }
   ],
   "source": [
    "from tqdm import notebook\n",
    "batch_size = 65 # для примера возьмем такой батч, где будет всего две строки датасета\n",
    "embeddings_3 = [] \n",
    "for i in notebook.tqdm(range(padded_3.shape[0] // batch_size)):\n",
    "        batch_3 = torch.LongTensor(padded_3[batch_size*i:batch_size*(i+1)]).cuda() # закидываем тензор на GPU\n",
    "        attention_mask_batch_3 = torch.LongTensor(attention_mask_3[batch_size*i:batch_size*(i+1)]).cuda()\n",
    "\n",
    "        with torch.no_grad():\n",
    "            model.cuda()\n",
    "            batch_embeddings_3 = model(batch_3, attention_mask=attention_mask_batch_3)\n",
    "\n",
    "        embeddings_3.append(batch_embeddings_3[0][:,0,:].cpu().numpy()) # перевод обратно на проц, чтобы в нумпай кинуть\n",
    "        del batch_3\n",
    "        del attention_mask_batch_3\n",
    "        del batch_embeddings_3\n",
    "\n",
    "features_3 = np.concatenate(embeddings_3) "
   ]
  },
  {
   "cell_type": "markdown",
   "metadata": {},
   "source": [
    "Как мы можем заметить, классы не сбалансированны. По идее, это не должно вызвать проблем, просто укажем аргумент stratify=Target, тогда train_test_split равномерно распределит наблюдения с разными целевыми признаками. с учетом того, что состовляющей целевой метрики является precision, если возникнут проблемы - то проведем балансировку классов."
   ]
  },
  {
   "cell_type": "markdown",
   "metadata": {},
   "source": [
    "### Тестирование меньшей выборки "
   ]
  },
  {
   "cell_type": "code",
   "execution_count": 14,
   "metadata": {
    "ExecuteTime": {
     "end_time": "2022-05-21T13:50:10.620076Z",
     "start_time": "2022-05-21T13:50:09.742404Z"
    }
   },
   "outputs": [],
   "source": [
    "model_class, tokenizer_class, pretrained_weights = (ppb.DistilBertModel, ppb.DistilBertTokenizer, 'distilbert-base-uncased')"
   ]
  },
  {
   "cell_type": "code",
   "execution_count": 15,
   "metadata": {
    "ExecuteTime": {
     "end_time": "2022-05-21T13:50:26.758764Z",
     "start_time": "2022-05-21T13:50:12.370799Z"
    },
    "scrolled": true
   },
   "outputs": [
    {
     "data": {
      "application/vnd.jupyter.widget-view+json": {
       "model_id": "b3242c43b7b640ada0e7419f206c8c5d",
       "version_major": 2,
       "version_minor": 0
      },
      "text/plain": [
       "Downloading:   0%|          | 0.00/226k [00:00<?, ?B/s]"
      ]
     },
     "metadata": {},
     "output_type": "display_data"
    },
    {
     "data": {
      "application/vnd.jupyter.widget-view+json": {
       "model_id": "cccd572338d047069d0122a970bc25e5",
       "version_major": 2,
       "version_minor": 0
      },
      "text/plain": [
       "Downloading:   0%|          | 0.00/28.0 [00:00<?, ?B/s]"
      ]
     },
     "metadata": {},
     "output_type": "display_data"
    },
    {
     "data": {
      "application/vnd.jupyter.widget-view+json": {
       "model_id": "afc4eb51a3314b47af5a2f015d92aa26",
       "version_major": 2,
       "version_minor": 0
      },
      "text/plain": [
       "Downloading:   0%|          | 0.00/455k [00:00<?, ?B/s]"
      ]
     },
     "metadata": {},
     "output_type": "display_data"
    },
    {
     "data": {
      "application/vnd.jupyter.widget-view+json": {
       "model_id": "b00e3224a2c94a3d8693c5686c1926a3",
       "version_major": 2,
       "version_minor": 0
      },
      "text/plain": [
       "Downloading:   0%|          | 0.00/483 [00:00<?, ?B/s]"
      ]
     },
     "metadata": {},
     "output_type": "display_data"
    },
    {
     "data": {
      "application/vnd.jupyter.widget-view+json": {
       "model_id": "4cae9b51c6c64723ab2fb1f4f7462582",
       "version_major": 2,
       "version_minor": 0
      },
      "text/plain": [
       "Downloading:   0%|          | 0.00/256M [00:00<?, ?B/s]"
      ]
     },
     "metadata": {},
     "output_type": "display_data"
    },
    {
     "name": "stderr",
     "output_type": "stream",
     "text": [
      "Some weights of the model checkpoint at distilbert-base-uncased were not used when initializing DistilBertModel: ['vocab_layer_norm.weight', 'vocab_transform.weight', 'vocab_projector.weight', 'vocab_layer_norm.bias', 'vocab_projector.bias', 'vocab_transform.bias']\n",
      "- This IS expected if you are initializing DistilBertModel from the checkpoint of a model trained on another task or with another architecture (e.g. initializing a BertForSequenceClassification model from a BertForPreTraining model).\n",
      "- This IS NOT expected if you are initializing DistilBertModel from the checkpoint of a model that you expect to be exactly identical (initializing a BertForSequenceClassification model from a BertForSequenceClassification model).\n"
     ]
    }
   ],
   "source": [
    "tokenizer = tokenizer_class.from_pretrained(pretrained_weights)\n",
    "model = model_class.from_pretrained(pretrained_weights)"
   ]
  },
  {
   "cell_type": "markdown",
   "metadata": {},
   "source": [
    "на этои этапе было решено ограничить количесво токенов до 50"
   ]
  },
  {
   "cell_type": "code",
   "execution_count": 6,
   "metadata": {
    "scrolled": true
   },
   "outputs": [],
   "source": [
    "tokenized = data_shorten.text.apply((lambda x: tokenizer.encode(x, add_special_tokens=True, truncation=True, max_length = 50)))"
   ]
  },
  {
   "cell_type": "code",
   "execution_count": 26,
   "metadata": {},
   "outputs": [
    {
     "data": {
      "text/plain": [
       "0        [101, 7526, 2339, 1996, 10086, 2015, 2081, 210...\n",
       "1        [101, 1040, 1005, 22091, 2860, 999, 2002, 3503...\n",
       "2        [101, 4931, 2158, 1010, 1045, 1005, 1049, 2428...\n",
       "3        [101, 1000, 2062, 1045, 2064, 1005, 1056, 2191...\n",
       "4        [101, 2017, 1010, 2909, 1010, 2024, 2026, 5394...\n",
       "                               ...                        \n",
       "15952    [101, 22073, 2216, 22073, 2024, 7570, 18752, 2...\n",
       "15953    [101, 23156, 2017, 1005, 2128, 2085, 2019, 474...\n",
       "15954    [101, 1045, 1005, 2310, 2464, 10287, 2006, 199...\n",
       "15955    [101, 7632, 1010, 1996, 3522, 10086, 2017, 208...\n",
       "15956    [101, 10166, 1010, 2054, 2019, 9788, 2079, 191...\n",
       "Name: text, Length: 15957, dtype: object"
      ]
     },
     "execution_count": 26,
     "metadata": {},
     "output_type": "execute_result"
    }
   ],
   "source": [
    "tokenized"
   ]
  },
  {
   "cell_type": "code",
   "execution_count": 27,
   "metadata": {},
   "outputs": [
    {
     "data": {
      "text/plain": [
       "50"
      ]
     },
     "execution_count": 27,
     "metadata": {},
     "output_type": "execute_result"
    }
   ],
   "source": [
    "sorted([len(x) for x in tokenized])[-1]"
   ]
  },
  {
   "cell_type": "code",
   "execution_count": 7,
   "metadata": {},
   "outputs": [],
   "source": [
    "padded = np.array([i + [0]*(50-len(i)) for i in tokenized.values])"
   ]
  },
  {
   "cell_type": "code",
   "execution_count": 8,
   "metadata": {},
   "outputs": [],
   "source": [
    "attention_mask = np.where(padded != 0, 1, 0)"
   ]
  },
  {
   "cell_type": "code",
   "execution_count": 30,
   "metadata": {},
   "outputs": [
    {
     "data": {
      "text/plain": [
       "array([[  101,  7526,  2339, ...,  1996, 23561,   102],\n",
       "       [  101,  1040,  1005, ...,     0,     0,     0],\n",
       "       [  101,  4931,  2158, ...,  3436,  2084,   102],\n",
       "       ...,\n",
       "       [  101,  1045,  1005, ...,  2897,  1011,   102],\n",
       "       [  101,  7632,  1010, ...,   102,     0,     0],\n",
       "       [  101, 10166,  1010, ...,     0,     0,     0]])"
      ]
     },
     "execution_count": 30,
     "metadata": {},
     "output_type": "execute_result"
    }
   ],
   "source": [
    "padded"
   ]
  },
  {
   "cell_type": "code",
   "execution_count": 31,
   "metadata": {},
   "outputs": [
    {
     "data": {
      "text/plain": [
       "8337"
      ]
     },
     "execution_count": 31,
     "metadata": {},
     "output_type": "execute_result"
    }
   ],
   "source": [
    "len([x for x in padded if 0 not in x])# смотрим, сколько твитов у которых токенов больше, чем 50"
   ]
  },
  {
   "cell_type": "code",
   "execution_count": 18,
   "metadata": {
    "scrolled": true
   },
   "outputs": [
    {
     "ename": "RuntimeError",
     "evalue": "[enforce fail at C:\\actions-runner\\_work\\pytorch\\pytorch\\builder\\windows\\pytorch\\c10\\core\\impl\\alloc_cpu.cpp:81] data. DefaultCPUAllocator: not enough memory: you tried to allocate 24510105600 bytes.",
     "output_type": "error",
     "traceback": [
      "\u001b[1;31m---------------------------------------------------------------------------\u001b[0m",
      "\u001b[1;31mRuntimeError\u001b[0m                              Traceback (most recent call last)",
      "\u001b[1;32m~\\AppData\\Local\\Temp/ipykernel_4968/1215578499.py\u001b[0m in \u001b[0;36m<module>\u001b[1;34m\u001b[0m\n\u001b[0;32m      3\u001b[0m \u001b[1;33m\u001b[0m\u001b[0m\n\u001b[0;32m      4\u001b[0m \u001b[1;32mwith\u001b[0m \u001b[0mtorch\u001b[0m\u001b[1;33m.\u001b[0m\u001b[0mno_grad\u001b[0m\u001b[1;33m(\u001b[0m\u001b[1;33m)\u001b[0m\u001b[1;33m:\u001b[0m\u001b[1;33m\u001b[0m\u001b[1;33m\u001b[0m\u001b[0m\n\u001b[1;32m----> 5\u001b[1;33m     \u001b[0mlast_hidden_states\u001b[0m \u001b[1;33m=\u001b[0m \u001b[0mmodel\u001b[0m\u001b[1;33m(\u001b[0m\u001b[0minput_ids\u001b[0m\u001b[1;33m,\u001b[0m \u001b[0mattention_mask\u001b[0m\u001b[1;33m=\u001b[0m\u001b[0mattention_mask\u001b[0m\u001b[1;33m)\u001b[0m\u001b[1;33m\u001b[0m\u001b[1;33m\u001b[0m\u001b[0m\n\u001b[0m",
      "\u001b[1;32m~\\AppData\\Local\\Programs\\Python\\Python39\\lib\\site-packages\\torch\\nn\\modules\\module.py\u001b[0m in \u001b[0;36m_call_impl\u001b[1;34m(self, *input, **kwargs)\u001b[0m\n\u001b[0;32m   1108\u001b[0m         if not (self._backward_hooks or self._forward_hooks or self._forward_pre_hooks or _global_backward_hooks\n\u001b[0;32m   1109\u001b[0m                 or _global_forward_hooks or _global_forward_pre_hooks):\n\u001b[1;32m-> 1110\u001b[1;33m             \u001b[1;32mreturn\u001b[0m \u001b[0mforward_call\u001b[0m\u001b[1;33m(\u001b[0m\u001b[1;33m*\u001b[0m\u001b[0minput\u001b[0m\u001b[1;33m,\u001b[0m \u001b[1;33m**\u001b[0m\u001b[0mkwargs\u001b[0m\u001b[1;33m)\u001b[0m\u001b[1;33m\u001b[0m\u001b[1;33m\u001b[0m\u001b[0m\n\u001b[0m\u001b[0;32m   1111\u001b[0m         \u001b[1;31m# Do not call functions when jit is used\u001b[0m\u001b[1;33m\u001b[0m\u001b[1;33m\u001b[0m\u001b[1;33m\u001b[0m\u001b[0m\n\u001b[0;32m   1112\u001b[0m         \u001b[0mfull_backward_hooks\u001b[0m\u001b[1;33m,\u001b[0m \u001b[0mnon_full_backward_hooks\u001b[0m \u001b[1;33m=\u001b[0m \u001b[1;33m[\u001b[0m\u001b[1;33m]\u001b[0m\u001b[1;33m,\u001b[0m \u001b[1;33m[\u001b[0m\u001b[1;33m]\u001b[0m\u001b[1;33m\u001b[0m\u001b[1;33m\u001b[0m\u001b[0m\n",
      "\u001b[1;32m~\\AppData\\Local\\Programs\\Python\\Python39\\lib\\site-packages\\transformers\\models\\distilbert\\modeling_distilbert.py\u001b[0m in \u001b[0;36mforward\u001b[1;34m(self, input_ids, attention_mask, head_mask, inputs_embeds, output_attentions, output_hidden_states, return_dict)\u001b[0m\n\u001b[0;32m    564\u001b[0m \u001b[1;33m\u001b[0m\u001b[0m\n\u001b[0;32m    565\u001b[0m         \u001b[1;32mif\u001b[0m \u001b[0minputs_embeds\u001b[0m \u001b[1;32mis\u001b[0m \u001b[1;32mNone\u001b[0m\u001b[1;33m:\u001b[0m\u001b[1;33m\u001b[0m\u001b[1;33m\u001b[0m\u001b[0m\n\u001b[1;32m--> 566\u001b[1;33m             \u001b[0minputs_embeds\u001b[0m \u001b[1;33m=\u001b[0m \u001b[0mself\u001b[0m\u001b[1;33m.\u001b[0m\u001b[0membeddings\u001b[0m\u001b[1;33m(\u001b[0m\u001b[0minput_ids\u001b[0m\u001b[1;33m)\u001b[0m  \u001b[1;31m# (bs, seq_length, dim)\u001b[0m\u001b[1;33m\u001b[0m\u001b[1;33m\u001b[0m\u001b[0m\n\u001b[0m\u001b[0;32m    567\u001b[0m         return self.transformer(\n\u001b[0;32m    568\u001b[0m             \u001b[0mx\u001b[0m\u001b[1;33m=\u001b[0m\u001b[0minputs_embeds\u001b[0m\u001b[1;33m,\u001b[0m\u001b[1;33m\u001b[0m\u001b[1;33m\u001b[0m\u001b[0m\n",
      "\u001b[1;32m~\\AppData\\Local\\Programs\\Python\\Python39\\lib\\site-packages\\torch\\nn\\modules\\module.py\u001b[0m in \u001b[0;36m_call_impl\u001b[1;34m(self, *input, **kwargs)\u001b[0m\n\u001b[0;32m   1108\u001b[0m         if not (self._backward_hooks or self._forward_hooks or self._forward_pre_hooks or _global_backward_hooks\n\u001b[0;32m   1109\u001b[0m                 or _global_forward_hooks or _global_forward_pre_hooks):\n\u001b[1;32m-> 1110\u001b[1;33m             \u001b[1;32mreturn\u001b[0m \u001b[0mforward_call\u001b[0m\u001b[1;33m(\u001b[0m\u001b[1;33m*\u001b[0m\u001b[0minput\u001b[0m\u001b[1;33m,\u001b[0m \u001b[1;33m**\u001b[0m\u001b[0mkwargs\u001b[0m\u001b[1;33m)\u001b[0m\u001b[1;33m\u001b[0m\u001b[1;33m\u001b[0m\u001b[0m\n\u001b[0m\u001b[0;32m   1111\u001b[0m         \u001b[1;31m# Do not call functions when jit is used\u001b[0m\u001b[1;33m\u001b[0m\u001b[1;33m\u001b[0m\u001b[1;33m\u001b[0m\u001b[0m\n\u001b[0;32m   1112\u001b[0m         \u001b[0mfull_backward_hooks\u001b[0m\u001b[1;33m,\u001b[0m \u001b[0mnon_full_backward_hooks\u001b[0m \u001b[1;33m=\u001b[0m \u001b[1;33m[\u001b[0m\u001b[1;33m]\u001b[0m\u001b[1;33m,\u001b[0m \u001b[1;33m[\u001b[0m\u001b[1;33m]\u001b[0m\u001b[1;33m\u001b[0m\u001b[1;33m\u001b[0m\u001b[0m\n",
      "\u001b[1;32m~\\AppData\\Local\\Programs\\Python\\Python39\\lib\\site-packages\\transformers\\models\\distilbert\\modeling_distilbert.py\u001b[0m in \u001b[0;36mforward\u001b[1;34m(self, input_ids)\u001b[0m\n\u001b[0;32m    130\u001b[0m         \u001b[0mposition_embeddings\u001b[0m \u001b[1;33m=\u001b[0m \u001b[0mself\u001b[0m\u001b[1;33m.\u001b[0m\u001b[0mposition_embeddings\u001b[0m\u001b[1;33m(\u001b[0m\u001b[0mposition_ids\u001b[0m\u001b[1;33m)\u001b[0m  \u001b[1;31m# (bs, max_seq_length, dim)\u001b[0m\u001b[1;33m\u001b[0m\u001b[1;33m\u001b[0m\u001b[0m\n\u001b[0;32m    131\u001b[0m \u001b[1;33m\u001b[0m\u001b[0m\n\u001b[1;32m--> 132\u001b[1;33m         \u001b[0membeddings\u001b[0m \u001b[1;33m=\u001b[0m \u001b[0mword_embeddings\u001b[0m \u001b[1;33m+\u001b[0m \u001b[0mposition_embeddings\u001b[0m  \u001b[1;31m# (bs, max_seq_length, dim)\u001b[0m\u001b[1;33m\u001b[0m\u001b[1;33m\u001b[0m\u001b[0m\n\u001b[0m\u001b[0;32m    133\u001b[0m         \u001b[0membeddings\u001b[0m \u001b[1;33m=\u001b[0m \u001b[0mself\u001b[0m\u001b[1;33m.\u001b[0m\u001b[0mLayerNorm\u001b[0m\u001b[1;33m(\u001b[0m\u001b[0membeddings\u001b[0m\u001b[1;33m)\u001b[0m  \u001b[1;31m# (bs, max_seq_length, dim)\u001b[0m\u001b[1;33m\u001b[0m\u001b[1;33m\u001b[0m\u001b[0m\n\u001b[0;32m    134\u001b[0m         \u001b[0membeddings\u001b[0m \u001b[1;33m=\u001b[0m \u001b[0mself\u001b[0m\u001b[1;33m.\u001b[0m\u001b[0mdropout\u001b[0m\u001b[1;33m(\u001b[0m\u001b[0membeddings\u001b[0m\u001b[1;33m)\u001b[0m  \u001b[1;31m# (bs, max_seq_length, dim)\u001b[0m\u001b[1;33m\u001b[0m\u001b[1;33m\u001b[0m\u001b[0m\n",
      "\u001b[1;31mRuntimeError\u001b[0m: [enforce fail at C:\\actions-runner\\_work\\pytorch\\pytorch\\builder\\windows\\pytorch\\c10\\core\\impl\\alloc_cpu.cpp:81] data. DefaultCPUAllocator: not enough memory: you tried to allocate 24510105600 bytes."
     ]
    }
   ],
   "source": [
    "# input_ids = torch.tensor(padded)  \n",
    "# attention_mask = torch.tensor(attention_mask)\n",
    "\n",
    "# with torch.no_grad():\n",
    "#     last_hidden_states = model(input_ids, attention_mask=attention_mask)"
   ]
  },
  {
   "cell_type": "code",
   "execution_count": 9,
   "metadata": {},
   "outputs": [
    {
     "data": {
      "application/vnd.jupyter.widget-view+json": {
       "model_id": "a8ce5b80f7e94c3aa9b0004a8e000c7e",
       "version_major": 2,
       "version_minor": 0
      },
      "text/plain": [
       "  0%|          | 0/159 [00:00<?, ?it/s]"
      ]
     },
     "metadata": {},
     "output_type": "display_data"
    }
   ],
   "source": [
    "embeddings = []\n",
    "batch_size = 100\n",
    "for i in notebook.tqdm(range(padded.shape[0] // batch_size)):\n",
    "    batch = torch.LongTensor(padded[batch_size*i:batch_size*(i+1)])\n",
    "    attention_mask_batch = torch.LongTensor(attention_mask[batch_size*i:batch_size*(i+1)])\n",
    "    batch_embeddings = model(batch, attention_mask=attention_mask_batch)\n",
    "    with torch.no_grad():\n",
    "        batch_embeddings = model(batch, attention_mask=attention_mask_batch) \n",
    "    embeddings.append(batch_embeddings[0][:,0,:].numpy()) "
   ]
  },
  {
   "cell_type": "code",
   "execution_count": 10,
   "metadata": {
    "scrolled": true
   },
   "outputs": [
    {
     "data": {
      "text/plain": [
       "[array([[ 0.28003666, -0.08690989, -0.15267448, ...,  0.10257843,\n",
       "          0.3546069 ,  0.39401293],\n",
       "        [-0.11879845, -0.15656321,  0.23836775, ..., -0.04899776,\n",
       "          0.5435743 ,  0.51480484],\n",
       "        [ 0.04395515,  0.0410918 , -0.18806638, ...,  0.07458772,\n",
       "          0.54399335,  0.3369531 ],\n",
       "        ...,\n",
       "        [-0.09021518, -0.03307031, -0.20066275, ..., -0.1549456 ,\n",
       "          0.17295207,  0.3198463 ],\n",
       "        [-0.04777775, -0.16367109, -0.05680871, ..., -0.07147679,\n",
       "          0.44510376,  0.46170077],\n",
       "        [ 0.15337658, -0.01468803, -0.03439949, ..., -0.13028653,\n",
       "          0.3140119 ,  0.32436538]], dtype=float32),\n",
       " array([[-0.07468868, -0.15671766, -0.02642004, ...,  0.15805066,\n",
       "          0.5367777 ,  0.36212263],\n",
       "        [-0.06705604,  0.09938391, -0.13911134, ..., -0.24993877,\n",
       "          0.45354423,  0.26263857],\n",
       "        [ 0.11662726, -0.07986452,  0.05257642, ..., -0.04120887,\n",
       "          0.43394932,  0.4149565 ],\n",
       "        ...,\n",
       "        [-0.10578889,  0.14391814, -0.14249094, ..., -0.13754267,\n",
       "          0.31799924,  0.47973743],\n",
       "        [-0.04877114,  0.11024863, -0.00143805, ..., -0.21205842,\n",
       "          0.38569993,  0.38002017],\n",
       "        [-0.28947073,  0.12392687, -0.17114556, ..., -0.25669906,\n",
       "          0.48960674,  0.50728136]], dtype=float32),\n",
       " array([[ 0.05950592, -0.18723345,  0.08866864, ..., -0.10441373,\n",
       "          0.5101645 ,  0.28719607],\n",
       "        [ 0.11558028,  0.05203854, -0.16064754, ..., -0.16334929,\n",
       "          0.59600747,  0.46606767],\n",
       "        [-0.02942995, -0.17729169, -0.00459065, ..., -0.17711781,\n",
       "          0.29967123,  0.45447284],\n",
       "        ...,\n",
       "        [-0.08719888, -0.04960331,  0.08977379, ..., -0.15675227,\n",
       "          0.43086928,  0.47670138],\n",
       "        [ 0.16786224,  0.17921914, -0.14003718, ..., -0.17125322,\n",
       "          0.33212328,  0.24786763],\n",
       "        [-0.3474045 , -0.08341395, -0.12192428, ..., -0.04997955,\n",
       "          0.27221614,  0.5305754 ]], dtype=float32),\n",
       " array([[ 0.17141105,  0.21078473, -0.10397537, ...,  0.03418324,\n",
       "          0.35107467,  0.5582059 ],\n",
       "        [-0.02848303, -0.17158818, -0.04391839, ..., -0.13633753,\n",
       "          0.34317255,  0.3421094 ],\n",
       "        [-0.03073512,  0.00308325,  0.09333669, ..., -0.21563804,\n",
       "          0.2811355 ,  0.33795786],\n",
       "        ...,\n",
       "        [-0.32162488, -0.01425813, -0.02621248, ..., -0.06241841,\n",
       "          0.48798218,  0.2404355 ],\n",
       "        [ 0.29079837, -0.153821  , -0.18279307, ..., -0.02600568,\n",
       "          0.6460837 ,  0.39148867],\n",
       "        [-0.20836411,  0.08416319,  0.02895455, ..., -0.11010866,\n",
       "          0.3483442 ,  0.51919866]], dtype=float32),\n",
       " array([[-0.5568971 , -0.04763865, -0.31397218, ..., -0.16959296,\n",
       "          0.22211266,  0.50853586],\n",
       "        [ 0.13983765, -0.02683921, -0.10510702, ..., -0.0454073 ,\n",
       "          0.46621335,  0.220624  ],\n",
       "        [-0.00403864, -0.12837279, -0.05405886, ..., -0.22060177,\n",
       "          0.28638384,  0.42092696],\n",
       "        ...,\n",
       "        [ 0.12409754, -0.2296745 ,  0.30943567, ...,  0.03004657,\n",
       "          0.50196916,  0.44034478],\n",
       "        [-0.04016562, -0.00417204, -0.09104952, ..., -0.06219792,\n",
       "          0.48005047,  0.35847068],\n",
       "        [-0.05856829, -0.04623963,  0.06841537, ..., -0.06434605,\n",
       "          0.5804817 ,  0.42921513]], dtype=float32),\n",
       " array([[ 0.12838537,  0.02156733, -0.33338165, ..., -0.08620622,\n",
       "          0.49301505,  0.42175302],\n",
       "        [-0.05113799, -0.11435382, -0.05610703, ..., -0.04088717,\n",
       "          0.3947414 ,  0.558006  ],\n",
       "        [ 0.0266991 ,  0.06811024, -0.19123124, ...,  0.11077847,\n",
       "          0.4783876 ,  0.23689292],\n",
       "        ...,\n",
       "        [-0.0851703 , -0.05776549, -0.06626728, ..., -0.22045152,\n",
       "          0.24656147,  0.46586326],\n",
       "        [-0.06689964,  0.15514377, -0.22664444, ..., -0.00153407,\n",
       "          0.45495126,  0.65233797],\n",
       "        [-0.24959373,  0.01827099, -0.16292842, ..., -0.11737169,\n",
       "          0.28893176,  0.6262998 ]], dtype=float32),\n",
       " array([[ 0.16246186,  0.02018357,  0.1012834 , ..., -0.06878077,\n",
       "          0.37423474,  0.43013293],\n",
       "        [ 0.1048453 , -0.09353849, -0.05557913, ..., -0.0626079 ,\n",
       "          0.48924977,  0.28948644],\n",
       "        [ 0.11975248,  0.16840902, -0.04665032, ..., -0.22369687,\n",
       "          0.574459  ,  0.2224201 ],\n",
       "        ...,\n",
       "        [-0.10441662, -0.02125592, -0.37194437, ..., -0.07688817,\n",
       "          0.5421227 ,  0.46678507],\n",
       "        [ 0.13204512,  0.1390364 , -0.05888453, ..., -0.08259685,\n",
       "          0.37073627,  0.3587983 ],\n",
       "        [ 0.02501595, -0.17530677, -0.31334025, ..., -0.02525871,\n",
       "          0.59619105,  0.3440106 ]], dtype=float32),\n",
       " array([[ 0.06627066, -0.20771432,  0.10409951, ..., -0.02670345,\n",
       "          0.4915805 ,  0.23978148],\n",
       "        [ 0.03396723, -0.05507639, -0.0911667 , ..., -0.2419581 ,\n",
       "          0.4448654 ,  0.51823795],\n",
       "        [-0.12418965, -0.14076155, -0.05739613, ..., -0.00746184,\n",
       "          0.47345248,  0.33967388],\n",
       "        ...,\n",
       "        [-0.01116644, -0.08743216, -0.01044866, ..., -0.0785019 ,\n",
       "          0.48986563,  0.4363862 ],\n",
       "        [ 0.07101476, -0.07279241,  0.00378303, ..., -0.0032913 ,\n",
       "          0.449726  ,  0.29417145],\n",
       "        [-0.3125403 , -0.34291792, -0.11382563, ..., -0.2160233 ,\n",
       "          0.4140819 ,  0.33415574]], dtype=float32),\n",
       " array([[-0.14035478,  0.01089428,  0.17497648, ..., -0.00409075,\n",
       "          0.2827406 ,  0.30047086],\n",
       "        [ 0.13684246, -0.30591995,  0.10021612, ..., -0.10982028,\n",
       "          0.38778505,  0.31256172],\n",
       "        [ 0.13074751,  0.03596119, -0.06708023, ..., -0.11690299,\n",
       "          0.39253184,  0.2620947 ],\n",
       "        ...,\n",
       "        [-0.07168771, -0.24861062,  0.16672978, ..., -0.10281058,\n",
       "          0.04269357,  0.32543066],\n",
       "        [ 0.0947713 , -0.00456774, -0.06359059, ..., -0.12594025,\n",
       "          0.48637995,  0.2951916 ],\n",
       "        [-0.01553744, -0.09276802, -0.07538991, ..., -0.02654174,\n",
       "          0.25655884,  0.24638055]], dtype=float32),\n",
       " array([[-0.09990931,  0.00127509, -0.23577656, ..., -0.24361518,\n",
       "          0.47768244,  0.33344987],\n",
       "        [ 0.07752623,  0.13779123, -0.20084716, ..., -0.22467428,\n",
       "          0.47433177,  0.15165678],\n",
       "        [-0.08265227, -0.10262148, -0.0242877 , ..., -0.1706855 ,\n",
       "          0.36866498,  0.42800987],\n",
       "        ...,\n",
       "        [-0.05723907, -0.08125585,  0.19401577, ...,  0.02525547,\n",
       "          0.5976667 ,  0.4728311 ],\n",
       "        [ 0.06719329,  0.1009263 , -0.17716211, ..., -0.04857213,\n",
       "          0.3721786 ,  0.28966925],\n",
       "        [ 0.07970773, -0.01315193,  0.1576483 , ..., -0.10300957,\n",
       "          0.40742624,  0.40152708]], dtype=float32),\n",
       " array([[ 0.1795289 ,  0.06588304, -0.18205906, ...,  0.20270477,\n",
       "          0.47059745,  0.34779626],\n",
       "        [-0.06384464,  0.04826566, -0.00485418, ..., -0.0933086 ,\n",
       "          0.26364437,  0.25042138],\n",
       "        [-0.26207605, -0.15151381, -0.05922802, ..., -0.11322847,\n",
       "          0.4562348 ,  0.18474466],\n",
       "        ...,\n",
       "        [-0.21684746, -0.02465827, -0.40204233, ..., -0.2949492 ,\n",
       "          0.71258056,  0.52730304],\n",
       "        [-0.01136872, -0.12354401, -0.00936303, ..., -0.06453167,\n",
       "          0.5230812 ,  0.4341994 ],\n",
       "        [-0.06714034, -0.16596062,  0.01528869, ...,  0.02246472,\n",
       "          0.38238066,  0.43401983]], dtype=float32),\n",
       " array([[-0.3018008 ,  0.07193784, -0.09198269, ..., -0.02988978,\n",
       "          0.39632872,  0.5225812 ],\n",
       "        [-0.11648258,  0.18776084, -0.21690686, ..., -0.01615103,\n",
       "          0.5235519 ,  0.44531962],\n",
       "        [-0.0221528 ,  0.18469152, -0.32766312, ..., -0.03946516,\n",
       "          0.35229427,  0.46095094],\n",
       "        ...,\n",
       "        [ 0.12747757,  0.09168125, -0.16592565, ..., -0.08190217,\n",
       "          0.49723023,  0.29389852],\n",
       "        [-0.0407523 , -0.05728003,  0.02148228, ..., -0.05439305,\n",
       "          0.45766926,  0.50290173],\n",
       "        [-0.22195485,  0.07454716, -0.58735585, ..., -0.12911274,\n",
       "          0.441066  ,  0.41001523]], dtype=float32),\n",
       " array([[ 0.00849272, -0.05499002,  0.05748966, ..., -0.03647166,\n",
       "          0.2742195 ,  0.31096345],\n",
       "        [-0.11761396, -0.06172372,  0.15646334, ..., -0.11631282,\n",
       "          0.629722  ,  0.76225895],\n",
       "        [-0.08988325,  0.17850865, -0.3402987 , ..., -0.16633947,\n",
       "          0.45483917,  0.40529853],\n",
       "        ...,\n",
       "        [ 0.0438501 , -0.04366993, -0.09993665, ..., -0.06751511,\n",
       "          0.44386157,  0.47417167],\n",
       "        [-0.0275528 ,  0.2560695 , -0.24315684, ..., -0.02609695,\n",
       "          0.2465636 ,  0.32888445],\n",
       "        [ 0.00553753,  0.08387707,  0.12020027, ..., -0.03933907,\n",
       "          0.4856176 ,  0.3637855 ]], dtype=float32),\n",
       " array([[-0.18019171, -0.35266462,  0.23691344, ..., -0.172098  ,\n",
       "          0.30780163,  0.37766245],\n",
       "        [-0.00859023, -0.01682707, -0.0664531 , ..., -0.07980349,\n",
       "          0.44099566,  0.34128872],\n",
       "        [ 0.00633574,  0.21034661,  0.06058263, ...,  0.02157443,\n",
       "          0.34183022,  0.32058114],\n",
       "        ...,\n",
       "        [-0.07843305, -0.0895006 , -0.02121354, ..., -0.10026658,\n",
       "          0.7227086 ,  0.50666475],\n",
       "        [ 0.06284757,  0.00560974, -0.15977643, ...,  0.01735593,\n",
       "          0.460202  ,  0.4545266 ],\n",
       "        [-0.00562466, -0.12932368, -0.03505404, ...,  0.02667289,\n",
       "          0.44251633,  0.25156865]], dtype=float32),\n",
       " array([[-0.05417335, -0.16700415,  0.01537577, ..., -0.00528552,\n",
       "          0.4140566 ,  0.4515447 ],\n",
       "        [ 0.0320695 , -0.2647733 , -0.16649987, ...,  0.13253386,\n",
       "          0.46141082,  0.35413444],\n",
       "        [-0.02064533, -0.15801059,  0.0772186 , ..., -0.16450365,\n",
       "          0.17430823,  0.24645372],\n",
       "        ...,\n",
       "        [ 0.08310981, -0.09287985, -0.07157877, ..., -0.04329105,\n",
       "          0.46260962,  0.41745296],\n",
       "        [-0.3186134 , -0.12498569, -0.207292  , ..., -0.0476669 ,\n",
       "          0.5761965 ,  0.6282585 ],\n",
       "        [ 0.02710868,  0.16691962, -0.16564965, ...,  0.09403884,\n",
       "          0.3912623 ,  0.3698205 ]], dtype=float32),\n",
       " array([[ 0.15514868, -0.05045415, -0.20454867, ...,  0.02997852,\n",
       "          0.32214686,  0.3312447 ],\n",
       "        [ 0.04322778,  0.03139291,  0.03923681, ...,  0.0494299 ,\n",
       "          0.26364285,  0.36791655],\n",
       "        [-0.06870463, -0.30002043,  0.36442655, ..., -0.2878591 ,\n",
       "          0.3586995 ,  0.52206284],\n",
       "        ...,\n",
       "        [ 0.1668121 ,  0.11624562,  0.14164197, ...,  0.09305608,\n",
       "          0.22163107,  0.2856448 ],\n",
       "        [-0.38092133, -0.15748617, -0.1779658 , ..., -0.17662202,\n",
       "          0.22552745,  0.44917908],\n",
       "        [ 0.02466843, -0.406037  , -0.00779815, ..., -0.05402656,\n",
       "          0.10500363,  0.29492494]], dtype=float32),\n",
       " array([[-0.02260596, -0.33690605,  0.27145305, ..., -0.0417261 ,\n",
       "          0.3743327 ,  0.21095976],\n",
       "        [ 0.00842055,  0.02614926,  0.00484967, ...,  0.03779924,\n",
       "          0.13345693,  0.2071923 ],\n",
       "        [-0.0813321 , -0.11951544, -0.00701366, ..., -0.13019784,\n",
       "          0.25768182,  0.33783066],\n",
       "        ...,\n",
       "        [-0.01429803,  0.25902548, -0.17659715, ...,  0.03426801,\n",
       "          0.41897145,  0.3021483 ],\n",
       "        [-0.01165412, -0.09318651, -0.11516532, ..., -0.09959999,\n",
       "          0.38074994,  0.4149357 ],\n",
       "        [ 0.01256648,  0.06087684, -0.33439183, ...,  0.03396063,\n",
       "          0.53837657,  0.42169604]], dtype=float32),\n",
       " array([[-0.00883559,  0.04148233, -0.06846987, ..., -0.0697244 ,\n",
       "          0.34585014,  0.33649343],\n",
       "        [ 0.13919125,  0.02597618,  0.0380129 , ..., -0.09319913,\n",
       "          0.42136958,  0.4165856 ],\n",
       "        [-0.15897545, -0.15214942, -0.01810902, ..., -0.19679104,\n",
       "          0.27016747,  0.547614  ],\n",
       "        ...,\n",
       "        [-0.01399735,  0.01495193, -0.35648525, ..., -0.01239675,\n",
       "          0.3750143 ,  0.33343408],\n",
       "        [ 0.17164427, -0.03503217,  0.12017028, ..., -0.06263255,\n",
       "          0.31886142,  0.24299814],\n",
       "        [-0.00615872, -0.03425319, -0.18707629, ...,  0.03171869,\n",
       "          0.4310411 ,  0.3763774 ]], dtype=float32),\n",
       " array([[ 0.2585765 ,  0.00585866, -0.07651959, ..., -0.01586333,\n",
       "          0.27973846,  0.36073512],\n",
       "        [-0.00907834, -0.05240021, -0.18376674, ..., -0.14796886,\n",
       "          0.28558326,  0.25719938],\n",
       "        [ 0.21533859, -0.20271288, -0.07594156, ..., -0.12749507,\n",
       "          0.48439255,  0.25923797],\n",
       "        ...,\n",
       "        [-0.0080742 , -0.1017395 , -0.07694563, ..., -0.02136336,\n",
       "          0.42380822,  0.33195022],\n",
       "        [-0.00351763,  0.04201256, -0.01446053, ...,  0.11965268,\n",
       "          0.38870823,  0.23494601],\n",
       "        [-0.039318  , -0.07353874, -0.11483192, ...,  0.05179402,\n",
       "          0.27288187,  0.05575512]], dtype=float32),\n",
       " array([[ 0.42221618,  0.2994921 , -0.18404095, ..., -0.26378396,\n",
       "          0.47613317,  0.31733072],\n",
       "        [ 0.12758625,  0.07466953, -0.23265074, ..., -0.20871133,\n",
       "          0.6722785 ,  0.43611857],\n",
       "        [-0.0424253 ,  0.06658093, -0.18777142, ..., -0.09758008,\n",
       "          0.47590008,  0.39795423],\n",
       "        ...,\n",
       "        [-0.05305046,  0.03053611, -0.29849607, ...,  0.05241818,\n",
       "          0.50590897,  0.5203409 ],\n",
       "        [-0.14118794, -0.12917836, -0.16297874, ..., -0.23596257,\n",
       "          0.27366507,  0.5785453 ],\n",
       "        [-0.0619414 , -0.07861309, -0.0360668 , ...,  0.00993398,\n",
       "          0.29400283,  0.26720864]], dtype=float32),\n",
       " array([[-0.19753306, -0.0121078 , -0.05880725, ..., -0.05610231,\n",
       "          0.5949532 ,  0.43663502],\n",
       "        [-0.09466641,  0.06623521,  0.04738996, ..., -0.0683901 ,\n",
       "          0.2317448 ,  0.3737054 ],\n",
       "        [ 0.03659109,  0.08369293, -0.23662482, ..., -0.0513691 ,\n",
       "          0.40330052,  0.28411844],\n",
       "        ...,\n",
       "        [ 0.1918676 , -0.10358177, -0.20481999, ..., -0.1568081 ,\n",
       "          0.51130396,  0.15543327],\n",
       "        [-0.20426059,  0.0261542 ,  0.12425275, ...,  0.10675685,\n",
       "          0.60793126,  0.7035515 ],\n",
       "        [-0.00898853, -0.1168533 , -0.077244  , ..., -0.18892367,\n",
       "          0.36315668,  0.36315003]], dtype=float32),\n",
       " array([[ 1.1618927e-02,  1.4376028e-01, -3.6339498e-01, ...,\n",
       "         -5.2995890e-02,  4.9940988e-01,  5.0350505e-01],\n",
       "        [-7.8709036e-02, -3.6100820e-02,  1.6036883e-02, ...,\n",
       "         -1.0410766e-01,  1.6843660e-01,  3.6846161e-01],\n",
       "        [-1.4865611e-02, -2.1060387e-02,  1.0006817e-01, ...,\n",
       "          8.6534381e-02,  2.2205402e-01,  6.0107213e-01],\n",
       "        ...,\n",
       "        [-5.4609731e-02,  5.7645470e-02, -5.2531064e-04, ...,\n",
       "         -2.0384888e-01,  2.9725856e-01,  3.2724164e-02],\n",
       "        [ 4.0841848e-02,  2.0672167e-02, -2.3344983e-01, ...,\n",
       "         -2.1299836e-01,  4.4659382e-01,  4.0916508e-01],\n",
       "        [ 1.3277456e-02, -6.2612370e-02, -1.4100137e-01, ...,\n",
       "         -6.2421605e-02,  3.8516870e-01,  2.3092462e-01]], dtype=float32),\n",
       " array([[ 0.06252255, -0.16153844, -0.01847818, ..., -0.1499561 ,\n",
       "          0.56155145,  0.21701866],\n",
       "        [-0.13736668, -0.03797429, -0.15210687, ...,  0.04375972,\n",
       "          0.6141833 ,  0.31176794],\n",
       "        [ 0.04665136, -0.07020671, -0.10273696, ...,  0.00483659,\n",
       "          0.53230214,  0.4545067 ],\n",
       "        ...,\n",
       "        [-0.13306734, -0.10057357, -0.06487399, ..., -0.15846345,\n",
       "          0.3554014 ,  0.45627722],\n",
       "        [-0.12790379, -0.20536447,  0.09321649, ..., -0.16312227,\n",
       "          0.51784366,  0.40476313],\n",
       "        [ 0.08115669,  0.15674134, -0.09446958, ..., -0.11224364,\n",
       "          0.11158366,  0.41352418]], dtype=float32),\n",
       " array([[-0.1557913 , -0.03129666, -0.08363636, ..., -0.06894699,\n",
       "          0.41374043,  0.40737504],\n",
       "        [-0.22204924, -0.11308844, -0.08199164, ..., -0.09287732,\n",
       "          0.41246024,  0.40845478],\n",
       "        [ 0.07479061,  0.09977433,  0.1988403 , ...,  0.02518591,\n",
       "          0.5810579 ,  0.48309183],\n",
       "        ...,\n",
       "        [ 0.13942409, -0.10905407, -0.30764866, ..., -0.00097021,\n",
       "          0.6137522 ,  0.2624775 ],\n",
       "        [-0.1010572 ,  0.16639188, -0.00589223, ..., -0.04589968,\n",
       "          0.34268838,  0.5285013 ],\n",
       "        [-0.10046308, -0.42765692, -0.3245179 , ..., -0.05329313,\n",
       "          0.6808645 ,  0.3502712 ]], dtype=float32),\n",
       " array([[ 0.22992542, -0.04199158,  0.07036322, ..., -0.05960604,\n",
       "          0.47535914,  0.50546545],\n",
       "        [-0.10876001, -0.16049679, -0.07086648, ...,  0.01960221,\n",
       "          0.34338078,  0.42809796],\n",
       "        [-0.01921208,  0.12912914, -0.29052114, ...,  0.06147246,\n",
       "          0.54483885,  0.3460241 ],\n",
       "        ...,\n",
       "        [-0.02275953, -0.1125429 , -0.03422356, ..., -0.1312112 ,\n",
       "          0.47601834,  0.38203254],\n",
       "        [ 0.2056056 , -0.0866554 ,  0.06106465, ..., -0.1420313 ,\n",
       "          0.34842452,  0.42886382],\n",
       "        [ 0.06332558, -0.02647981, -0.13821286, ...,  0.05540891,\n",
       "          0.2529198 ,  0.367733  ]], dtype=float32),\n",
       " array([[ 0.11549044, -0.02832342, -0.04154558, ..., -0.06940281,\n",
       "          0.3196162 ,  0.26580536],\n",
       "        [-0.06090369,  0.1564211 , -0.16937792, ..., -0.05703463,\n",
       "          0.46303514,  0.29747918],\n",
       "        [-0.56640774, -0.06263628, -0.2503839 , ..., -0.27242133,\n",
       "          0.15501083,  0.17411835],\n",
       "        ...,\n",
       "        [-0.2573126 , -0.09515632, -0.15754443, ...,  0.04284231,\n",
       "          0.16585833,  0.5805812 ],\n",
       "        [-0.07836906, -0.1845449 ,  0.00398025, ..., -0.15687422,\n",
       "          0.34433058,  0.49132276],\n",
       "        [ 0.11847706, -0.10681394, -0.03250103, ...,  0.02296327,\n",
       "          0.4529146 ,  0.24820621]], dtype=float32),\n",
       " array([[ 0.06382415, -0.07136856, -0.17799738, ..., -0.15688255,\n",
       "          0.40065038,  0.24673526],\n",
       "        [ 0.08853887, -0.01099535,  0.08901919, ...,  0.19707605,\n",
       "          0.59919757,  0.52006656],\n",
       "        [ 0.08002809, -0.09246293,  0.066769  , ...,  0.05313509,\n",
       "          0.4429399 ,  0.31047353],\n",
       "        ...,\n",
       "        [-0.0119758 ,  0.12735917, -0.02068236, ..., -0.06632136,\n",
       "          0.5856866 ,  0.4176332 ],\n",
       "        [ 0.02398086,  0.13273266, -0.4227264 , ..., -0.02613449,\n",
       "          0.451959  ,  0.17374524],\n",
       "        [-0.18633842, -0.14253421, -0.09214059, ..., -0.21363525,\n",
       "          0.33568347,  0.51630837]], dtype=float32),\n",
       " array([[-0.313375  ,  0.11610895, -0.07911868, ...,  0.03994929,\n",
       "          0.5100867 ,  0.44167832],\n",
       "        [ 0.14928822, -0.01085667, -0.01375222, ..., -0.08621109,\n",
       "          0.33482555,  0.41220716],\n",
       "        [-0.01487924, -0.1395062 , -0.10572138, ...,  0.07371684,\n",
       "          0.4301838 ,  0.50587255],\n",
       "        ...,\n",
       "        [ 0.15707189,  0.05072816, -0.04720934, ...,  0.03925954,\n",
       "          0.3723064 ,  0.41836002],\n",
       "        [ 0.04834048, -0.13810936, -0.05737108, ..., -0.36577606,\n",
       "          0.14433587,  0.71511906],\n",
       "        [ 0.00942861,  0.00761021, -0.21265326, ...,  0.23460968,\n",
       "          0.53030753,  0.22853538]], dtype=float32),\n",
       " array([[-0.02370636, -0.01749464, -0.08723447, ..., -0.35706013,\n",
       "          0.3634249 ,  0.2460211 ],\n",
       "        [ 0.19923769, -0.2110147 ,  0.00939987, ..., -0.16121136,\n",
       "          0.5246457 ,  0.25380966],\n",
       "        [ 0.01950646,  0.04342364,  0.02452247, ...,  0.12920637,\n",
       "          0.47033012,  0.44528812],\n",
       "        ...,\n",
       "        [ 0.08241397,  0.06473809, -0.1221137 , ...,  0.03692913,\n",
       "          0.40800396,  0.41128752],\n",
       "        [ 0.19505948,  0.05396651, -0.11991848, ..., -0.08502518,\n",
       "          0.48151144,  0.22816132],\n",
       "        [-0.16660348, -0.09871913, -0.07957999, ..., -0.10881477,\n",
       "          0.3298328 ,  0.48952222]], dtype=float32),\n",
       " array([[ 0.05524799,  0.0070367 ,  0.0302012 , ...,  0.0186173 ,\n",
       "          0.49199197,  0.3649424 ],\n",
       "        [ 0.13154458, -0.06230666, -0.06190833, ..., -0.34776014,\n",
       "          0.45054576,  0.38883856],\n",
       "        [ 0.31993073,  0.08663634, -0.49254197, ...,  0.03310071,\n",
       "          0.4745299 ,  0.2190355 ],\n",
       "        ...,\n",
       "        [ 0.04974045, -0.05640554, -0.19758226, ...,  0.09744992,\n",
       "          0.408028  ,  0.42479217],\n",
       "        [ 0.1614647 ,  0.12206205, -0.12810329, ..., -0.05658193,\n",
       "          0.5098423 ,  0.46516594],\n",
       "        [-0.04529516,  0.02469183, -0.18081062, ...,  0.19232023,\n",
       "          0.4502845 ,  0.48540658]], dtype=float32),\n",
       " array([[ 5.7978787e-02, -9.4907649e-02, -2.9417741e-01, ...,\n",
       "          1.2384122e-01,  4.7417662e-01,  3.5298738e-01],\n",
       "        [ 1.8564680e-01, -2.9752003e-03,  8.5342936e-03, ...,\n",
       "         -1.7029251e-01,  4.4899145e-01,  2.7284193e-01],\n",
       "        [ 1.8706381e-02, -4.6017442e-02, -5.2610487e-02, ...,\n",
       "         -1.5801305e-02,  5.2348012e-01,  4.3392456e-01],\n",
       "        ...,\n",
       "        [ 5.7557106e-02,  1.1144400e-02, -1.6527666e-01, ...,\n",
       "         -4.2421278e-04,  4.4033390e-01,  2.9889050e-01],\n",
       "        [ 1.1561909e-01,  2.5396052e-01, -3.0613607e-01, ...,\n",
       "         -1.2993275e-01,  4.0433788e-01,  4.9445450e-01],\n",
       "        [-1.9112511e-02, -9.7184628e-02, -2.0590723e-03, ...,\n",
       "         -1.1853444e-01,  3.6764279e-01,  2.2301698e-01]], dtype=float32),\n",
       " array([[ 0.0356136 , -0.16022407,  0.05493239, ..., -0.1581306 ,\n",
       "          0.30631652,  0.5364834 ],\n",
       "        [ 0.0320934 ,  0.11574132, -0.6089995 , ..., -0.25367895,\n",
       "          0.5640959 ,  0.39199555],\n",
       "        [ 0.00732556,  0.01951859,  0.0715939 , ...,  0.05607348,\n",
       "          0.2203119 ,  0.38098443],\n",
       "        ...,\n",
       "        [ 0.0074265 , -0.39662674,  0.33058035, ..., -0.05791458,\n",
       "          0.08827919,  0.24947454],\n",
       "        [ 0.03458195,  0.10924748,  0.04144111, ..., -0.2926976 ,\n",
       "          0.4300076 ,  0.395778  ],\n",
       "        [ 0.18097664,  0.01701526,  0.01744686, ..., -0.00088173,\n",
       "          0.37621066,  0.30569226]], dtype=float32),\n",
       " array([[ 0.09430185,  0.20487502, -0.209309  , ..., -0.07085114,\n",
       "          0.53931457,  0.21049798],\n",
       "        [-0.06303587, -0.01948506, -0.08575369, ...,  0.01855794,\n",
       "          0.27232498,  0.4369082 ],\n",
       "        [ 0.06393385, -0.00432887, -0.21318586, ..., -0.18285665,\n",
       "          0.51101327,  0.44837815],\n",
       "        ...,\n",
       "        [-0.07728478,  0.01956868,  0.04417655, ..., -0.00745366,\n",
       "          0.21370554,  0.21165451],\n",
       "        [-0.47077477, -0.03885017, -0.16028708, ..., -0.01113606,\n",
       "          0.31087825,  0.3264249 ],\n",
       "        [ 0.09093027, -0.11352465, -0.0378771 , ..., -0.061695  ,\n",
       "          0.68016845,  0.31879264]], dtype=float32),\n",
       " array([[ 0.04721197, -0.18717644, -0.15295765, ..., -0.15119638,\n",
       "          0.21855658,  0.48942706],\n",
       "        [ 0.07810544,  0.08503871, -0.18754695, ..., -0.18868795,\n",
       "          0.33197302,  0.41868433],\n",
       "        [ 0.2037406 ,  0.08805437,  0.05020887, ..., -0.18164846,\n",
       "          0.31961676,  0.2228056 ],\n",
       "        ...,\n",
       "        [-0.15973021, -0.02529354, -0.18860956, ..., -0.12639222,\n",
       "          0.35078   ,  0.21303959],\n",
       "        [-0.04516934, -0.07035293,  0.07310733, ..., -0.07716233,\n",
       "          0.22017372,  0.3945436 ],\n",
       "        [-0.03580185,  0.0386513 , -0.20059095, ..., -0.07520448,\n",
       "          0.28991428,  0.31473833]], dtype=float32),\n",
       " array([[ 0.112671  , -0.02697402, -0.14620608, ...,  0.08713166,\n",
       "          0.33624434,  0.35469142],\n",
       "        [-0.46694297, -0.46340376, -0.4955538 , ...,  0.1771738 ,\n",
       "          0.41342217,  0.45988542],\n",
       "        [-0.00524934,  0.09534482, -0.11051488, ..., -0.06102202,\n",
       "          0.33926207,  0.42491338],\n",
       "        ...,\n",
       "        [ 0.06791001,  0.01601907,  0.06370639, ...,  0.10110483,\n",
       "          0.33407396,  0.37433407],\n",
       "        [-0.17998056, -0.29441684, -0.11599638, ..., -0.09242515,\n",
       "          0.23144579,  0.3646101 ],\n",
       "        [-0.22267859,  0.06037451,  0.06711668, ..., -0.14012244,\n",
       "          0.23189999,  0.5007246 ]], dtype=float32),\n",
       " array([[ 0.16931595,  0.02036182,  0.07037819, ..., -0.11823981,\n",
       "          0.27702722,  0.33953384],\n",
       "        [-0.05578009,  0.04643248, -0.13771251, ...,  0.21997729,\n",
       "          0.4734165 ,  0.5077031 ],\n",
       "        [ 0.0498426 , -0.02145839, -0.00616572, ..., -0.05226741,\n",
       "          0.46582937,  0.32064933],\n",
       "        ...,\n",
       "        [ 0.18242003, -0.4032914 ,  0.08823018, ..., -0.00577252,\n",
       "          0.41793236,  0.34362373],\n",
       "        [-0.01028314, -0.09604128,  0.03718995, ...,  0.08979512,\n",
       "          0.32576236,  0.401519  ],\n",
       "        [ 0.31204683,  0.13794778, -0.31884986, ..., -0.08344442,\n",
       "          0.6148991 ,  0.36390236]], dtype=float32),\n",
       " array([[-0.14250499, -0.20190634, -0.1404686 , ...,  0.08164582,\n",
       "          0.41173828,  0.2106455 ],\n",
       "        [ 0.00720395, -0.07295422, -0.04198762, ..., -0.0808825 ,\n",
       "          0.33448154,  0.47124586],\n",
       "        [ 0.11252451, -0.11275719,  0.04138561, ...,  0.00917242,\n",
       "          0.40569076,  0.315062  ],\n",
       "        ...,\n",
       "        [ 0.05599461,  0.22234541, -0.2562273 , ..., -0.04342736,\n",
       "          0.66131294,  0.42982256],\n",
       "        [-0.14260188, -0.16737047, -0.00715058, ..., -0.03920966,\n",
       "          0.49297348,  0.53966516],\n",
       "        [-0.01495068, -0.0110284 , -0.20569913, ..., -0.05513887,\n",
       "          0.28166398,  0.5202723 ]], dtype=float32),\n",
       " array([[ 0.27308363, -0.0528808 , -0.42271453, ..., -0.30288392,\n",
       "          0.10366784,  0.38475013],\n",
       "        [-0.02400058, -0.13578261, -0.01228404, ...,  0.06281888,\n",
       "          0.4280204 ,  0.5637341 ],\n",
       "        [ 0.02779955, -0.08973513,  0.09327176, ..., -0.01041653,\n",
       "          0.52138984,  0.28888777],\n",
       "        ...,\n",
       "        [-0.06222213, -0.23725678,  0.12838557, ..., -0.14831124,\n",
       "          0.3235608 ,  0.4476405 ],\n",
       "        [ 0.10199706, -0.12984784, -0.16866232, ..., -0.06458607,\n",
       "          0.45874184,  0.42656535],\n",
       "        [ 0.13326561, -0.06539471, -0.06713349, ..., -0.07313872,\n",
       "          0.34755546,  0.42339978]], dtype=float32),\n",
       " array([[-0.03046368,  0.02096622, -0.0810668 , ..., -0.21873279,\n",
       "          0.3582757 ,  0.33997846],\n",
       "        [-0.00146937,  0.06950209,  0.12070878, ..., -0.02302642,\n",
       "          0.37697622,  0.5125933 ],\n",
       "        [ 0.1448194 ,  0.1486689 , -0.30474144, ..., -0.114256  ,\n",
       "          0.39960456,  0.36018956],\n",
       "        ...,\n",
       "        [-0.11191726,  0.18352152, -0.44922805, ...,  0.166573  ,\n",
       "          0.15006767,  0.54622734],\n",
       "        [-0.04663725, -0.01647238, -0.1114126 , ..., -0.07360634,\n",
       "          0.39985457,  0.53124124],\n",
       "        [ 0.23780882, -0.378821  , -0.12573345, ...,  0.07634434,\n",
       "          0.72492355,  0.4774662 ]], dtype=float32),\n",
       " array([[-0.08486021, -0.17853634, -0.0565678 , ..., -0.03328497,\n",
       "          0.37365735,  0.352463  ],\n",
       "        [ 0.05207045,  0.05734538, -0.25484478, ...,  0.04623638,\n",
       "          0.554063  ,  0.29079476],\n",
       "        [ 0.1196444 , -0.20102839, -0.06029485, ..., -0.11033349,\n",
       "          0.39220902,  0.44820207],\n",
       "        ...,\n",
       "        [ 0.00698684,  0.03848732,  0.02032544, ...,  0.04381989,\n",
       "          0.37767568,  0.5766652 ],\n",
       "        [ 0.10096605, -0.08778657,  0.04676582, ..., -0.05080063,\n",
       "          0.35157815,  0.3285564 ],\n",
       "        [-0.07132627, -0.18049048,  0.07507244, ..., -0.06016143,\n",
       "          0.4571945 ,  0.51134205]], dtype=float32),\n",
       " array([[-0.00731229,  0.04188482,  0.13658318, ..., -0.12246712,\n",
       "          0.33621836,  0.29754052],\n",
       "        [-0.3173679 , -0.18457218, -0.07208379, ..., -0.09604163,\n",
       "         -0.02084253,  0.5695531 ],\n",
       "        [ 0.26878133, -0.00372022, -0.01804285, ..., -0.00781714,\n",
       "          0.4913917 ,  0.3359201 ],\n",
       "        ...,\n",
       "        [ 0.09161729, -0.11668585, -0.26660895, ..., -0.16697063,\n",
       "          0.33758533,  0.4467606 ],\n",
       "        [-0.0083366 ,  0.10114209,  0.05252054, ...,  0.04544298,\n",
       "          0.32744148,  0.47127417],\n",
       "        [ 0.23156333,  0.17111589,  0.07008329, ...,  0.05345649,\n",
       "          0.2226022 ,  0.27386376]], dtype=float32),\n",
       " array([[ 0.07742463,  0.0117925 , -0.17839937, ..., -0.1208814 ,\n",
       "          0.39306483,  0.29558077],\n",
       "        [ 0.01648758, -0.11922929, -0.10902956, ..., -0.02808753,\n",
       "          0.35977083,  0.44040167],\n",
       "        [ 0.16323203, -0.06286727,  0.13227543, ...,  0.02228297,\n",
       "          0.60161644,  0.47294983],\n",
       "        ...,\n",
       "        [-0.11078057, -0.05400407,  0.09156711, ...,  0.06760167,\n",
       "          0.2264318 ,  0.30784112],\n",
       "        [-0.2441494 ,  0.03869127, -0.03952112, ..., -0.0451206 ,\n",
       "          0.52791804,  0.32782874],\n",
       "        [-0.18862388, -0.05370179, -0.00682642, ..., -0.14595838,\n",
       "          0.03327327,  0.34035218]], dtype=float32),\n",
       " array([[-0.09164995, -0.08860666,  0.01447999, ...,  0.04244321,\n",
       "          0.47138703,  0.3150765 ],\n",
       "        [ 0.01496028, -0.21726698,  0.18628576, ...,  0.05400564,\n",
       "          0.5593818 ,  0.36978602],\n",
       "        [ 0.14453295,  0.06792565,  0.12553848, ...,  0.05550012,\n",
       "          0.27583018,  0.41431853],\n",
       "        ...,\n",
       "        [-0.19568583, -0.11684903, -0.01852395, ...,  0.05472859,\n",
       "          0.3412539 ,  0.3457737 ],\n",
       "        [ 0.06564973, -0.00502709, -0.06145522, ..., -0.0973308 ,\n",
       "          0.3886264 ,  0.2510786 ],\n",
       "        [ 0.07784168,  0.08290892, -0.05702132, ..., -0.11834481,\n",
       "          0.43608916,  0.3302428 ]], dtype=float32),\n",
       " array([[ 9.1926716e-03,  3.0898498e-02, -9.7709149e-03, ...,\n",
       "         -7.0627213e-02,  2.9602438e-01,  3.5842344e-01],\n",
       "        [-1.7427251e-02, -4.0452152e-02,  8.6874679e-02, ...,\n",
       "          4.6354542e-03,  3.8482839e-01,  3.0665141e-01],\n",
       "        [ 4.8658408e-02, -3.9248787e-02, -1.5456964e-01, ...,\n",
       "         -3.2067936e-02,  3.7156117e-01,  3.3462369e-01],\n",
       "        ...,\n",
       "        [ 6.8552345e-02,  8.9626841e-02, -9.6961170e-02, ...,\n",
       "         -1.5647164e-01,  3.2673448e-01,  3.2090938e-01],\n",
       "        [-1.8330136e-02, -2.2092167e-02, -2.1118526e-01, ...,\n",
       "         -9.3593471e-02,  3.1903097e-01,  3.5286158e-01],\n",
       "        [-8.8018492e-02, -5.1350325e-02,  1.3276033e-01, ...,\n",
       "          4.0671509e-04,  4.4294167e-01,  4.1480893e-01]], dtype=float32),\n",
       " array([[-0.17002165, -0.13644953, -0.04057463, ..., -0.06966172,\n",
       "          0.24964997,  0.4826967 ],\n",
       "        [ 0.21865705, -0.01846859, -0.12229516, ..., -0.12278298,\n",
       "          0.43986252,  0.23465359],\n",
       "        [-0.00305928, -0.21616039, -0.00263145, ..., -0.19622913,\n",
       "          0.32696974,  0.5444532 ],\n",
       "        ...,\n",
       "        [ 0.01247169,  0.08906379, -0.01327103, ..., -0.07378764,\n",
       "          0.37676987,  0.42583588],\n",
       "        [ 0.09876677, -0.15617573, -0.10136749, ..., -0.1046282 ,\n",
       "          0.25496864,  0.35778362],\n",
       "        [ 0.10180846, -0.03999373, -0.03534134, ..., -0.165744  ,\n",
       "          0.48737356,  0.5054668 ]], dtype=float32),\n",
       " array([[ 0.08293031, -0.03680019, -0.13004914, ..., -0.27885383,\n",
       "          0.3700963 ,  0.5809715 ],\n",
       "        [ 0.11438921, -0.13786933, -0.10002834, ..., -0.09209054,\n",
       "          0.37088928,  0.515672  ],\n",
       "        [-0.01914834, -0.11559484,  0.0249917 , ..., -0.08811582,\n",
       "          0.43660575,  0.60683   ],\n",
       "        ...,\n",
       "        [-0.13366356,  0.03904097, -0.13084063, ..., -0.19326507,\n",
       "          0.32438955,  0.53052104],\n",
       "        [-0.02579734, -0.0569457 ,  0.10688157, ...,  0.05982487,\n",
       "          0.43777665,  0.317908  ],\n",
       "        [-0.22160174, -0.01700361,  0.08569471, ...,  0.05487571,\n",
       "          0.54972637,  0.5978124 ]], dtype=float32),\n",
       " array([[-2.2556071e-01, -1.3114318e-01, -8.4623888e-02, ...,\n",
       "         -2.2285026e-01,  4.2406338e-01,  5.8110398e-01],\n",
       "        [-1.2524761e-01,  2.8280841e-02,  4.6065442e-02, ...,\n",
       "          6.8796270e-02,  2.9468867e-01,  3.3778518e-01],\n",
       "        [-9.8108903e-02, -5.4942816e-04,  8.7209858e-02, ...,\n",
       "         -3.8282041e-02,  5.4160064e-01,  4.4931588e-01],\n",
       "        ...,\n",
       "        [ 6.1580911e-02,  7.9188116e-02, -2.2135030e-01, ...,\n",
       "         -3.3654809e-02,  5.9009379e-01,  4.4414765e-01],\n",
       "        [ 1.8564655e-01, -1.4851527e-02, -2.7274865e-01, ...,\n",
       "         -6.4856842e-02,  4.9548104e-01,  2.9897860e-01],\n",
       "        [-4.5922715e-02, -2.8961256e-01, -6.3037425e-03, ...,\n",
       "         -1.1457245e-01,  4.0565699e-01,  4.5149717e-01]], dtype=float32),\n",
       " array([[ 0.1296385 , -0.0216199 , -0.08237404, ...,  0.04028054,\n",
       "          0.22913215,  0.4477803 ],\n",
       "        [ 0.06938422, -0.1319496 , -0.23556171, ..., -0.04634259,\n",
       "          0.42544836,  0.3404702 ],\n",
       "        [ 0.20014738,  0.07523713, -0.07063572, ..., -0.05477988,\n",
       "          0.51752234,  0.32602614],\n",
       "        ...,\n",
       "        [ 0.08148439, -0.19326182,  0.23769231, ..., -0.31438062,\n",
       "          0.37957475,  0.4909972 ],\n",
       "        [-0.0211296 ,  0.08046632, -0.06923519, ...,  0.07637884,\n",
       "          0.42124772,  0.26222724],\n",
       "        [ 0.09733889, -0.07311605, -0.08662985, ..., -0.1251686 ,\n",
       "          0.5323683 ,  0.31158948]], dtype=float32),\n",
       " array([[-0.02360436, -0.06360462, -0.37855953, ..., -0.05290557,\n",
       "          0.35206887,  0.40532473],\n",
       "        [ 0.15532677,  0.0778522 , -0.03927535, ...,  0.15223494,\n",
       "          0.30638   ,  0.4859691 ],\n",
       "        [ 0.00446284,  0.0236431 , -0.07044463, ..., -0.13125451,\n",
       "          0.2270268 ,  0.54778594],\n",
       "        ...,\n",
       "        [-0.09412149, -0.19558088,  0.04829083, ..., -0.14038832,\n",
       "          0.23656791,  0.45098525],\n",
       "        [ 0.06068008,  0.05913004, -0.00456872, ...,  0.00711828,\n",
       "          0.38276368,  0.19867387],\n",
       "        [ 0.00756276, -0.05870366,  0.02458902, ..., -0.083911  ,\n",
       "          0.3687641 ,  0.43326086]], dtype=float32),\n",
       " array([[ 0.01870565, -0.12977095, -0.05463346, ...,  0.02578394,\n",
       "          0.4295219 ,  0.46035084],\n",
       "        [ 0.00482265, -0.16673875, -0.11712527, ...,  0.07059249,\n",
       "          0.48348713,  0.4931968 ],\n",
       "        [ 0.19051637, -0.00239242, -0.25221902, ..., -0.10186372,\n",
       "          0.45171267,  0.47931337],\n",
       "        ...,\n",
       "        [ 0.00754584,  0.04871409, -0.19410907, ...,  0.0928034 ,\n",
       "          0.45438516,  0.4086552 ],\n",
       "        [ 0.24060622, -0.00112065, -0.22720183, ...,  0.00126501,\n",
       "          0.4464319 ,  0.33269995],\n",
       "        [ 0.19590743, -0.00665465, -0.08001286, ..., -0.04724366,\n",
       "          0.31994745,  0.3341823 ]], dtype=float32),\n",
       " array([[-0.01060091,  0.27627617,  0.18814224, ..., -0.2954562 ,\n",
       "          0.58769745,  0.27510136],\n",
       "        [-0.13037598, -0.27746817, -0.19512655, ..., -0.21353006,\n",
       "          0.5860462 ,  0.00218248],\n",
       "        [-0.08311644, -0.11944045,  0.07117095, ..., -0.05254053,\n",
       "          0.22516312,  0.39388198],\n",
       "        ...,\n",
       "        [-0.04866134, -0.15823843,  0.09560979, ...,  0.00299972,\n",
       "          0.27702156,  0.43583617],\n",
       "        [ 0.0706858 , -0.09167301,  0.19194981, ..., -0.03562204,\n",
       "          0.24732658,  0.23341909],\n",
       "        [ 0.02585109, -0.10596772,  0.06018666, ..., -0.27626932,\n",
       "          0.40022144,  0.44373915]], dtype=float32),\n",
       " array([[ 1.1697148e-01,  6.0124651e-02,  1.0072675e-02, ...,\n",
       "          2.4886616e-04,  4.1624764e-01,  3.0686656e-01],\n",
       "        [ 1.8727213e-02, -1.8134652e-02,  9.8995350e-02, ...,\n",
       "          2.6641183e-02,  3.2510436e-01,  2.4999307e-01],\n",
       "        [ 2.3706332e-02, -2.1893300e-02,  1.5320793e-01, ...,\n",
       "         -2.0732048e-01,  4.5104012e-01,  4.3585536e-01],\n",
       "        ...,\n",
       "        [ 1.8060021e-03, -6.8578169e-02, -4.0747696e-01, ...,\n",
       "          3.9297540e-02,  6.7223585e-01,  2.4977042e-01],\n",
       "        [ 2.0388111e-02, -1.1570543e-02, -6.4915866e-03, ...,\n",
       "         -6.2834695e-02,  4.1888076e-01,  3.4588644e-01],\n",
       "        [ 1.6978830e-02, -3.6247283e-02, -2.7835853e-02, ...,\n",
       "         -9.5717452e-02,  3.5467485e-01,  5.2891982e-01]], dtype=float32),\n",
       " array([[ 0.1443695 , -0.1416513 ,  0.11043407, ..., -0.01185741,\n",
       "          0.43560377,  0.319547  ],\n",
       "        [-0.08869579, -0.05484884, -0.1908115 , ...,  0.09208579,\n",
       "          0.31569993,  0.47160754],\n",
       "        [ 0.00344269, -0.16305196,  0.20362346, ..., -0.2617134 ,\n",
       "          0.32665735,  0.52343273],\n",
       "        ...,\n",
       "        [-0.00168507,  0.05385385, -0.08683142, ...,  0.07389402,\n",
       "          0.35847595,  0.35215217],\n",
       "        [ 0.11209761,  0.23832767, -0.34378898, ...,  0.12378564,\n",
       "          0.3718974 ,  0.19507125],\n",
       "        [ 0.00676897, -0.09756951,  0.00948592, ..., -0.13730307,\n",
       "          0.35060728,  0.4317271 ]], dtype=float32),\n",
       " array([[ 0.3554012 ,  0.03643971,  0.01121451, ...,  0.0096676 ,\n",
       "          0.50542945,  0.31449115],\n",
       "        [ 0.09235595, -0.20305203,  0.22415534, ..., -0.01071349,\n",
       "          0.2669523 ,  0.3817589 ],\n",
       "        [ 0.0448871 , -0.02297846, -0.20708258, ..., -0.27272406,\n",
       "          0.5980931 ,  0.22277717],\n",
       "        ...,\n",
       "        [ 0.0632358 ,  0.13223188, -0.2240616 , ..., -0.07223957,\n",
       "          0.3107626 ,  0.1905858 ],\n",
       "        [ 0.17493874,  0.0969566 ,  0.07742748, ..., -0.31072265,\n",
       "          0.5134515 ,  0.44111463],\n",
       "        [ 0.0849999 , -0.00984294,  0.15197785, ...,  0.05867623,\n",
       "          0.3644796 ,  0.23799597]], dtype=float32),\n",
       " array([[-0.02520153,  0.02672713, -0.47272474, ..., -0.03264919,\n",
       "          0.38138402,  0.40429482],\n",
       "        [ 0.12910508,  0.17922981, -0.06387907, ..., -0.1892725 ,\n",
       "          0.5775943 ,  0.1627563 ],\n",
       "        [ 0.06439268, -0.11578925, -0.12163241, ..., -0.34966776,\n",
       "          0.414207  ,  0.46235538],\n",
       "        ...,\n",
       "        [-0.2863885 , -0.23742361, -0.06921245, ..., -0.11630546,\n",
       "          0.23741238,  0.60401756],\n",
       "        [ 0.11845277,  0.16308719, -0.19128402, ...,  0.04864372,\n",
       "          0.40740138,  0.41732383],\n",
       "        [ 0.06559718,  0.15011817, -0.2130117 , ...,  0.00082446,\n",
       "          0.57549715,  0.40616223]], dtype=float32),\n",
       " array([[ 0.02132908,  0.03487673, -0.00375525, ..., -0.07254182,\n",
       "          0.44250175,  0.30038345],\n",
       "        [-0.16501336, -0.11356477,  0.12721078, ..., -0.0651554 ,\n",
       "          0.26479504,  0.3168442 ],\n",
       "        [ 0.22208712,  0.01343879, -0.09980828, ..., -0.08172204,\n",
       "          0.26955944,  0.37682232],\n",
       "        ...,\n",
       "        [ 0.24339288, -0.01670724, -0.25254315, ..., -0.17249991,\n",
       "          0.21679232,  0.1739    ],\n",
       "        [ 0.1844767 ,  0.16429397, -0.24231993, ..., -0.47101927,\n",
       "          0.5191005 ,  0.32940006],\n",
       "        [ 0.00211899, -0.15150177, -0.1276522 , ..., -0.17328806,\n",
       "          0.34398818,  0.40876728]], dtype=float32),\n",
       " array([[ 8.93153995e-02,  8.79738852e-02, -5.15589863e-03, ...,\n",
       "          2.09125914e-02,  3.40781689e-01,  4.73952264e-01],\n",
       "        [ 4.09125537e-02, -1.09072380e-01, -2.91778803e-01, ...,\n",
       "         -1.45771205e-01,  4.50453520e-01,  3.02347451e-01],\n",
       "        [-1.11370161e-02, -1.15423286e-02, -7.07806051e-02, ...,\n",
       "          9.91352648e-02,  4.36192781e-01,  4.10467923e-01],\n",
       "        ...,\n",
       "        [ 1.65519640e-01,  1.12149548e-02, -2.08230510e-01, ...,\n",
       "          6.29272684e-02,  3.72209609e-01,  2.98734158e-01],\n",
       "        [-3.91757339e-02,  4.12316248e-03, -9.06727761e-02, ...,\n",
       "         -1.48128450e-01, -1.11376047e-01,  5.38746417e-01],\n",
       "        [-2.52083123e-01,  8.78578052e-04,  1.50706805e-02, ...,\n",
       "          3.20492312e-04,  3.40371847e-01,  4.28703129e-01]], dtype=float32),\n",
       " array([[ 0.00096072, -0.01989759, -0.09758951, ...,  0.0441794 ,\n",
       "          0.4075949 ,  0.43290842],\n",
       "        [ 0.05605628,  0.14174247, -0.5183665 , ..., -0.07576372,\n",
       "          0.65832657,  0.5159118 ],\n",
       "        [ 0.00420015,  0.05321769,  0.06645953, ..., -0.05967259,\n",
       "          0.2511476 ,  0.1218732 ],\n",
       "        ...,\n",
       "        [ 0.0373676 , -0.08847592, -0.13724236, ..., -0.00365677,\n",
       "          0.3367055 ,  0.525797  ],\n",
       "        [ 0.22455883, -0.10507111,  0.16246682, ..., -0.23655047,\n",
       "          0.2924917 ,  0.29870442],\n",
       "        [-0.0927998 , -0.01214631,  0.1561686 , ...,  0.1329077 ,\n",
       "          0.2897185 ,  0.28892094]], dtype=float32),\n",
       " array([[ 0.21949536,  0.04964993, -0.38233078, ..., -0.04495022,\n",
       "          0.39587355,  0.32620627],\n",
       "        [ 0.14450015,  0.01451205,  0.08081935, ..., -0.01523062,\n",
       "          0.29062557,  0.3285908 ],\n",
       "        [ 0.06592178, -0.02556329, -0.00806526, ...,  0.02898217,\n",
       "          0.28949207,  0.34514582],\n",
       "        ...,\n",
       "        [-0.04578989, -0.11040485, -0.02361507, ...,  0.11304693,\n",
       "          0.5171566 ,  0.51433873],\n",
       "        [ 0.1478713 ,  0.01376033,  0.13822073, ..., -0.04454981,\n",
       "          0.43134555,  0.25728437],\n",
       "        [-0.13879567,  0.0200783 ,  0.04307961, ..., -0.27138218,\n",
       "          0.07880436,  0.44768074]], dtype=float32),\n",
       " array([[-0.08298677, -0.08006562, -0.09942536, ..., -0.01488278,\n",
       "          0.4769738 ,  0.5006101 ],\n",
       "        [ 0.15442191, -0.11833936,  0.17529288, ..., -0.2196286 ,\n",
       "          0.369636  ,  0.32753643],\n",
       "        [ 0.00856104,  0.06093137,  0.02695832, ...,  0.073204  ,\n",
       "          0.42277852,  0.34886363],\n",
       "        ...,\n",
       "        [ 0.06531508, -0.05288327, -0.17446011, ..., -0.2640876 ,\n",
       "          0.70887643,  0.44103247],\n",
       "        [-0.01162915,  0.0071221 , -0.11994724, ..., -0.06592482,\n",
       "          0.26389006,  0.4707628 ],\n",
       "        [-0.16757956,  0.11417138,  0.1847701 , ...,  0.03303767,\n",
       "          0.32829165,  0.5481906 ]], dtype=float32),\n",
       " array([[-0.10168132, -0.24884318, -0.04188657, ..., -0.1716191 ,\n",
       "          0.5819009 ,  0.5911607 ],\n",
       "        [-0.03382627, -0.18505745,  0.15179056, ..., -0.05895978,\n",
       "          0.5257322 ,  0.5792626 ],\n",
       "        [-0.04285288, -0.11210253,  0.19311449, ..., -0.04001628,\n",
       "          0.1856852 ,  0.21133506],\n",
       "        ...,\n",
       "        [ 0.09002522, -0.03507121,  0.11792889, ..., -0.07809061,\n",
       "          0.46402273,  0.22237207],\n",
       "        [ 0.09237196,  0.09698462, -0.05410593, ...,  0.08275323,\n",
       "          0.50563365,  0.3662746 ],\n",
       "        [-0.1493069 ,  0.00237131, -0.0620555 , ..., -0.12629825,\n",
       "          0.15875797,  0.4736154 ]], dtype=float32),\n",
       " array([[ 0.07793722, -0.0147457 ,  0.10573392, ...,  0.15351637,\n",
       "          0.60756403,  0.4277926 ],\n",
       "        [ 0.05251459,  0.02469377,  0.15005091, ...,  0.06076482,\n",
       "          0.4906855 ,  0.43411088],\n",
       "        [ 0.12629156, -0.06506965,  0.00910608, ..., -0.11402473,\n",
       "          0.57288986,  0.21653405],\n",
       "        ...,\n",
       "        [ 0.19765557, -0.11925548, -0.13047227, ...,  0.08055311,\n",
       "          0.29497853,  0.2668983 ],\n",
       "        [ 0.09327292,  0.06421895, -0.18787669, ..., -0.01303206,\n",
       "          0.3500575 ,  0.20968534],\n",
       "        [-0.05734435,  0.14533906, -0.03155584, ..., -0.04983073,\n",
       "          0.20676582,  0.04294068]], dtype=float32),\n",
       " array([[ 0.02075774,  0.07551705, -0.35627234, ...,  0.05608572,\n",
       "          0.5029808 ,  0.4591484 ],\n",
       "        [-0.33163837, -0.13496543, -0.12565717, ..., -0.09089372,\n",
       "         -0.07354902,  0.42589608],\n",
       "        [ 0.09740528,  0.03695384, -0.08061957, ...,  0.0256811 ,\n",
       "          0.51133335,  0.475096  ],\n",
       "        ...,\n",
       "        [ 0.11886524, -0.04979335, -0.08424744, ...,  0.01813521,\n",
       "          0.38151932,  0.31281275],\n",
       "        [ 0.11608383,  0.02870476, -0.14481233, ..., -0.04069734,\n",
       "          0.40239662,  0.36370474],\n",
       "        [-0.07212747, -0.0399235 , -0.35641557, ..., -0.13956109,\n",
       "          0.21582541,  0.62246996]], dtype=float32),\n",
       " array([[-0.11977967, -0.20436534,  0.47000384, ...,  0.1190078 ,\n",
       "          0.60464525,  0.5261344 ],\n",
       "        [-0.22208999, -0.04027478, -0.01306229, ..., -0.16577433,\n",
       "          0.35801187,  0.39427736],\n",
       "        [ 0.30407453,  0.13613282, -0.09456313, ..., -0.07316682,\n",
       "          0.46695662,  0.452893  ],\n",
       "        ...,\n",
       "        [ 0.14079024,  0.13179286, -0.21753   , ..., -0.02430577,\n",
       "          0.4207626 ,  0.40607783],\n",
       "        [ 0.07384855, -0.08133526,  0.08743972, ..., -0.07001366,\n",
       "          0.36355788,  0.34303045],\n",
       "        [-0.0539744 , -0.03592639, -0.21462779, ..., -0.04286009,\n",
       "          0.3560544 ,  0.5157876 ]], dtype=float32),\n",
       " array([[ 0.12046266, -0.01690879, -0.08069479, ...,  0.05662539,\n",
       "          0.2713707 ,  0.23369205],\n",
       "        [-0.09214559, -0.13676791, -0.0494488 , ..., -0.09344531,\n",
       "          0.1083435 ,  0.48356164],\n",
       "        [ 0.02657109, -0.04754303, -0.00839888, ..., -0.03192116,\n",
       "          0.36939615,  0.47212613],\n",
       "        ...,\n",
       "        [ 0.14768326,  0.0263406 , -0.2080871 , ...,  0.037628  ,\n",
       "          0.68415666,  0.43476182],\n",
       "        [-0.06881167, -0.03059096, -0.15057385, ..., -0.07638358,\n",
       "          0.31876794,  0.45861205],\n",
       "        [ 0.09539787, -0.04771122, -0.03992491, ..., -0.03703145,\n",
       "          0.38535777,  0.28572282]], dtype=float32),\n",
       " array([[-0.24075398, -0.08116524, -0.15432413, ..., -0.03736985,\n",
       "          0.5025842 ,  0.55831724],\n",
       "        [ 0.00422289, -0.07265648,  0.00632405, ..., -0.00268319,\n",
       "          0.28648257,  0.19550063],\n",
       "        [-0.18754923, -0.13421668, -0.03239043, ..., -0.06444238,\n",
       "          0.16531152,  0.42253616],\n",
       "        ...,\n",
       "        [ 0.04750928, -0.2009343 ,  0.02545152, ...,  0.03717364,\n",
       "          0.48972756,  0.46920064],\n",
       "        [ 0.03426795,  0.0808515 , -0.41587174, ...,  0.06952546,\n",
       "          0.24474308,  0.4325195 ],\n",
       "        [-0.13381627, -0.06694331,  0.09362254, ..., -0.37733665,\n",
       "          0.5234514 ,  0.56853694]], dtype=float32),\n",
       " array([[-0.0239111 ,  0.03568179,  0.0362424 , ..., -0.07277243,\n",
       "          0.2531022 ,  0.30211744],\n",
       "        [ 0.28253898,  0.13203724, -0.13539565, ..., -0.18593678,\n",
       "          0.34063035,  0.20936707],\n",
       "        [-0.01540219,  0.03009843,  0.04560725, ...,  0.06900879,\n",
       "          0.319418  ,  0.4766978 ],\n",
       "        ...,\n",
       "        [-0.10177426, -0.03853226,  0.06341819, ..., -0.16208437,\n",
       "          0.34435806,  0.37008283],\n",
       "        [ 0.04045974,  0.05708397, -0.028425  , ..., -0.01359647,\n",
       "          0.41268978,  0.44215345],\n",
       "        [-0.08825056,  0.07094973, -0.19916044, ..., -0.06422868,\n",
       "          0.22587402,  0.6078219 ]], dtype=float32),\n",
       " array([[ 8.2853556e-02,  1.1740097e-01, -1.4346640e-01, ...,\n",
       "         -6.2990300e-02,  3.6070409e-01,  3.8606098e-01],\n",
       "        [ 2.9350094e-02,  5.9678137e-02,  1.1363955e-01, ...,\n",
       "         -3.5697512e-02,  3.2194221e-01,  2.6084679e-01],\n",
       "        [ 2.0728007e-01,  7.3721632e-05, -2.2997464e-01, ...,\n",
       "          5.9650438e-03,  4.3238047e-01,  3.6415142e-01],\n",
       "        ...,\n",
       "        [-8.7909289e-02,  2.6061932e-02, -1.4887030e-01, ...,\n",
       "          5.3259816e-02,  5.6409317e-01,  6.9182968e-01],\n",
       "        [ 1.3392396e-01, -1.2286795e-01, -2.7546757e-01, ...,\n",
       "         -8.7288521e-02,  3.1718290e-01,  5.6987059e-01],\n",
       "        [ 1.7180173e-01, -6.3300341e-02,  6.9295384e-02, ...,\n",
       "         -4.1916188e-02,  6.1359167e-01,  3.1323063e-01]], dtype=float32),\n",
       " array([[-0.0233405 , -0.17483532, -0.13966271, ..., -0.04779239,\n",
       "          0.62889063,  0.03294583],\n",
       "        [ 0.15618084, -0.0958856 , -0.03960257, ...,  0.1807161 ,\n",
       "          0.70120317,  0.6203446 ],\n",
       "        [ 0.04680948,  0.02118385,  0.01167344, ..., -0.00541625,\n",
       "          0.42300728,  0.14117017],\n",
       "        ...,\n",
       "        [-0.1662314 , -0.07110023,  0.00085589, ..., -0.07097025,\n",
       "          0.26344448,  0.25285956],\n",
       "        [-0.33690152, -0.11740729, -0.1530807 , ..., -0.01399485,\n",
       "          0.46928275,  0.40526754],\n",
       "        [ 0.05767976,  0.02675262,  0.00787214, ...,  0.20543268,\n",
       "          0.61486644,  0.52116305]], dtype=float32),\n",
       " array([[ 2.37684309e-01,  1.34664282e-01, -2.14861944e-01, ...,\n",
       "         -3.09412330e-02,  6.18636727e-01,  3.88496280e-01],\n",
       "        [-1.16646066e-01, -1.41320750e-04, -8.58139992e-03, ...,\n",
       "         -8.76656324e-02,  3.44192356e-01,  3.58582020e-01],\n",
       "        [ 2.25355834e-01,  1.16112165e-01, -1.07812971e-01, ...,\n",
       "          2.38827020e-02,  4.91959006e-01,  4.77543682e-01],\n",
       "        ...,\n",
       "        [ 2.55530119e-01, -2.01608196e-01, -9.33584571e-03, ...,\n",
       "          2.63872296e-02,  2.61491239e-01,  4.52179641e-01],\n",
       "        [ 1.39497146e-02,  1.06784575e-01, -1.17755637e-01, ...,\n",
       "         -8.15454945e-02,  5.23519099e-01,  3.30667287e-01],\n",
       "        [ 5.83422929e-02,  1.18966989e-01,  1.15751274e-01, ...,\n",
       "         -2.50146925e-01,  4.00355309e-01,  3.29757482e-01]], dtype=float32),\n",
       " array([[ 0.24130857,  0.08534537, -0.21046011, ...,  0.10549612,\n",
       "          0.40428835,  0.37387934],\n",
       "        [-0.42793986, -0.12267855, -0.3144127 , ...,  0.01804465,\n",
       "          0.24403062,  0.32122234],\n",
       "        [ 0.07040735, -0.08725835, -0.19143192, ..., -0.14290471,\n",
       "          0.45670182,  0.48991066],\n",
       "        ...,\n",
       "        [ 0.04819833, -0.204787  , -0.00814398, ..., -0.17665818,\n",
       "          0.23218088,  0.4568022 ],\n",
       "        [ 0.12364638,  0.04147913,  0.12399352, ..., -0.00558912,\n",
       "          0.19906446,  0.32818493],\n",
       "        [ 0.21235517,  0.05245123, -0.1897739 , ...,  0.06157156,\n",
       "          0.5220575 ,  0.23054552]], dtype=float32),\n",
       " array([[ 0.0975908 , -0.02310658, -0.32232946, ..., -0.30334383,\n",
       "          0.639785  ,  0.22475849],\n",
       "        [-0.33047926, -0.15603699, -0.18764667, ...,  0.13729742,\n",
       "          0.6207557 ,  0.3678687 ],\n",
       "        [-0.03948906, -0.03000313, -0.18150349, ..., -0.1108987 ,\n",
       "          0.4719524 ,  0.19509304],\n",
       "        ...,\n",
       "        [-0.18563737, -0.10359274, -0.08561158, ..., -0.07076522,\n",
       "          0.10514142,  0.3748353 ],\n",
       "        [-0.13068318, -0.19660254, -0.4093809 , ..., -0.30636695,\n",
       "          0.48122793,  0.09338742],\n",
       "        [ 0.16073827, -0.1495806 ,  0.09213454, ..., -0.00412768,\n",
       "          0.4713983 ,  0.40425143]], dtype=float32),\n",
       " array([[ 0.032206  , -0.24094331, -0.00943516, ..., -0.03229111,\n",
       "          0.44771802,  0.26056162],\n",
       "        [ 0.1064098 ,  0.04168389,  0.06318525, ...,  0.01712084,\n",
       "          0.4394145 ,  0.4071183 ],\n",
       "        [ 0.23004219, -0.00839112, -0.09021297, ...,  0.13077857,\n",
       "          0.6342672 ,  0.33276582],\n",
       "        ...,\n",
       "        [-0.23538238,  0.20193407,  0.01809511, ..., -0.26393908,\n",
       "          0.3975425 ,  0.47208598],\n",
       "        [-0.04052565,  0.04648563, -0.17727195, ..., -0.09880339,\n",
       "          0.3243942 ,  0.2983484 ],\n",
       "        [ 0.16947582,  0.1813821 , -0.05614115, ..., -0.10002804,\n",
       "          0.5272141 ,  0.18129413]], dtype=float32),\n",
       " array([[ 0.15277961,  0.21434829, -0.08469568, ...,  0.03016921,\n",
       "          0.51422966,  0.20997676],\n",
       "        [ 0.0712845 , -0.2249599 , -0.06021947, ..., -0.07189516,\n",
       "          0.41089177,  0.41957918],\n",
       "        [ 0.1520556 ,  0.2330173 , -0.00958633, ..., -0.10280524,\n",
       "          0.35096923,  0.2604843 ],\n",
       "        ...,\n",
       "        [-0.04466122,  0.11334906, -0.1393447 , ..., -0.0080286 ,\n",
       "          0.41129878,  0.63582927],\n",
       "        [-0.06966884,  0.0330143 , -0.15152195, ..., -0.00256738,\n",
       "          0.496717  ,  0.31243816],\n",
       "        [ 0.03249209, -0.10283106, -0.18142714, ..., -0.04727411,\n",
       "          0.46428922,  0.4995631 ]], dtype=float32),\n",
       " array([[ 0.01742917,  0.04397073, -0.13819145, ..., -0.31525728,\n",
       "          0.39780495,  0.57116514],\n",
       "        [-0.19084257, -0.2761053 , -0.0266433 , ...,  0.09521777,\n",
       "          0.25481328,  0.28464627],\n",
       "        [ 0.03100567, -0.00992552,  0.01555555, ..., -0.05398262,\n",
       "          0.50581133,  0.36565328],\n",
       "        ...,\n",
       "        [ 0.11766791,  0.05057091, -0.16849867, ..., -0.0474186 ,\n",
       "          0.43123445,  0.39673424],\n",
       "        [-0.14012149, -0.223591  ,  0.23734684, ..., -0.0760934 ,\n",
       "          0.5796818 ,  0.48941374],\n",
       "        [ 0.16761419,  0.05523824, -0.09285894, ..., -0.04484325,\n",
       "          0.41450652,  0.4934101 ]], dtype=float32),\n",
       " array([[ 5.63074276e-02, -1.63713053e-01,  1.00118928e-02, ...,\n",
       "         -2.01774761e-04,  3.87274295e-01,  3.66037637e-01],\n",
       "        [ 1.90518245e-01,  1.02642685e-01, -1.33792415e-01, ...,\n",
       "         -7.39123374e-02,  5.15167713e-01,  2.83628702e-01],\n",
       "        [-2.67495904e-02, -3.11804265e-01, -4.95534763e-02, ...,\n",
       "         -3.15255433e-01,  1.10360898e-01,  4.69442397e-01],\n",
       "        ...,\n",
       "        [-4.31019396e-01, -4.32136595e-01, -4.29331601e-01, ...,\n",
       "         -3.33255619e-01, -1.66646659e-01,  3.74925047e-01],\n",
       "        [ 6.65398687e-03, -9.10925791e-02, -6.30137175e-02, ...,\n",
       "         -1.79006569e-02,  5.24692178e-01,  3.16056848e-01],\n",
       "        [ 5.30986413e-02,  1.42946951e-02, -3.12688828e-01, ...,\n",
       "          4.66508605e-02,  5.19385219e-01,  3.17098886e-01]], dtype=float32),\n",
       " array([[-0.08212796, -0.1494908 ,  0.15210907, ..., -0.04365955,\n",
       "          0.5907303 ,  0.54161465],\n",
       "        [-0.0790077 ,  0.09270863, -0.0837761 , ..., -0.01588601,\n",
       "          0.36112726,  0.38413957],\n",
       "        [ 0.01871751,  0.03943852, -0.02186532, ...,  0.29602367,\n",
       "          0.28753388,  0.13879417],\n",
       "        ...,\n",
       "        [-0.17480534, -0.18870544, -0.18038358, ..., -0.23651303,\n",
       "          0.21818192,  0.4491581 ],\n",
       "        [-0.0159741 , -0.08426335, -0.13937822, ..., -0.1929013 ,\n",
       "          0.33909646,  0.47796702],\n",
       "        [-0.05276238,  0.0651672 ,  0.0517561 , ..., -0.13822375,\n",
       "          0.48967475,  0.5573742 ]], dtype=float32),\n",
       " array([[ 0.00903163, -0.06032671, -0.01852904, ..., -0.06989159,\n",
       "          0.27849966,  0.44247988],\n",
       "        [ 0.00602976,  0.04421512, -0.17372605, ..., -0.18922387,\n",
       "          0.5019855 ,  0.37834874],\n",
       "        [ 0.01849904, -0.02226044, -0.08784512, ...,  0.07333002,\n",
       "          0.2492469 ,  0.39867267],\n",
       "        ...,\n",
       "        [-0.2927233 ,  0.03166059, -0.05609763, ..., -0.16271259,\n",
       "          0.41367385,  0.3183339 ],\n",
       "        [ 0.10234755,  0.02965892,  0.09573293, ..., -0.14463463,\n",
       "          0.359112  ,  0.24688207],\n",
       "        [-0.4125346 , -0.17788938,  0.01852662, ..., -0.22592565,\n",
       "          0.1121124 ,  0.45330143]], dtype=float32),\n",
       " array([[-0.05049738, -0.05554562,  0.19801332, ..., -0.05832124,\n",
       "          0.44761086,  0.24734573],\n",
       "        [-0.03224346, -0.28047174, -0.05335551, ..., -0.13306545,\n",
       "          0.48666358,  0.5395936 ],\n",
       "        [ 0.14551023, -0.23098041,  0.00599574, ..., -0.15973686,\n",
       "          0.32449   ,  0.30121103],\n",
       "        ...,\n",
       "        [-0.08553363, -0.16101432,  0.09435555, ..., -0.2081313 ,\n",
       "          0.38486898,  0.28806028],\n",
       "        [ 0.04307535,  0.01890065, -0.00199825, ..., -0.10415655,\n",
       "          0.40899205,  0.4719658 ],\n",
       "        [ 0.06587568, -0.00619493, -0.06670819, ..., -0.08800497,\n",
       "          0.47059366,  0.2418577 ]], dtype=float32),\n",
       " array([[ 0.15188509, -0.10853613, -0.21381287, ..., -0.04285177,\n",
       "          0.37927863,  0.46207395],\n",
       "        [ 0.02440666, -0.15506372, -0.17918035, ..., -0.11576229,\n",
       "          0.46600977,  0.2951691 ],\n",
       "        [ 0.24048963,  0.11145506, -0.29781646, ..., -0.09594014,\n",
       "          0.44189414,  0.16955483],\n",
       "        ...,\n",
       "        [ 0.06984831, -0.0227052 ,  0.06915113, ..., -0.0551522 ,\n",
       "          0.43519896,  0.34860545],\n",
       "        [ 0.17317368,  0.15476055, -0.21255513, ...,  0.07745615,\n",
       "          0.27374735,  0.28977308],\n",
       "        [-0.04802978,  0.04771335,  0.12134442, ..., -0.20212205,\n",
       "          0.5425854 ,  0.92746216]], dtype=float32),\n",
       " array([[ 2.05385596e-01, -1.59232598e-03, -2.19548002e-01, ...,\n",
       "         -1.44840442e-02,  3.19886863e-01,  2.10435744e-02],\n",
       "        [-1.25034124e-01, -4.19368334e-02,  8.71688128e-03, ...,\n",
       "         -1.37778506e-01,  4.10067797e-01,  8.08835685e-01],\n",
       "        [ 7.28721917e-02,  3.35834920e-05,  1.42547652e-01, ...,\n",
       "          6.60051107e-02,  1.80644557e-01,  1.68432474e-01],\n",
       "        ...,\n",
       "        [-1.37140870e-01,  5.08244038e-02,  3.27482045e-01, ...,\n",
       "         -1.84148803e-01,  4.64154571e-01,  3.10565323e-01],\n",
       "        [-1.32028535e-02,  8.24164078e-02, -3.30430865e-02, ...,\n",
       "         -2.73313373e-04,  3.92801642e-01,  4.64390069e-01],\n",
       "        [-2.54730046e-01, -9.05716196e-02,  3.54094148e-01, ...,\n",
       "         -1.52119547e-01,  5.51657081e-01,  7.54833102e-01]], dtype=float32),\n",
       " array([[ 0.03168618, -0.02887401, -0.02319245, ..., -0.0620584 ,\n",
       "          0.4756726 ,  0.49109685],\n",
       "        [-0.1635317 ,  0.10665496, -0.0469004 , ..., -0.05172778,\n",
       "          0.5504979 ,  0.45650017],\n",
       "        [-0.02192315,  0.08590592, -0.09968641, ..., -0.12425551,\n",
       "          0.34004086,  0.36360702],\n",
       "        ...,\n",
       "        [-0.01810194, -0.14142387, -0.09781833, ..., -0.1675798 ,\n",
       "          0.2686663 ,  0.36207595],\n",
       "        [-0.38906392, -0.09796129, -0.15280908, ..., -0.29003263,\n",
       "          0.16322531,  0.35684824],\n",
       "        [ 0.15381756, -0.02359146, -0.0843989 , ...,  0.03674592,\n",
       "          0.3294245 ,  0.2753104 ]], dtype=float32),\n",
       " array([[ 0.04155564, -0.05957887, -0.13590899, ..., -0.05170854,\n",
       "          0.4123183 ,  0.43496612],\n",
       "        [-0.15685257, -0.2686798 , -0.2245469 , ..., -0.11780479,\n",
       "          0.06914009,  0.42826027],\n",
       "        [ 0.2612814 , -0.01218603, -0.01437844, ...,  0.02800851,\n",
       "          0.39744446,  0.30263758],\n",
       "        ...,\n",
       "        [-0.08225743, -0.1308595 , -0.31313342, ...,  0.05129623,\n",
       "          0.5110241 ,  0.41931713],\n",
       "        [ 0.03707608, -0.06243064, -0.00325478, ...,  0.03824606,\n",
       "          0.2540091 ,  0.37909955],\n",
       "        [-0.08618949, -0.11831467, -0.06676434, ..., -0.02896196,\n",
       "          0.14134412,  0.26314825]], dtype=float32),\n",
       " array([[-0.6900797 ,  0.0623855 , -0.7193408 , ...,  0.18367395,\n",
       "          0.42086607,  0.50571626],\n",
       "        [ 0.24067983,  0.00788181, -0.05272903, ...,  0.05487036,\n",
       "          0.3871029 ,  0.33816844],\n",
       "        [ 0.05505297, -0.08389255, -0.10402641, ..., -0.00641767,\n",
       "          0.40584248,  0.38269383],\n",
       "        ...,\n",
       "        [-0.14007577, -0.28836894,  0.10294521, ..., -0.13870391,\n",
       "          0.09381906,  0.43607008],\n",
       "        [ 0.052434  ,  0.06769224, -0.07530318, ...,  0.07611571,\n",
       "          0.42236546,  0.33466396],\n",
       "        [-0.18679929,  0.06560719, -0.18666063, ..., -0.12118573,\n",
       "          0.06405499,  0.47265506]], dtype=float32),\n",
       " array([[-0.01530191,  0.00823107,  0.14796236, ..., -0.01764272,\n",
       "          0.2385839 ,  0.27173102],\n",
       "        [-0.03353466, -0.0190484 ,  0.0325557 , ...,  0.03906349,\n",
       "          0.5333999 ,  0.48479474],\n",
       "        [ 0.01518852, -0.09217438,  0.07215592, ...,  0.01784061,\n",
       "          0.20949908,  0.3043143 ],\n",
       "        ...,\n",
       "        [ 0.01151537,  0.08438147, -0.10298976, ..., -0.0261573 ,\n",
       "          0.4775293 ,  0.36204305],\n",
       "        [ 0.14401427,  0.11558429,  0.01535124, ...,  0.02190492,\n",
       "          0.45120585,  0.44340742],\n",
       "        [-0.30773112, -0.18836403,  0.08800538, ..., -0.15084888,\n",
       "          0.09202311,  0.5483281 ]], dtype=float32),\n",
       " array([[ 0.01676798, -0.05898119, -0.08417542, ...,  0.05424162,\n",
       "          0.2262436 ,  0.53805554],\n",
       "        [ 0.07749711, -0.04876348, -0.26385844, ..., -0.10286   ,\n",
       "          0.32070225,  0.37515354],\n",
       "        [-0.18698153,  0.04626605, -0.20984991, ..., -0.18798263,\n",
       "          0.3292354 ,  0.4383106 ],\n",
       "        ...,\n",
       "        [-0.1586847 ,  0.02553052, -0.18833716, ..., -0.05914817,\n",
       "          0.35455906,  0.1586679 ],\n",
       "        [-0.04690348,  0.02323004, -0.23676457, ..., -0.04568068,\n",
       "          0.67223835,  0.43580455],\n",
       "        [-0.067019  , -0.1103757 , -0.01573541, ..., -0.23640306,\n",
       "          0.34580746,  0.41772956]], dtype=float32),\n",
       " array([[ 0.04593248, -0.04288201,  0.13218145, ..., -0.07765809,\n",
       "          0.36805174,  0.4480512 ],\n",
       "        [-0.02643662,  0.06947581, -0.04618911, ..., -0.08977289,\n",
       "          0.31565133,  0.36816832],\n",
       "        [ 0.07171623, -0.13622168, -0.37368292, ..., -0.11244182,\n",
       "          0.42497626,  0.3631349 ],\n",
       "        ...,\n",
       "        [-0.15539707, -0.183286  ,  0.17099234, ..., -0.10144135,\n",
       "          0.5346433 ,  0.71820456],\n",
       "        [-0.21628304, -0.20617813,  0.06129358, ..., -0.28557673,\n",
       "          0.5191072 ,  0.60741645],\n",
       "        [-0.03893472, -0.03778695,  0.08252515, ...,  0.02080658,\n",
       "          0.4627793 ,  0.46262056]], dtype=float32),\n",
       " array([[-0.09079838, -0.03837211, -0.03545677, ..., -0.05823075,\n",
       "          0.4241035 ,  0.58177024],\n",
       "        [ 0.06027293,  0.17047153, -0.23502503, ...,  0.00723809,\n",
       "          0.28192168,  0.51034725],\n",
       "        [-0.16556108,  0.03975261, -0.29726022, ..., -0.03067184,\n",
       "          0.24800189,  0.5939976 ],\n",
       "        ...,\n",
       "        [ 0.12191914,  0.10794124, -0.25065696, ..., -0.09516027,\n",
       "          0.47707403,  0.6220725 ],\n",
       "        [ 0.03237512, -0.08491397, -0.06585768, ..., -0.0232632 ,\n",
       "          0.6782073 ,  0.23797561],\n",
       "        [-0.06110156, -0.04753628, -0.12261426, ..., -0.02091031,\n",
       "          0.24220137,  0.26357794]], dtype=float32),\n",
       " array([[ 0.20780912,  0.11326677, -0.28634852, ...,  0.03187729,\n",
       "          0.50476414,  0.32964563],\n",
       "        [ 0.05102997, -0.04339079,  0.10041862, ..., -0.05728177,\n",
       "          0.5009622 ,  0.3844986 ],\n",
       "        [ 0.20777598, -0.01340961, -0.19712357, ..., -0.24902527,\n",
       "          0.37613195,  0.42463574],\n",
       "        ...,\n",
       "        [-0.10938799, -0.06423163, -0.05006386, ..., -0.07159409,\n",
       "          0.44087717,  0.46323436],\n",
       "        [ 0.1919714 ,  0.12540726, -0.14525178, ..., -0.07601196,\n",
       "          0.4265223 ,  0.20189525],\n",
       "        [ 0.04983488, -0.02257665, -0.393301  , ..., -0.00165128,\n",
       "          0.6685123 ,  0.55149233]], dtype=float32),\n",
       " array([[ 0.05842956, -0.13499625, -0.16064474, ...,  0.04491554,\n",
       "          0.45466104,  0.42106676],\n",
       "        [-0.5097914 , -0.30888054, -0.07425782, ..., -0.16999735,\n",
       "          0.22949545,  0.52134013],\n",
       "        [ 0.11875553,  0.07167193, -0.18184389, ..., -0.2043949 ,\n",
       "          0.27404937,  0.12367709],\n",
       "        ...,\n",
       "        [ 0.12669623, -0.04821113,  0.02641165, ..., -0.00616514,\n",
       "          0.47730544,  0.38465917],\n",
       "        [-0.23563737, -0.0950813 , -0.58125633, ...,  0.05796574,\n",
       "          0.87560207,  0.42193267],\n",
       "        [-0.04829185, -0.00629604, -0.18811177, ..., -0.12762173,\n",
       "          0.35049924,  0.50478387]], dtype=float32),\n",
       " array([[-0.21890618, -0.06900473, -0.00390586, ..., -0.12437527,\n",
       "          0.3382859 ,  0.48708004],\n",
       "        [ 0.14321002, -0.19204412,  0.0333781 , ..., -0.14458227,\n",
       "          0.25289714,  0.3960442 ],\n",
       "        [-0.01104714, -0.01310353, -0.07118206, ..., -0.01421093,\n",
       "          0.49397305,  0.5908803 ],\n",
       "        ...,\n",
       "        [-0.12212401,  0.02225476, -0.2375616 , ..., -0.09936506,\n",
       "          0.67298555,  0.6626575 ],\n",
       "        [ 0.01256336,  0.17579763, -0.22965457, ..., -0.17656913,\n",
       "          0.45834082,  0.32100782],\n",
       "        [ 0.12322214,  0.15533493, -0.2547174 , ..., -0.16586041,\n",
       "          0.55051315,  0.29819462]], dtype=float32),\n",
       " array([[ 0.05940077, -0.04272554,  0.04850379, ...,  0.0324293 ,\n",
       "          0.42878026,  0.2292572 ],\n",
       "        [ 0.08262236,  0.10027473, -0.06814465, ...,  0.0140776 ,\n",
       "          0.436979  ,  0.35115156],\n",
       "        [-0.4311885 , -0.07008578,  0.19394879, ..., -0.24420352,\n",
       "          0.5223884 ,  0.26998422],\n",
       "        ...,\n",
       "        [-0.14658418, -0.02264196, -0.22869308, ..., -0.18775661,\n",
       "          0.08685054,  0.26862612],\n",
       "        [-0.12959898, -0.03136721, -0.01815977, ..., -0.13554461,\n",
       "          0.18836717,  0.4024299 ],\n",
       "        [ 0.12475102, -0.09212988, -0.06339756, ...,  0.02084665,\n",
       "          0.54668725,  0.25014633]], dtype=float32),\n",
       " array([[ 0.18819247,  0.06833491,  0.1830616 , ...,  0.02497204,\n",
       "          0.253639  ,  0.27915627],\n",
       "        [-0.22114658, -0.19839434, -0.40490103, ..., -0.15781951,\n",
       "          0.32178336,  0.48252958],\n",
       "        [ 0.10409096, -0.10749301,  0.06751838, ..., -0.29374814,\n",
       "          0.34570423,  0.23102957],\n",
       "        ...,\n",
       "        [-0.01963518,  0.06766013, -0.09549925, ...,  0.06274095,\n",
       "          0.3606347 ,  0.36653626],\n",
       "        [-0.16722183, -0.11663984,  0.06921611, ..., -0.19324216,\n",
       "          0.61017114,  0.5237281 ],\n",
       "        [ 0.07259431,  0.03592862, -0.01235079, ..., -0.06341489,\n",
       "          0.29225034,  0.54744637]], dtype=float32),\n",
       " array([[ 0.02166817,  0.04370058,  0.05534248, ...,  0.01648457,\n",
       "          0.23944691,  0.30274862],\n",
       "        [-0.0662289 , -0.02741671, -0.09203276, ...,  0.02653763,\n",
       "          0.4609019 ,  0.59705395],\n",
       "        [-0.05676345, -0.03156343, -0.02162924, ...,  0.044323  ,\n",
       "          0.431236  ,  0.40606838],\n",
       "        ...,\n",
       "        [ 0.25814003,  0.06107752,  0.05501093, ..., -0.03977082,\n",
       "          0.4285362 ,  0.2861717 ],\n",
       "        [ 0.05445389,  0.0410202 ,  0.02373666, ..., -0.19139788,\n",
       "          0.32986215,  0.38162434],\n",
       "        [-0.04608402, -0.11195285, -0.07823406, ..., -0.21861707,\n",
       "          0.40085977,  0.42467135]], dtype=float32),\n",
       " array([[-0.1683541 , -0.03314652,  0.13605689, ..., -0.12509365,\n",
       "          0.30409464,  0.41421354],\n",
       "        [-0.14868155,  0.09465361, -0.1331505 , ...,  0.10336002,\n",
       "          0.4666633 ,  0.37427333],\n",
       "        [ 0.04603705, -0.07927024, -0.06467019, ..., -0.03624529,\n",
       "          0.24142866,  0.364948  ],\n",
       "        ...,\n",
       "        [-0.17401622, -0.15149641, -0.32703197, ...,  0.07710899,\n",
       "          0.7696243 ,  0.2390299 ],\n",
       "        [-0.01417687, -0.18627599,  0.20200446, ..., -0.05106038,\n",
       "          0.3156207 ,  0.12630446],\n",
       "        [ 0.09670655, -0.09667539, -0.1686185 , ...,  0.02980567,\n",
       "          0.28871578,  0.451538  ]], dtype=float32),\n",
       " array([[ 0.00094336, -0.09566362,  0.05809569, ..., -0.20315653,\n",
       "          0.3185868 ,  0.46270698],\n",
       "        [ 0.1319013 , -0.03610112,  0.03550536, ..., -0.06877096,\n",
       "          0.262804  ,  0.36262172],\n",
       "        [-0.02596851, -0.16709307,  0.20616487, ..., -0.01867829,\n",
       "          0.1992325 ,  0.23809536],\n",
       "        ...,\n",
       "        [ 0.02455708,  0.03538164, -0.1674814 , ..., -0.16036333,\n",
       "          0.3001499 ,  0.5963101 ],\n",
       "        [-0.15884793,  0.12430603, -0.22794189, ..., -0.23299883,\n",
       "          0.3792313 ,  0.38177297],\n",
       "        [-0.1063533 , -0.0609834 ,  0.02694894, ..., -0.09988127,\n",
       "          0.33733755,  0.44852132]], dtype=float32),\n",
       " array([[-0.14797889, -0.11906614,  0.08171991, ..., -0.00557629,\n",
       "          0.27681208,  0.36870557],\n",
       "        [ 0.14695029, -0.00674367, -0.31676257, ...,  0.01044571,\n",
       "          0.513609  ,  0.54244787],\n",
       "        [ 0.07979991, -0.03631524,  0.00575099, ..., -0.02198613,\n",
       "          0.33622956,  0.3765085 ],\n",
       "        ...,\n",
       "        [ 0.03970681,  0.06015662, -0.01682542, ...,  0.07441799,\n",
       "          0.26636112,  0.39738855],\n",
       "        [-0.02545772, -0.09999397, -0.14240843, ..., -0.1785953 ,\n",
       "          0.5753953 ,  0.20358127],\n",
       "        [ 0.09508294, -0.01825545, -0.06115098, ..., -0.10574164,\n",
       "          0.33727548,  0.31908965]], dtype=float32),\n",
       " array([[-0.03248411, -0.13222417, -0.13599272, ..., -0.10953748,\n",
       "          0.4773864 ,  0.41167012],\n",
       "        [ 0.17275268,  0.28050086, -0.24494936, ..., -0.1653792 ,\n",
       "          0.5227338 ,  0.31542212],\n",
       "        [ 0.06937569,  0.13523737, -0.15615404, ..., -0.1228949 ,\n",
       "          0.22149952,  0.41767797],\n",
       "        ...,\n",
       "        [-0.02904416,  0.00633895, -0.00768968, ..., -0.01004062,\n",
       "          0.38838467,  0.5114997 ],\n",
       "        [ 0.09373049, -0.04743716, -0.07371646, ..., -0.05337397,\n",
       "          0.18796544,  0.2992899 ],\n",
       "        [-0.11556129, -0.16391338, -0.26960373, ...,  0.00989517,\n",
       "          0.3842147 ,  0.6953533 ]], dtype=float32),\n",
       " array([[ 0.05980892,  0.15102124,  0.07681236, ...,  0.03418613,\n",
       "          0.38978887,  0.40639162],\n",
       "        [-0.07060676, -0.4491534 ,  0.18898156, ...,  0.01096317,\n",
       "          0.4821022 ,  0.93094105],\n",
       "        [-0.02652242, -0.08708619, -0.39583802, ..., -0.18200614,\n",
       "          0.408008  ,  0.6708002 ],\n",
       "        ...,\n",
       "        [ 0.1333008 , -0.11268355,  0.13363087, ..., -0.04493207,\n",
       "          0.23871684,  0.49206352],\n",
       "        [ 0.01261217, -0.05366913, -0.09027456, ..., -0.09894101,\n",
       "          0.6771186 ,  0.37939525],\n",
       "        [ 0.22802287, -0.07906384, -0.08536564, ..., -0.11415845,\n",
       "          0.3745089 ,  0.32568237]], dtype=float32),\n",
       " array([[ 0.05971311, -0.17235538, -0.2299899 , ..., -0.02862533,\n",
       "          0.49602813,  0.4574278 ],\n",
       "        [-0.02161562, -0.17426577,  0.32484657, ..., -0.0435969 ,\n",
       "          0.567887  ,  0.33994636],\n",
       "        [ 0.11197606, -0.01383804, -0.07988067, ..., -0.09378894,\n",
       "          0.62069273,  0.36309335],\n",
       "        ...,\n",
       "        [-0.21017906, -0.09881576, -0.33818567, ..., -0.02849501,\n",
       "          0.38865092,  0.22644599],\n",
       "        [ 0.02351376,  0.10293502, -0.16389653, ..., -0.01059768,\n",
       "          0.40422904,  0.48414552],\n",
       "        [ 0.05811185, -0.0402833 ,  0.20832716, ..., -0.06326807,\n",
       "          0.44271982,  0.2211174 ]], dtype=float32),\n",
       " array([[-0.10336818,  0.08675314,  0.08722322, ...,  0.03244036,\n",
       "          0.45016813,  0.5796452 ],\n",
       "        [-0.09521419,  0.06942809, -0.12760597, ..., -0.09426208,\n",
       "          0.4534557 ,  0.27018526],\n",
       "        [ 0.14737336,  0.01464364, -0.11105539, ..., -0.12423575,\n",
       "          0.23457266,  0.45559627],\n",
       "        ...,\n",
       "        [ 0.15768857,  0.10667543, -0.00741661, ...,  0.02939397,\n",
       "          0.37919608,  0.26474726],\n",
       "        [ 0.18589279, -0.01666969, -0.00913565, ...,  0.11950978,\n",
       "          0.51724875,  0.29901683],\n",
       "        [-0.15924841, -0.14056873,  0.03992429, ..., -0.09078106,\n",
       "          0.21938601,  0.35160875]], dtype=float32),\n",
       " array([[-0.12287741, -0.01639073, -0.07312447, ..., -0.05486238,\n",
       "          0.30626404,  0.66748494],\n",
       "        [-0.34290695, -0.12170073, -0.14462776, ..., -0.11586651,\n",
       "          0.3156099 ,  0.46390387],\n",
       "        [-0.01917084, -0.08425443, -0.1083872 , ..., -0.22438875,\n",
       "          0.29539904,  0.49948722],\n",
       "        ...,\n",
       "        [ 0.1653025 ,  0.01467682,  0.15228368, ..., -0.07121959,\n",
       "          0.42966044,  0.25924647],\n",
       "        [ 0.02748315,  0.1614584 , -0.28801304, ..., -0.04335903,\n",
       "          0.2546671 ,  0.44615984],\n",
       "        [-0.0572507 , -0.05927566, -0.10837644, ..., -0.14586908,\n",
       "          0.44548842,  0.51600295]], dtype=float32),\n",
       " array([[ 0.11797334,  0.12368826, -0.06621067, ..., -0.00226417,\n",
       "          0.24356811,  0.2888847 ],\n",
       "        [ 0.14345588,  0.20894192,  0.0126378 , ...,  0.05038397,\n",
       "          0.40122563,  0.38682115],\n",
       "        [ 0.01755454, -0.09470808,  0.12086347, ...,  0.07649017,\n",
       "          0.56285375,  0.3290546 ],\n",
       "        ...,\n",
       "        [-0.24776584, -0.0828396 , -0.03213264, ..., -0.17638057,\n",
       "          0.5275806 ,  0.41790468],\n",
       "        [-0.07521102,  0.00676711,  0.17374578, ...,  0.01294079,\n",
       "          0.25282457,  0.2883271 ],\n",
       "        [-0.05685326,  0.03209478, -0.18918489, ..., -0.02277771,\n",
       "          0.4229327 ,  0.24575703]], dtype=float32),\n",
       " array([[-0.05328037, -0.17181705, -0.17886741, ..., -0.06324285,\n",
       "          0.434336  ,  0.37503806],\n",
       "        [-0.29928088, -0.06751696, -0.08254708, ...,  0.07503963,\n",
       "          0.41733414,  0.53808796],\n",
       "        [-0.27551034, -0.00570785, -0.20065688, ...,  0.24575661,\n",
       "          0.49987185,  0.21375057],\n",
       "        ...,\n",
       "        [-0.08324258,  0.07175027,  0.00101094, ..., -0.14333546,\n",
       "          0.15792555,  0.41587618],\n",
       "        [ 0.05685011, -0.00979017,  0.16193266, ..., -0.05817174,\n",
       "          0.25101733,  0.36236444],\n",
       "        [-0.01065434, -0.2497934 ,  0.16394076, ..., -0.24775162,\n",
       "          0.43722376,  0.44854692]], dtype=float32),\n",
       " array([[-0.08808398, -0.08821507,  0.03423652, ...,  0.06689395,\n",
       "          0.4491662 ,  0.4529011 ],\n",
       "        [-0.13369313, -0.13753316, -0.08638375, ..., -0.07149331,\n",
       "          0.59357446,  0.20485398],\n",
       "        [ 0.06802343, -0.12737702, -0.18552856, ..., -0.08304328,\n",
       "          0.5192563 ,  0.35119542],\n",
       "        ...,\n",
       "        [ 0.09949008, -0.03852955,  0.17800352, ..., -0.02732959,\n",
       "          0.23425788,  0.32287282],\n",
       "        [-0.12608421, -0.21754842,  0.06059785, ..., -0.01483298,\n",
       "          0.5125262 ,  0.5863539 ],\n",
       "        [-0.06912952, -0.09913713, -0.05327212, ..., -0.06315778,\n",
       "          0.47526324,  0.5346207 ]], dtype=float32),\n",
       " array([[-0.158143  ,  0.17093399, -0.17472865, ..., -0.16013697,\n",
       "          0.36940455,  0.54228354],\n",
       "        [ 0.24865618,  0.022989  , -0.05788043, ..., -0.08316857,\n",
       "          0.250696  ,  0.4590531 ],\n",
       "        [-0.09117636,  0.0845078 , -0.25210768, ...,  0.10571919,\n",
       "          0.7180948 ,  0.51769304],\n",
       "        ...,\n",
       "        [-0.3617174 , -0.10825901,  0.06210667, ...,  0.02882333,\n",
       "          0.38669664,  0.70388347],\n",
       "        [-0.10092913,  0.12076788, -0.11784472, ...,  0.07809125,\n",
       "          0.25145894,  0.55157214],\n",
       "        [ 0.15957616, -0.0171363 , -0.07643035, ..., -0.06761285,\n",
       "          0.38466248,  0.34655795]], dtype=float32),\n",
       " array([[-0.21087642,  0.01652246, -0.18765123, ..., -0.00896489,\n",
       "          0.7674463 ,  0.5480275 ],\n",
       "        [-0.00713261, -0.3151727 , -0.06011708, ..., -0.03321767,\n",
       "          0.5474813 ,  0.3484637 ],\n",
       "        [ 0.08380771, -0.15864143,  0.13935575, ..., -0.05970385,\n",
       "          0.42849022,  0.32859996],\n",
       "        ...,\n",
       "        [ 0.14831012,  0.00340361, -0.2671619 , ..., -0.01943731,\n",
       "          0.39533687,  0.2851901 ],\n",
       "        [ 0.04549782, -0.01265536, -0.04587489, ..., -0.17479905,\n",
       "          0.3925925 ,  0.46165964],\n",
       "        [ 0.17709535,  0.03289734,  0.09358288, ...,  0.09022793,\n",
       "          0.27210626,  0.31778428]], dtype=float32),\n",
       " array([[ 0.04796272,  0.0546945 ,  0.00706577, ..., -0.09060762,\n",
       "          0.3752658 ,  0.39247003],\n",
       "        [-0.08345828, -0.15037692, -0.1242404 , ..., -0.06070264,\n",
       "          0.4031418 ,  0.40882277],\n",
       "        [-0.07405074,  0.03965046, -0.06206271, ..., -0.00525933,\n",
       "          0.35101253,  0.29125512],\n",
       "        ...,\n",
       "        [ 0.13876541,  0.0555726 , -0.17023405, ...,  0.01521658,\n",
       "          0.5776448 ,  0.38734743],\n",
       "        [-0.42771637, -0.32723   , -0.11970291, ..., -0.37782285,\n",
       "          0.00876922,  0.53543186],\n",
       "        [-0.02162234,  0.0251779 ,  0.0256715 , ...,  0.01226095,\n",
       "          0.34932697,  0.39454713]], dtype=float32),\n",
       " array([[-0.01812375, -0.0542693 ,  0.01521894, ..., -0.13246037,\n",
       "          0.34555963,  0.2334478 ],\n",
       "        [-0.06507564, -0.11513011,  0.05701698, ...,  0.07412405,\n",
       "          0.48764077,  0.3563423 ],\n",
       "        [ 0.01539175,  0.14832465, -0.03470629, ..., -0.07116456,\n",
       "          0.54381734,  0.565652  ],\n",
       "        ...,\n",
       "        [-0.12272272, -0.00689983, -0.28719985, ..., -0.2075935 ,\n",
       "          0.41261292,  0.5035145 ],\n",
       "        [ 0.04682013, -0.20555653, -0.11337361, ..., -0.08790235,\n",
       "          0.41975674,  0.4316935 ],\n",
       "        [ 0.10226478, -0.23453793,  0.01020696, ..., -0.04222998,\n",
       "          0.47289348,  0.2472129 ]], dtype=float32),\n",
       " array([[-0.00886075,  0.03989217, -0.17611404, ..., -0.10888861,\n",
       "          0.35697845,  0.14036663],\n",
       "        [ 0.12744756, -0.14178032, -0.04131942, ..., -0.17778629,\n",
       "          0.50404316,  0.22043544],\n",
       "        [ 0.03322541, -0.02896605,  0.0071495 , ..., -0.2566835 ,\n",
       "          0.47988787,  0.11520204],\n",
       "        ...,\n",
       "        [-0.0119091 ,  0.05474591, -0.00885151, ..., -0.05517508,\n",
       "          0.32138747,  0.24274223],\n",
       "        [-0.15886757, -0.22034577,  0.03576557, ..., -0.02074119,\n",
       "          0.43773028,  0.52229714],\n",
       "        [-0.05793896, -0.17249632,  0.11436336, ..., -0.18190646,\n",
       "          0.2880969 ,  0.2473255 ]], dtype=float32),\n",
       " array([[ 1.17357165e-01, -3.94463003e-01, -2.30231360e-02, ...,\n",
       "         -4.24416251e-02,  4.19855535e-01,  2.39563569e-01],\n",
       "        [-1.34242654e-01, -1.41954675e-01,  2.91126221e-02, ...,\n",
       "         -9.50477496e-02,  1.46451965e-01,  2.67898083e-01],\n",
       "        [ 1.63447857e-01,  1.22533012e-02,  1.81564838e-02, ...,\n",
       "          1.33341104e-01,  3.53878051e-01,  1.70667455e-01],\n",
       "        ...,\n",
       "        [-4.50330190e-02,  1.05004981e-02, -3.43099773e-01, ...,\n",
       "          8.24857969e-03,  6.58079207e-01,  5.61288476e-01],\n",
       "        [ 5.88509887e-02, -1.92666322e-01, -9.13809538e-02, ...,\n",
       "         -8.70419964e-02,  3.85527968e-01,  4.82549578e-01],\n",
       "        [-5.21762669e-03,  1.35302544e-05,  9.31401327e-02, ...,\n",
       "          5.70489801e-02,  4.70173270e-01,  3.82925868e-01]], dtype=float32),\n",
       " array([[ 0.18454167, -0.12337882,  0.04497225, ..., -0.1274602 ,\n",
       "          0.47667474,  0.32869425],\n",
       "        [ 0.14942463, -0.03926024, -0.38811457, ..., -0.05543846,\n",
       "          0.4516807 ,  0.36217532],\n",
       "        [-0.01404079,  0.02519722, -0.20811157, ...,  0.03374357,\n",
       "          0.4113492 ,  0.38638353],\n",
       "        ...,\n",
       "        [ 0.08173567, -0.0768113 ,  0.05310301, ..., -0.02302409,\n",
       "          0.3530966 ,  0.23463996],\n",
       "        [-0.19996068, -0.15014653, -0.00559469, ..., -0.1804833 ,\n",
       "          0.16913377,  0.62275845],\n",
       "        [-0.19559938,  0.02751171,  0.06328663, ..., -0.1669412 ,\n",
       "          0.23292284,  0.2955876 ]], dtype=float32),\n",
       " array([[ 0.14267322,  0.01974255, -0.15791307, ..., -0.12192142,\n",
       "          0.22984353,  0.48363543],\n",
       "        [-0.27501377, -0.11945308, -0.20673491, ..., -0.06998727,\n",
       "          0.29233533,  0.5936988 ],\n",
       "        [-0.00850255, -0.04990846, -0.01631463, ...,  0.01790985,\n",
       "          0.31781054,  0.4010771 ],\n",
       "        ...,\n",
       "        [ 0.1633359 , -0.00337707, -0.04311422, ...,  0.05867447,\n",
       "          0.2613846 ,  0.22997013],\n",
       "        [-0.00167623, -0.01256738,  0.00728626, ..., -0.1227397 ,\n",
       "          0.5445899 ,  0.5575106 ],\n",
       "        [ 0.00333573, -0.06052171,  0.04764657, ...,  0.01568661,\n",
       "          0.4675566 ,  0.45489165]], dtype=float32),\n",
       " array([[-0.17859246, -0.06964309,  0.15075383, ...,  0.00392256,\n",
       "          0.489525  ,  0.43366796],\n",
       "        [ 0.18474288, -0.01448298, -0.05957946, ..., -0.01083825,\n",
       "          0.27517185,  0.41453615],\n",
       "        [-0.13243085,  0.02896428,  0.05840905, ...,  0.0568824 ,\n",
       "          0.5158243 ,  0.47649455],\n",
       "        ...,\n",
       "        [ 0.01862676, -0.26356146,  0.1526365 , ...,  0.00878011,\n",
       "          0.18078206,  0.31336963],\n",
       "        [ 0.0087884 , -0.20034933, -0.5027975 , ..., -0.05196789,\n",
       "          0.5481    ,  0.1063133 ],\n",
       "        [-0.10154406, -0.0127346 , -0.01936048, ..., -0.24421476,\n",
       "          0.34655955,  0.18902892]], dtype=float32),\n",
       " array([[ 5.9972808e-02, -7.2956085e-02, -9.6613064e-02, ...,\n",
       "         -1.8964596e-01,  4.1728416e-01,  3.9793533e-01],\n",
       "        [ 2.1944505e-01,  6.5985784e-02, -2.1651305e-01, ...,\n",
       "          1.4891739e-01,  5.1874220e-01,  2.9806510e-01],\n",
       "        [ 9.0899780e-02, -7.3978007e-02,  1.2680924e-01, ...,\n",
       "         -9.8620489e-02,  4.6390560e-01,  3.5961309e-01],\n",
       "        ...,\n",
       "        [-2.9143179e-02, -3.2832056e-02, -1.9569467e-01, ...,\n",
       "         -2.7385063e-02,  4.4347101e-01,  5.7898921e-01],\n",
       "        [-2.0518245e-02, -6.1121089e-03, -1.7414480e-02, ...,\n",
       "          5.0679494e-02,  3.2077157e-01,  4.2664573e-01],\n",
       "        [-1.0787323e-04, -2.2532970e-02, -4.9600072e-02, ...,\n",
       "         -1.8856001e-01,  4.5880255e-01,  6.3640296e-01]], dtype=float32),\n",
       " array([[-2.2928700e-01, -6.0949378e-02,  4.5720197e-02, ...,\n",
       "         -5.6762639e-02,  2.9951587e-01,  5.4731399e-01],\n",
       "        [-2.5638002e-01, -1.8743570e-01, -1.8286334e-01, ...,\n",
       "         -1.5013690e-01,  2.7534890e-01,  6.1324549e-01],\n",
       "        [ 1.9021690e-01, -1.7664693e-01, -1.4036016e-01, ...,\n",
       "         -1.6931112e-01,  3.2093322e-01,  2.4573682e-01],\n",
       "        ...,\n",
       "        [ 2.0059220e-01, -1.0837384e-01,  1.8569347e-01, ...,\n",
       "          1.3191043e-01,  2.7397859e-01,  2.7224436e-01],\n",
       "        [ 1.8973607e-01,  7.7125177e-02, -7.4462503e-02, ...,\n",
       "          4.8920792e-04,  4.7286436e-01,  4.4338128e-01],\n",
       "        [ 5.4517597e-02,  9.6524790e-02, -1.9203486e-01, ...,\n",
       "          3.4721777e-02,  2.7382901e-01,  1.8933541e-01]], dtype=float32),\n",
       " array([[ 0.05858309, -0.1771876 , -0.04691745, ..., -0.04945669,\n",
       "          0.53231496,  0.3375837 ],\n",
       "        [ 0.00601381, -0.08975152, -0.1740075 , ..., -0.10641537,\n",
       "          0.32674155,  0.33399332],\n",
       "        [ 0.09912956,  0.10887331, -0.1164096 , ..., -0.12779698,\n",
       "          0.45970407,  0.28290316],\n",
       "        ...,\n",
       "        [ 0.1815613 , -0.18682228,  0.06847846, ..., -0.09894755,\n",
       "          0.37370384,  0.4438696 ],\n",
       "        [ 0.01349396,  0.06252903, -0.01793206, ..., -0.13377413,\n",
       "          0.3153846 ,  0.44772595],\n",
       "        [ 0.20737356,  0.10044657, -0.03917612, ..., -0.04853437,\n",
       "          0.3134283 ,  0.10966632]], dtype=float32),\n",
       " array([[-0.17413603, -0.26049018,  0.3360237 , ..., -0.33399475,\n",
       "          0.6475037 ,  0.40300226],\n",
       "        [-0.01958347, -0.03514712,  0.01492766, ...,  0.00779082,\n",
       "          0.43850106,  0.35772464],\n",
       "        [ 0.01692255, -0.03773264,  0.02360082, ..., -0.20552528,\n",
       "          0.4551714 ,  0.41950125],\n",
       "        ...,\n",
       "        [ 0.15192668,  0.07108587, -0.346416  , ...,  0.07808432,\n",
       "          0.5965687 ,  0.39344084],\n",
       "        [ 0.15191078,  0.01238315, -0.20667459, ...,  0.03909758,\n",
       "          0.4791686 ,  0.40245876],\n",
       "        [-0.22166228, -0.13845076, -0.42244458, ..., -0.25231522,\n",
       "          0.05744196,  0.43204802]], dtype=float32),\n",
       " array([[ 0.04399906,  0.04799619,  0.00382283, ...,  0.01491047,\n",
       "          0.23300223,  0.29258025],\n",
       "        [ 0.09881489,  0.00438852,  0.19253646, ..., -0.05180108,\n",
       "          0.46306777,  0.11927722],\n",
       "        [ 0.03929073,  0.03179926, -0.12243651, ...,  0.04773207,\n",
       "          0.35762826,  0.33534926],\n",
       "        ...,\n",
       "        [-0.11981802,  0.03281833, -0.08533174, ..., -0.2111824 ,\n",
       "          0.31450927,  0.53614557],\n",
       "        [ 0.00511073, -0.09465724, -0.23259534, ..., -0.06399222,\n",
       "          0.30285665,  0.48217   ],\n",
       "        [-0.09791762, -0.24262069, -0.02413706, ..., -0.12714738,\n",
       "          0.506633  ,  0.32871133]], dtype=float32),\n",
       " array([[-3.61741155e-01, -2.12421715e-01, -1.86783120e-01, ...,\n",
       "         -1.54584602e-01,  1.02278754e-01,  2.15840593e-01],\n",
       "        [ 1.15697592e-01,  1.26212746e-01, -8.44895840e-06, ...,\n",
       "         -2.74114013e-01,  4.74846542e-01,  5.98298386e-02],\n",
       "        [-1.14297636e-01,  1.76227335e-02, -1.15241006e-01, ...,\n",
       "         -1.62567750e-01,  2.46266171e-01,  5.83145559e-01],\n",
       "        ...,\n",
       "        [-8.73975828e-03, -2.90532559e-01, -3.11071217e-01, ...,\n",
       "          7.72491917e-02,  4.13148910e-01,  3.00217330e-01],\n",
       "        [ 1.64396733e-01, -1.94378406e-01, -8.16826224e-02, ...,\n",
       "         -1.35355145e-01,  3.77260715e-01,  2.65074342e-01],\n",
       "        [-1.38178706e-01,  5.82191870e-02, -1.12277865e-01, ...,\n",
       "          9.45890602e-03,  5.88822663e-01,  4.85207230e-01]], dtype=float32),\n",
       " array([[-0.07704915,  0.02150972, -0.15068118, ..., -0.15360889,\n",
       "          0.6020673 ,  0.5649575 ],\n",
       "        [ 0.14357449,  0.17503221, -0.38483173, ...,  0.01158   ,\n",
       "          0.37935933,  0.4432513 ],\n",
       "        [ 0.12112252,  0.16520816,  0.11858116, ..., -0.01255038,\n",
       "          0.44515795,  0.38042045],\n",
       "        ...,\n",
       "        [-0.05873539, -0.06694862,  0.03766999, ..., -0.20277834,\n",
       "          0.34799933,  0.27765468],\n",
       "        [ 0.04662928, -0.2509712 , -0.0962016 , ..., -0.2661155 ,\n",
       "          0.5883176 ,  0.11116212],\n",
       "        [-0.07123992,  0.14070418, -0.17507419, ..., -0.05501904,\n",
       "          0.23813875,  0.29927287]], dtype=float32),\n",
       " array([[-0.05894807, -0.13718425,  0.08344273, ..., -0.22333246,\n",
       "          0.4994306 ,  0.5297878 ],\n",
       "        [ 0.02260117,  0.03627498, -0.43467897, ...,  0.04857284,\n",
       "          0.2558462 ,  0.50412136],\n",
       "        [-0.04593598,  0.08927634,  0.0221666 , ..., -0.00118996,\n",
       "          0.37141466,  0.40415102],\n",
       "        ...,\n",
       "        [-0.29516017, -0.17614101, -0.48586124, ..., -0.18164688,\n",
       "          0.16737317,  0.48647925],\n",
       "        [ 0.09358676,  0.10443492,  0.1921657 , ..., -0.05790308,\n",
       "          0.3345816 ,  0.27030274],\n",
       "        [ 0.03215491, -0.00890883,  0.03590268, ..., -0.05958707,\n",
       "          0.38551766,  0.45129427]], dtype=float32),\n",
       " array([[ 0.1989049 , -0.0429191 , -0.22444846, ...,  0.15245926,\n",
       "          0.34166786,  0.2364285 ],\n",
       "        [ 0.03374223, -0.16007611,  0.18443337, ...,  0.0905982 ,\n",
       "          0.31578878,  0.3166065 ],\n",
       "        [ 0.1314569 , -0.06159408,  0.11920676, ..., -0.24495414,\n",
       "          0.37948516,  0.23209652],\n",
       "        ...,\n",
       "        [-0.1040577 , -0.21299203,  0.09121436, ...,  0.11277966,\n",
       "          0.67988676,  0.5084287 ],\n",
       "        [ 0.06392548, -0.20634969,  0.07190414, ..., -0.0669604 ,\n",
       "          0.44788733,  0.18778148],\n",
       "        [ 0.02238002,  0.09136984,  0.06499327, ..., -0.12631819,\n",
       "          0.3939159 ,  0.32009616]], dtype=float32),\n",
       " array([[ 0.16441809,  0.00935092, -0.08656479, ...,  0.11930897,\n",
       "          0.24013282,  0.4688564 ],\n",
       "        [-0.13196616, -0.16298327,  0.16531554, ..., -0.12007003,\n",
       "          0.16347727,  0.3487286 ],\n",
       "        [ 0.01902854,  0.09007926, -0.10522683, ..., -0.10801501,\n",
       "          0.47621718,  0.21183382],\n",
       "        ...,\n",
       "        [ 0.06899686,  0.01878987,  0.01109818, ..., -0.12688504,\n",
       "          0.44988498,  0.27553916],\n",
       "        [ 0.14204675, -0.13318318,  0.17745799, ..., -0.13136356,\n",
       "          0.28294766,  0.19787753],\n",
       "        [-0.01235119, -0.07611197, -0.07964878, ...,  0.00367574,\n",
       "          0.52794135,  0.5317684 ]], dtype=float32),\n",
       " array([[ 0.05237363,  0.12464265, -0.09602243, ..., -0.08706853,\n",
       "          0.5341713 ,  0.45869836],\n",
       "        [-0.11803415, -0.05541511, -0.17866004, ..., -0.02238802,\n",
       "          0.32376015,  0.47425282],\n",
       "        [-0.37689877, -0.16840395,  0.3322547 , ..., -0.16944368,\n",
       "          0.5020879 ,  0.84774226],\n",
       "        ...,\n",
       "        [ 0.31290323, -0.0998394 , -0.13506082, ...,  0.09871773,\n",
       "          0.576767  ,  0.4542197 ],\n",
       "        [-0.21080095, -0.01978019, -0.01466132, ..., -0.05451475,\n",
       "          0.05292646,  0.77817905],\n",
       "        [-0.49326244, -0.322481  , -0.07005168, ..., -0.24714085,\n",
       "          0.07143658,  0.40836725]], dtype=float32),\n",
       " array([[-0.13758144,  0.10280026, -0.27101976, ..., -0.39522386,\n",
       "          0.6150905 ,  0.32889497],\n",
       "        [-0.10282221, -0.00490831, -0.29120284, ..., -0.03430297,\n",
       "          0.3709162 ,  0.5009495 ],\n",
       "        [-0.24115202, -0.0896549 , -0.24077506, ..., -0.29052076,\n",
       "         -0.06042156,  0.46398145],\n",
       "        ...,\n",
       "        [ 0.13057922, -0.05956028,  0.12339812, ..., -0.06922477,\n",
       "          0.15752825,  0.45054892],\n",
       "        [ 0.01819397, -0.04016031,  0.10526297, ...,  0.0284702 ,\n",
       "          0.60109764,  0.4866172 ],\n",
       "        [-0.02714098,  0.00468513,  0.09418217, ..., -0.06807355,\n",
       "          0.36817458,  0.2639036 ]], dtype=float32),\n",
       " array([[-0.08041927,  0.06001257, -0.12456006, ..., -0.15496555,\n",
       "          0.32759792,  0.44931316],\n",
       "        [-0.45331   , -0.4182536 , -0.17190026, ...,  0.1063845 ,\n",
       "          0.255372  ,  0.31721774],\n",
       "        [ 0.04304211,  0.13304257,  0.04175726, ..., -0.00962924,\n",
       "          0.50133765,  0.44987667],\n",
       "        ...,\n",
       "        [-0.07679994, -0.02625209,  0.09007281, ..., -0.11249552,\n",
       "          0.2661607 ,  0.2686165 ],\n",
       "        [-0.11005845, -0.14717762, -0.02241145, ..., -0.13436837,\n",
       "          0.27965373,  0.49732322],\n",
       "        [-0.01357814, -0.14124143,  0.07866964, ..., -0.03678793,\n",
       "          0.35679814,  0.36697668]], dtype=float32),\n",
       " array([[ 0.06001503, -0.2038651 , -0.24068458, ..., -0.24635595,\n",
       "          0.36729676,  0.26686493],\n",
       "        [-0.31296772, -0.34488434, -0.24608023, ...,  0.06538137,\n",
       "          0.45770174,  0.26082027],\n",
       "        [-0.12427603,  0.00835445,  0.11291487, ...,  0.04582752,\n",
       "          0.21868747,  0.45516035],\n",
       "        ...,\n",
       "        [-0.21285829, -0.00864924,  0.00136288, ..., -0.14409694,\n",
       "          0.37007317,  0.47764814],\n",
       "        [ 0.02671201,  0.09204829, -0.0490693 , ..., -0.09357718,\n",
       "          0.31112027,  0.4772221 ],\n",
       "        [-0.09691232, -0.19959153, -0.05118049, ..., -0.12716417,\n",
       "          0.28726637,  0.40635824]], dtype=float32),\n",
       " array([[-0.4763933 , -0.1272938 , -0.05242775, ..., -0.17614728,\n",
       "          0.23940927,  0.28967816],\n",
       "        [-0.29292148, -0.22058487, -0.01415282, ..., -0.06084958,\n",
       "          0.13760044,  0.5396962 ],\n",
       "        [ 0.07424038,  0.0256213 , -0.01901263, ..., -0.12332668,\n",
       "          0.35172087,  0.46451604],\n",
       "        ...,\n",
       "        [ 0.19307809,  0.00307817, -0.13701946, ...,  0.07606997,\n",
       "          0.4542587 ,  0.38741142],\n",
       "        [-0.13488786, -0.10366793, -0.07136416, ..., -0.08611214,\n",
       "          0.54525113,  0.34885803],\n",
       "        [ 0.02290265, -0.17509088, -0.23461996, ..., -0.11666131,\n",
       "          0.37042165,  0.25905043]], dtype=float32),\n",
       " array([[-0.021597  ,  0.08535355,  0.04339353, ..., -0.09039865,\n",
       "          0.25481865,  0.2807592 ],\n",
       "        [ 0.08127783, -0.15464781,  0.0399361 , ..., -0.05594948,\n",
       "          0.18923993,  0.46836135],\n",
       "        [ 0.20775408, -0.01263558, -0.0203146 , ..., -0.0502945 ,\n",
       "          0.39438522,  0.44759867],\n",
       "        ...,\n",
       "        [ 0.2770852 ,  0.12219081, -0.02513415, ...,  0.01882471,\n",
       "          0.3152002 ,  0.38557568],\n",
       "        [-0.02535469, -0.11298586, -0.09577478, ..., -0.08220616,\n",
       "          0.33965227,  0.336285  ],\n",
       "        [ 0.08131866, -0.12389008, -0.1010219 , ..., -0.1904556 ,\n",
       "          0.3397535 ,  0.3826113 ]], dtype=float32),\n",
       " array([[ 0.18150069,  0.22465062, -0.18629761, ...,  0.14449976,\n",
       "          0.40665278,  0.4028371 ],\n",
       "        [-0.07307141,  0.11721433, -0.21453364, ..., -0.22934124,\n",
       "          0.50253123,  0.48657727],\n",
       "        [-0.05138587,  0.01130133,  0.17489824, ..., -0.08195839,\n",
       "          0.16395518,  0.25870934],\n",
       "        ...,\n",
       "        [ 0.1513888 ,  0.08644069, -0.2657168 , ..., -0.02235293,\n",
       "          0.399017  ,  0.39096516],\n",
       "        [ 0.255518  , -0.1052244 , -0.15820312, ...,  0.10412943,\n",
       "          0.47645253,  0.00250407],\n",
       "        [-0.25560063, -0.1759392 , -0.48784184, ..., -0.42573482,\n",
       "          0.42937008,  0.18249063]], dtype=float32),\n",
       " array([[ 0.00462573, -0.11325831, -0.0103485 , ..., -0.07839604,\n",
       "          0.30467334,  0.3290009 ],\n",
       "        [ 0.12692504,  0.08056879, -0.0254853 , ..., -0.0333875 ,\n",
       "          0.43152705,  0.1699734 ],\n",
       "        [ 0.02194759,  0.07930197, -0.3163141 , ..., -0.10787553,\n",
       "          0.06822434,  0.38817596],\n",
       "        ...,\n",
       "        [-0.15623875, -0.17715578, -0.06528974, ..., -0.19859463,\n",
       "          0.50890857,  0.45464236],\n",
       "        [-0.16390467, -0.17811072, -0.1638162 , ..., -0.17143762,\n",
       "          0.4774099 ,  0.30005428],\n",
       "        [ 0.19254118, -0.0214819 , -0.09246558, ...,  0.07542267,\n",
       "          0.2588397 ,  0.10143162]], dtype=float32),\n",
       " array([[-0.14466336,  0.00683311,  0.02382514, ...,  0.02161947,\n",
       "          0.4811652 ,  0.60876346],\n",
       "        [ 0.04100584,  0.02479867, -0.49962986, ..., -0.21820734,\n",
       "          0.305749  ,  0.08866653],\n",
       "        [ 0.07079493,  0.04763103, -0.1899334 , ...,  0.05867856,\n",
       "          0.42257458,  0.34504086],\n",
       "        ...,\n",
       "        [ 0.2134422 ,  0.09818105, -0.14935145, ...,  0.05553262,\n",
       "          0.34482172,  0.40046182],\n",
       "        [-0.25857684, -0.22349696, -0.16369724, ..., -0.24262081,\n",
       "          0.16441856,  0.22926223],\n",
       "        [-0.15619443,  0.06785304, -0.0381879 , ..., -0.14257367,\n",
       "          0.59958357,  0.46602628]], dtype=float32),\n",
       " array([[ 0.02129817,  0.00186963,  0.06329025, ...,  0.08547243,\n",
       "          0.5580493 ,  0.4976248 ],\n",
       "        [ 0.11107089, -0.13592666, -0.02721873, ..., -0.11574312,\n",
       "          0.3332311 ,  0.44471103],\n",
       "        [-0.04242869, -0.16372883,  0.02539567, ..., -0.07115416,\n",
       "          0.36514956,  0.6190779 ],\n",
       "        ...,\n",
       "        [-0.3505549 , -0.1945887 ,  0.02388336, ..., -0.07124671,\n",
       "          0.39384642,  0.5172102 ],\n",
       "        [-0.10762085, -0.20552559, -0.03079338, ..., -0.23538195,\n",
       "          0.36497775,  0.49529952],\n",
       "        [-0.28761962, -0.07160582,  0.20282787, ..., -0.19309676,\n",
       "          0.588368  ,  0.4867921 ]], dtype=float32),\n",
       " array([[-0.07240355, -0.01079328,  0.07859807, ...,  0.00946047,\n",
       "          0.48923782,  0.38438118],\n",
       "        [ 0.06654856,  0.11347238, -0.13917543, ..., -0.15430224,\n",
       "          0.5381427 ,  0.25331956],\n",
       "        [-0.01647769, -0.07133421,  0.12543902, ..., -0.1252185 ,\n",
       "          0.3296095 ,  0.4025024 ],\n",
       "        ...,\n",
       "        [-0.2168709 , -0.01183884, -0.308165  , ...,  0.13592446,\n",
       "          0.6700631 ,  0.69960743],\n",
       "        [-0.3222376 , -0.09405492, -0.11044531, ...,  0.0254692 ,\n",
       "          0.3503374 ,  0.4315438 ],\n",
       "        [ 0.18521965,  0.05738895,  0.15711011, ...,  0.24268724,\n",
       "          0.29276037,  0.27053207]], dtype=float32),\n",
       " array([[ 0.00255523,  0.13503571,  0.03190449, ..., -0.02622063,\n",
       "          0.42658198,  0.15522294],\n",
       "        [ 0.10754862, -0.01378043,  0.01856816, ..., -0.10072343,\n",
       "          0.33580545,  0.17859311],\n",
       "        [ 0.21492973, -0.00524473, -0.00898419, ...,  0.15614435,\n",
       "          0.42793775,  0.43123397],\n",
       "        ...,\n",
       "        [ 0.14810216,  0.0057118 , -0.04336328, ..., -0.05024591,\n",
       "          0.36151236,  0.2851382 ],\n",
       "        [-0.05501457, -0.10267086, -0.01803129, ..., -0.07198206,\n",
       "          0.59993887,  0.19730745],\n",
       "        [ 0.08413842,  0.08474375, -0.11617935, ..., -0.15679397,\n",
       "          0.2955135 ,  0.46725357]], dtype=float32),\n",
       " array([[ 0.07447691,  0.05827759,  0.12584987, ..., -0.02141807,\n",
       "          0.28904262,  0.36120078],\n",
       "        [-0.02719983,  0.02707146,  0.01614996, ..., -0.28102228,\n",
       "         -0.01642957,  0.32743323],\n",
       "        [ 0.03843959, -0.079393  , -0.13658974, ..., -0.06200621,\n",
       "          0.49395442,  0.44568056],\n",
       "        ...,\n",
       "        [-0.08913093,  0.2010056 , -0.11919527, ..., -0.19590756,\n",
       "          0.68759066,  0.34943312],\n",
       "        [ 0.15756252, -0.09056755, -0.05259864, ..., -0.06755289,\n",
       "          0.28830388,  0.47297487],\n",
       "        [-0.04600946,  0.0421542 , -0.14398941, ..., -0.07076309,\n",
       "          0.34980717,  0.41410285]], dtype=float32),\n",
       " array([[-0.32798457, -0.13246238,  0.01571452, ..., -0.26125428,\n",
       "          0.3559464 ,  0.4900741 ],\n",
       "        [ 0.02731239,  0.01459738, -0.05509274, ..., -0.02002016,\n",
       "          0.48432022,  0.3616849 ],\n",
       "        [ 0.3553874 ,  0.24077503, -0.19556062, ..., -0.12743361,\n",
       "          0.52711123,  0.40404326],\n",
       "        ...,\n",
       "        [ 0.12048087, -0.02968578, -0.01166338, ..., -0.04617412,\n",
       "          0.32929775,  0.24388029],\n",
       "        [ 0.07879375,  0.07169794, -0.13673297, ..., -0.04597864,\n",
       "          0.37415415,  0.32788825],\n",
       "        [ 0.00769387, -0.03802344, -0.00758958, ..., -0.05736076,\n",
       "          0.32037893,  0.19632494]], dtype=float32),\n",
       " array([[-0.41375807, -0.14158282,  0.4369564 , ..., -0.05456672,\n",
       "          0.6361716 ,  0.9111866 ],\n",
       "        [-0.0389453 , -0.252916  ,  0.06855594, ..., -0.04864797,\n",
       "          0.28956893,  0.3825341 ],\n",
       "        [-0.11795411,  0.15002479, -0.25974417, ...,  0.00538552,\n",
       "          0.3863479 ,  0.32174516],\n",
       "        ...,\n",
       "        [ 0.02435472, -0.06030016,  0.03775782, ..., -0.14288814,\n",
       "          0.553462  ,  0.11653367],\n",
       "        [ 0.06108541, -0.08651299,  0.00180661, ..., -0.0672701 ,\n",
       "          0.41538626,  0.4141128 ],\n",
       "        [ 0.10278423, -0.05788667,  0.11942096, ...,  0.07187788,\n",
       "          0.17663415,  0.20934692]], dtype=float32),\n",
       " array([[ 0.00746895,  0.02686264, -0.03574978, ..., -0.05901089,\n",
       "          0.27190468,  0.45201716],\n",
       "        [-0.1429568 , -0.035884  , -0.15204029, ..., -0.14362013,\n",
       "          0.4203015 ,  0.3229002 ],\n",
       "        [-0.02712215,  0.02268527, -0.15743516, ...,  0.03018922,\n",
       "          0.5036824 ,  0.37936923],\n",
       "        ...,\n",
       "        [-0.03587877, -0.02186146, -0.14087361, ...,  0.00931922,\n",
       "          0.37439823,  0.342054  ],\n",
       "        [-0.24823584, -0.15081628, -0.03273906, ..., -0.13503598,\n",
       "          0.32977954,  0.4923821 ],\n",
       "        [-0.01797199, -0.13269636, -0.14401302, ..., -0.1398252 ,\n",
       "          0.34572843,  0.4811237 ]], dtype=float32),\n",
       " array([[ 0.05527113,  0.03783488,  0.07984414, ..., -0.18867846,\n",
       "          0.4064908 ,  0.21057142],\n",
       "        [-0.17923695,  0.17649296,  0.16124156, ..., -0.09499796,\n",
       "          0.30746517,  0.30399787],\n",
       "        [-0.18912365, -0.17786169, -0.0186774 , ..., -0.02317242,\n",
       "          0.5318667 ,  0.3786515 ],\n",
       "        ...,\n",
       "        [ 0.05069952,  0.04683958,  0.09507417, ..., -0.0213102 ,\n",
       "          0.3846722 ,  0.16755679],\n",
       "        [-0.11085426, -0.34120885, -0.04764276, ..., -0.08671203,\n",
       "          0.41866606,  0.3668643 ],\n",
       "        [-0.12757048, -0.03164747,  0.03889966, ..., -0.47597703,\n",
       "          0.47495633,  0.52200824]], dtype=float32),\n",
       " array([[ 0.07182121, -0.0273033 , -0.0781174 , ..., -0.00430938,\n",
       "          0.27922082,  0.32260787],\n",
       "        [ 0.08847909,  0.05686297,  0.10899141, ..., -0.04946851,\n",
       "          0.2337672 ,  0.5318002 ],\n",
       "        [-0.02714463,  0.10006745, -0.2232203 , ..., -0.02009104,\n",
       "          0.4782822 ,  0.476684  ],\n",
       "        ...,\n",
       "        [ 0.34157994,  0.2720062 ,  0.01728679, ..., -0.25621676,\n",
       "          0.7343332 ,  0.26457328],\n",
       "        [-0.28245896, -0.07066277, -0.30915612, ..., -0.2351643 ,\n",
       "          0.21845824,  0.25523478],\n",
       "        [-0.22928973, -0.18488236, -0.14312081, ...,  0.01601505,\n",
       "          0.38789377,  0.21810918]], dtype=float32),\n",
       " array([[-0.02935885,  0.07801647, -0.16214329, ..., -0.0428296 ,\n",
       "          0.30454236,  0.3024008 ],\n",
       "        [-0.0389281 , -0.13710517,  0.11246301, ..., -0.06417023,\n",
       "          0.34016058,  0.36542824],\n",
       "        [-0.27921426, -0.1398768 , -0.1591805 , ..., -0.05961509,\n",
       "          0.1272821 ,  0.50332606],\n",
       "        ...,\n",
       "        [ 0.13076419,  0.01763139, -0.15653104, ...,  0.0185511 ,\n",
       "          0.65858823,  0.42074922],\n",
       "        [ 0.15497735, -0.18400347,  0.00435765, ...,  0.02466869,\n",
       "          0.35622647,  0.4532599 ],\n",
       "        [-0.07707474, -0.18345642, -0.02076849, ..., -0.03993233,\n",
       "          0.39550558,  0.25630784]], dtype=float32),\n",
       " array([[ 0.12020425,  0.04524995, -0.31006283, ..., -0.17260267,\n",
       "          0.319922  ,  0.5728525 ],\n",
       "        [-0.01652395,  0.00141715, -0.16037689, ..., -0.1132799 ,\n",
       "          0.37698826,  0.502099  ],\n",
       "        [-0.2977031 ,  0.07390682, -0.23609148, ...,  0.02993397,\n",
       "          0.53196394,  0.28148565],\n",
       "        ...,\n",
       "        [ 0.04321999, -0.20960578,  0.0859099 , ..., -0.14578892,\n",
       "          0.5065675 ,  0.28817093],\n",
       "        [ 0.12947154, -0.03225708,  0.05637916, ..., -0.07473513,\n",
       "          0.304357  ,  0.36217988],\n",
       "        [ 0.05381531, -0.02902299, -0.07263049, ..., -0.01582673,\n",
       "          0.36369255,  0.2568277 ]], dtype=float32),\n",
       " array([[ 0.1625514 ,  0.12358349,  0.1072038 , ..., -0.31054094,\n",
       "          0.56113064,  0.3185749 ],\n",
       "        [-0.40484565, -0.39616346, -0.24975948, ..., -0.25948808,\n",
       "         -0.02338387,  0.5905556 ],\n",
       "        [ 0.04111632, -0.09832059,  0.04021493, ..., -0.01825871,\n",
       "          0.27851415,  0.26059407],\n",
       "        ...,\n",
       "        [-0.05611256,  0.19664225, -0.494762  , ...,  0.11919557,\n",
       "          0.40953964,  0.23921762],\n",
       "        [ 0.20173186, -0.07582265, -0.18250339, ...,  0.02203983,\n",
       "          0.33790863,  0.3527125 ],\n",
       "        [ 0.3538708 , -0.01454617, -0.26715076, ...,  0.05307246,\n",
       "          0.67527574,  0.32122117]], dtype=float32),\n",
       " array([[ 0.01436847, -0.1037868 , -0.11601636, ..., -0.14300191,\n",
       "          0.50690335,  0.38916782],\n",
       "        [ 0.08395131, -0.03143334, -0.09947933, ..., -0.20267074,\n",
       "          0.4033483 ,  0.4000226 ],\n",
       "        [-0.04871278, -0.32968304, -0.02972263, ...,  0.05164529,\n",
       "          0.58140236,  0.27221385],\n",
       "        ...,\n",
       "        [ 0.14556858, -0.02900426,  0.07900901, ..., -0.11306494,\n",
       "          0.21953075,  0.34830827],\n",
       "        [-0.1316844 , -0.01078239, -0.08543426, ..., -0.22660032,\n",
       "          0.39263594,  0.33671805],\n",
       "        [ 0.00696298, -0.06587248,  0.17829907, ..., -0.03946006,\n",
       "          0.5843577 ,  0.5425396 ]], dtype=float32),\n",
       " array([[ 0.14992915, -0.17068449, -0.16411631, ..., -0.09435806,\n",
       "          0.51259464,  0.5151297 ],\n",
       "        [-0.0613774 , -0.01237088, -0.06041552, ..., -0.17380108,\n",
       "          0.44687787,  0.39318025],\n",
       "        [ 0.11222157, -0.19198543, -0.13832316, ..., -0.2091158 ,\n",
       "          0.3442576 ,  0.2739434 ],\n",
       "        ...,\n",
       "        [ 0.04582027, -0.00506654,  0.04568306, ..., -0.17640685,\n",
       "          0.31692868,  0.3194477 ],\n",
       "        [-0.23326105, -0.10363974, -0.08855979, ..., -0.18167646,\n",
       "          0.3124145 ,  0.2482564 ],\n",
       "        [ 0.16613549, -0.1251322 , -0.10212865, ..., -0.11026116,\n",
       "          0.2798152 ,  0.5479453 ]], dtype=float32),\n",
       " array([[ 0.07617506, -0.01292212,  0.06637004, ..., -0.01673696,\n",
       "          0.39270398,  0.48980153],\n",
       "        [-0.0876441 , -0.28362054,  0.05535701, ..., -0.104799  ,\n",
       "          0.24578768,  0.42484647],\n",
       "        [ 0.02837442,  0.04976113,  0.09539171, ...,  0.07179803,\n",
       "          0.28205684,  0.33594543],\n",
       "        ...,\n",
       "        [ 0.25072533, -0.03222444, -0.1376597 , ...,  0.02924429,\n",
       "          0.4900072 ,  0.47290635],\n",
       "        [-0.16864204,  0.03590348,  0.02245227, ..., -0.10260598,\n",
       "          0.45739868,  0.47752205],\n",
       "        [ 0.22852576,  0.25020552,  0.04647135, ..., -0.17194031,\n",
       "          0.52183723,  0.28402007]], dtype=float32),\n",
       " array([[ 1.08683586e-01, -1.01750642e-01, -2.99055204e-02, ...,\n",
       "         -7.68171400e-02,  4.29237664e-01,  4.27031726e-01],\n",
       "        [-1.11720376e-02,  5.81247956e-02, -1.47099704e-01, ...,\n",
       "         -1.06862754e-01,  4.75727588e-01,  2.85695910e-01],\n",
       "        [-3.80120650e-02,  2.60185804e-02, -1.11012235e-02, ...,\n",
       "         -9.50725153e-02,  1.61300339e-02,  2.76296973e-01],\n",
       "        ...,\n",
       "        [ 9.57287550e-02,  1.34882167e-01, -1.69303700e-01, ...,\n",
       "          8.67727175e-02,  5.57311714e-01,  4.50099289e-01],\n",
       "        [ 1.88557222e-01, -2.91053206e-04,  4.27835993e-02, ...,\n",
       "         -1.62921280e-01,  4.11430776e-01,  1.24277115e-01],\n",
       "        [ 2.03663081e-01, -3.06290269e-01, -2.21736506e-02, ...,\n",
       "         -1.10950984e-01,  3.82824928e-01,  5.87125242e-01]], dtype=float32),\n",
       " array([[-0.00345044, -0.1722719 , -0.16510513, ..., -0.17586215,\n",
       "          0.5598242 ,  0.34097922],\n",
       "        [ 0.09241799, -0.01092672, -0.03606571, ..., -0.11562035,\n",
       "          0.37901384,  0.40890384],\n",
       "        [ 0.06293715, -0.12834188, -0.01951746, ..., -0.02031473,\n",
       "          0.46628073,  0.26360103],\n",
       "        ...,\n",
       "        [-0.16913271, -0.2263344 ,  0.04552485, ..., -0.04515031,\n",
       "          0.19253564,  0.47004485],\n",
       "        [ 0.15552644,  0.01175982,  0.04320632, ...,  0.07365606,\n",
       "          0.3266506 ,  0.28676417],\n",
       "        [-0.05103718,  0.10869959, -0.17120492, ..., -0.00198478,\n",
       "          0.6133614 ,  0.49821347]], dtype=float32),\n",
       " array([[-0.19940932, -0.08390498, -0.1738908 , ...,  0.0145895 ,\n",
       "          0.35800517,  0.24671508],\n",
       "        [ 0.1454831 , -0.01028824, -0.05471332, ..., -0.0642188 ,\n",
       "          0.46920323,  0.4603748 ],\n",
       "        [-0.04168752, -0.19327007,  0.18926504, ..., -0.07020464,\n",
       "          0.24075362,  0.31606403],\n",
       "        ...,\n",
       "        [ 0.05192145,  0.30888247, -0.24173306, ..., -0.22254448,\n",
       "          0.352784  ,  0.30397108],\n",
       "        [-0.10760549, -0.12347821, -0.04575384, ..., -0.21803181,\n",
       "          0.19573194,  0.59763944],\n",
       "        [-0.14046195,  0.04802394,  0.00765873, ..., -0.13919511,\n",
       "          0.2763119 ,  0.32316697]], dtype=float32),\n",
       " array([[-0.21668163, -0.17190754, -0.21264069, ..., -0.08419734,\n",
       "          0.3353557 ,  0.5974734 ],\n",
       "        [-0.24708068, -0.03128148,  0.02803585, ..., -0.16590367,\n",
       "          0.39767072,  0.3999248 ],\n",
       "        [ 0.07239224, -0.1528687 , -0.00376557, ...,  0.09898244,\n",
       "          0.5004223 ,  0.189798  ],\n",
       "        ...,\n",
       "        [-0.05904436, -0.12720908, -0.18526717, ..., -0.16775858,\n",
       "          0.37216666,  0.36263525],\n",
       "        [-0.02296738,  0.02171337, -0.27634835, ..., -0.03825339,\n",
       "          0.312797  ,  0.4730741 ],\n",
       "        [ 0.03457398, -0.0549833 ,  0.19273618, ..., -0.0481312 ,\n",
       "          0.2214508 ,  0.22416018]], dtype=float32),\n",
       " array([[ 0.23436302,  0.08817183, -0.36524403, ..., -0.32697406,\n",
       "          0.4394285 ,  0.13888241],\n",
       "        [ 0.11263672,  0.01858928, -0.08856048, ..., -0.03811583,\n",
       "          0.46078587,  0.30446908],\n",
       "        [-0.03962404,  0.00808532,  0.06583569, ..., -0.04604304,\n",
       "          0.5231227 ,  0.36428377],\n",
       "        ...,\n",
       "        [ 0.16223389,  0.09107099, -0.25416458, ..., -0.06356717,\n",
       "          0.53500354,  0.3456483 ],\n",
       "        [ 0.1327624 , -0.09714298, -0.08048809, ..., -0.07672205,\n",
       "          0.7059745 ,  0.4013805 ],\n",
       "        [-0.01399312, -0.43224508, -0.18934263, ..., -0.09321614,\n",
       "          0.22025809,  0.3953583 ]], dtype=float32),\n",
       " array([[ 0.11070023, -0.03577292,  0.04245441, ..., -0.08183061,\n",
       "          0.40024337,  0.3600782 ],\n",
       "        [-0.02890687,  0.11896337, -0.3804335 , ..., -0.19465306,\n",
       "          0.39748698,  0.24826975],\n",
       "        [ 0.1982539 ,  0.05173169,  0.05116642, ...,  0.02707679,\n",
       "          0.4894156 ,  0.42916593],\n",
       "        ...,\n",
       "        [ 0.15756153,  0.01179878, -0.0648088 , ...,  0.05327925,\n",
       "          0.32970712,  0.19464685],\n",
       "        [ 0.01222001,  0.02562978, -0.1256376 , ..., -0.16124237,\n",
       "          0.1880882 ,  0.4315252 ],\n",
       "        [-0.29047203, -0.21024424,  0.11968018, ..., -0.21304147,\n",
       "          0.19931394,  0.5328992 ]], dtype=float32),\n",
       " array([[-0.01341903,  0.06298304,  0.01617473, ..., -0.12426132,\n",
       "          0.29189563,  0.36163825],\n",
       "        [-0.27690578,  0.17874974, -0.03745034, ..., -0.06348547,\n",
       "          0.32082337,  0.63627875],\n",
       "        [-0.0626865 , -0.07939439, -0.07094491, ...,  0.0254067 ,\n",
       "          0.28506616,  0.49167305],\n",
       "        ...,\n",
       "        [ 0.04397095,  0.04921688, -0.05776542, ..., -0.11080352,\n",
       "          0.28459692,  0.35041302],\n",
       "        [ 0.07302441,  0.08741773,  0.01305613, ...,  0.05201734,\n",
       "          0.46052775,  0.228339  ],\n",
       "        [ 0.12561736, -0.06050897, -0.00711822, ..., -0.10832548,\n",
       "          0.3189844 ,  0.46300897]], dtype=float32),\n",
       " array([[-0.35121107, -0.22160481,  0.33307362, ..., -0.10620727,\n",
       "          0.7367616 ,  0.8954322 ],\n",
       "        [-0.18204783, -0.07114169, -0.01287165, ..., -0.09639882,\n",
       "          0.62313396,  0.6069667 ],\n",
       "        [-0.08787072, -0.10449167,  0.18141559, ..., -0.01776519,\n",
       "          0.505609  ,  0.64675146],\n",
       "        ...,\n",
       "        [-0.05653801, -0.19626875, -0.11242194, ..., -0.19344595,\n",
       "          0.5751902 ,  0.45652905],\n",
       "        [ 0.18897818,  0.1185719 , -0.136411  , ...,  0.03604619,\n",
       "          0.55471015,  0.5790851 ],\n",
       "        [-0.35550278, -0.2056327 , -0.11016455, ...,  0.12131635,\n",
       "          0.24049538,  0.35519034]], dtype=float32),\n",
       " array([[ 0.20088212,  0.0576265 , -0.12521161, ...,  0.06409992,\n",
       "          0.50220084,  0.3433888 ],\n",
       "        [ 0.07225157,  0.03813979,  0.25088853, ...,  0.0452568 ,\n",
       "          0.35981828,  0.35303345],\n",
       "        [-0.01881282, -0.0530143 ,  0.12386354, ..., -0.05621485,\n",
       "          0.26909646,  0.28291222],\n",
       "        ...,\n",
       "        [ 0.13692267,  0.08684605, -0.01190209, ...,  0.16324283,\n",
       "          0.2723631 ,  0.26796883],\n",
       "        [-0.29703835, -0.03663366,  0.07426724, ..., -0.26879764,\n",
       "          0.41582006,  0.47817245],\n",
       "        [-0.04820892, -0.16976307, -0.08917886, ..., -0.05021411,\n",
       "          0.40886042,  0.37273037]], dtype=float32),\n",
       " array([[ 0.10286878, -0.13344271,  0.04038895, ...,  0.00575324,\n",
       "          0.46769768,  0.25998166],\n",
       "        [-0.06662448,  0.05507854, -0.2681954 , ..., -0.10096007,\n",
       "          0.4101204 ,  0.32435212],\n",
       "        [-0.3174182 , -0.07572567, -0.04342455, ...,  0.03096984,\n",
       "          0.27808133,  0.2922737 ],\n",
       "        ...,\n",
       "        [ 0.033113  ,  0.13226964,  0.0814976 , ...,  0.09536804,\n",
       "          0.3120994 ,  0.40477094],\n",
       "        [ 0.14734909,  0.04230732, -0.06923804, ..., -0.04182157,\n",
       "          0.30659726,  0.37079954],\n",
       "        [-0.05298556, -0.09444711, -0.03260539, ..., -0.03904834,\n",
       "          0.18481083,  0.4243367 ]], dtype=float32),\n",
       " array([[-0.13794103,  0.05926392, -0.12967542, ..., -0.20563532,\n",
       "          0.26730487,  0.21607327],\n",
       "        [-0.13788718,  0.30921635,  0.07419665, ..., -0.17731571,\n",
       "          0.41865504,  0.39275128],\n",
       "        [-0.00439421,  0.14101772, -0.07858454, ..., -0.18251404,\n",
       "          0.54026264,  0.25071818],\n",
       "        ...,\n",
       "        [-0.23295185, -0.18141404, -0.02826151, ..., -0.0889291 ,\n",
       "          0.24775334,  0.6109939 ],\n",
       "        [-0.2514536 ,  0.20518757,  0.15048842, ..., -0.34884885,\n",
       "          0.21200761,  0.50620365],\n",
       "        [ 0.05883735, -0.074703  , -0.25616837, ...,  0.01277479,\n",
       "          0.5856442 ,  0.6611992 ]], dtype=float32)]"
      ]
     },
     "execution_count": 10,
     "metadata": {},
     "output_type": "execute_result"
    }
   ],
   "source": [
    "embeddings"
   ]
  },
  {
   "cell_type": "code",
   "execution_count": 11,
   "metadata": {
    "scrolled": true
   },
   "outputs": [],
   "source": [
    "features = np.concatenate(embeddings)"
   ]
  },
  {
   "cell_type": "code",
   "execution_count": 24,
   "metadata": {},
   "outputs": [
    {
     "data": {
      "text/plain": [
       "count    15899.000000\n",
       "mean         3.364135\n",
       "std          0.231531\n",
       "min          1.054446\n",
       "25%          3.222684\n",
       "50%          3.379812\n",
       "75%          3.523281\n",
       "max          4.177414\n",
       "dtype: float64"
      ]
     },
     "execution_count": 24,
     "metadata": {},
     "output_type": "execute_result"
    }
   ],
   "source": [
    "pd.Series([x.max() for x in features if x.max()>1]).describe()"
   ]
  },
  {
   "cell_type": "code",
   "execution_count": null,
   "metadata": {},
   "outputs": [],
   "source": [
    "все значения находятся примерно в одном диапазоне. значит масштабирование особо не поможет"
   ]
  },
  {
   "cell_type": "markdown",
   "metadata": {},
   "source": [
    "### LogisticRegression"
   ]
  },
  {
   "cell_type": "code",
   "execution_count": 38,
   "metadata": {},
   "outputs": [
    {
     "data": {
      "text/plain": [
       "LogisticRegression(random_state=1234)"
      ]
     },
     "execution_count": 38,
     "metadata": {},
     "output_type": "execute_result"
    }
   ],
   "source": [
    "model_log = LogisticRegression(random_state=1234)\n",
    "model_log.fit(features[0:7950], data[0:7950].toxic)"
   ]
  },
  {
   "cell_type": "code",
   "execution_count": 39,
   "metadata": {},
   "outputs": [],
   "source": [
    "pred_log = model_log.predict(features[7950:15900])"
   ]
  },
  {
   "cell_type": "markdown",
   "metadata": {},
   "source": [
    "мы не можем позволить себе валидационную выборку из-за ограничений скорости вычислений, но мы компенсируем это тем, что обучим лучшую модель на всех данных, в том числе и на тестовых, чтобы конечная модель делала более точные предсказания."
   ]
  },
  {
   "cell_type": "code",
   "execution_count": 36,
   "metadata": {},
   "outputs": [
    {
     "data": {
      "text/plain": [
       "0    6593\n",
       "1    1357\n",
       "dtype: int64"
      ]
     },
     "execution_count": 36,
     "metadata": {},
     "output_type": "execute_result"
    }
   ],
   "source": [
    "pd.Series(pred_log).value_counts()"
   ]
  },
  {
   "cell_type": "code",
   "execution_count": 42,
   "metadata": {},
   "outputs": [
    {
     "data": {
      "text/plain": [
       "0.6809137803979366"
      ]
     },
     "execution_count": 42,
     "metadata": {},
     "output_type": "execute_result"
    }
   ],
   "source": [
    "f1_log = f1_score(data[7950:15900].toxic, pred_log)\n",
    "f1_log"
   ]
  },
  {
   "cell_type": "code",
   "execution_count": 44,
   "metadata": {},
   "outputs": [],
   "source": [
    "cf_matrix_log = confusion_matrix(data[7950:15900].toxic, pred_log)"
   ]
  },
  {
   "cell_type": "code",
   "execution_count": 57,
   "metadata": {},
   "outputs": [
    {
     "data": {
      "image/png": "[encoded data removed]",
      "text/plain": [
       "<Figure size 432x288 with 2 Axes>"
      ]
     },
     "metadata": {
      "needs_background": "light"
     },
     "output_type": "display_data"
    }
   ],
   "source": [
    "group_names = ['True Neg','False Pos','False Neg','True Pos']\n",
    "group_counts = [\"{0:0.0f}\".format(value) for value in\n",
    "                cf_matrix_log.flatten()]\n",
    "group_percentages = [\"{0:.2%}\".format(value) for value in\n",
    "                     cf_matrix_log.flatten()/np.sum(cf_matrix_log)]\n",
    "labels = [f\"{v1}\\n{v2}\\n{v3}\" for v1, v2, v3 in\n",
    "          zip(group_names,group_counts,group_percentages)]\n",
    "labels = np.asarray(labels).reshape(2,2)\n",
    "sns.heatmap(cf_matrix_log, annot=labels, fmt='', cmap='Reds');"
   ]
  },
  {
   "cell_type": "markdown",
   "metadata": {},
   "source": [
    "суммарно около 5 процентов неправильных предказаний. нормально"
   ]
  },
  {
   "cell_type": "markdown",
   "metadata": {},
   "source": [
    "я пишу содержание этой ячейки после того, как проверил катбуст. и самый лучший результат мы получили используя логическую регрессию, что наталкивает на мысль, что берт слишком умный и уже сделал основную часть работы и сложные модели переобучаются на выходных данных берта. есть два пути решения проблемы. посмотреть на важность признаков и отбросить ненужные или упростить лучшую модель.(признаков 700+ и сидеть-смотреть какие сильно влияют на результат а какие нет- это неблагодарная задача, поэтому давайте сначала упростим модельЮ посмотрим на результат и если он на не устроит- то поменяем порог активации(что вряд ли поможет потому-что полнота у той модели приемлимая), если и в этом случае нас не устроит результат то мы можем либо подбирать все вышеперечисленное одновременно, что очень времязатратно либо увеличить выборку, что тоже времязатратно.)"
   ]
  },
  {
   "cell_type": "code",
   "execution_count": null,
   "metadata": {},
   "outputs": [],
   "source": [
    "best_f1_log = 0\n",
    "for i in [0.001, 0.01, 0.1, 1 , 10, 100]:\n",
    "    for k in notebook.tqdm(['newton-cg', 'lbfgs', 'liblinear', 'sag']):\n",
    "        model_log = LogisticRegression(random_state=1234, C = i,  solver = k)\n",
    "        model_log.fit(features[0:7950], data[0:7950].toxic)\n",
    "        if f1_score(data[7950:15900].toxic, model_log.predict(features[7950:15900])) > best_f1_log:\n",
    "            best_f1_log = f1_score(data[7950:15900].toxic, model_log.predict(features[7950:15900]))\n",
    "            best_c = i\n",
    "            best_solver = k\n",
    "    print(f'пока лучшее f1 = {best_f1_log} при С = {best_c} и solver = {best_solver}')\n",
    "    print('----------------------------------------------------------------')\n",
    "print(f'лучшее значение f1 = {best_f1_log} при С = {best_c} и  solver = {best_solver}')"
   ]
  },
  {
   "cell_type": "code",
   "execution_count": 89,
   "metadata": {},
   "outputs": [
    {
     "data": {
      "text/plain": [
       "'newton-cg'"
      ]
     },
     "execution_count": 89,
     "metadata": {},
     "output_type": "execute_result"
    }
   ],
   "source": [
    "best_solver"
   ]
  },
  {
   "cell_type": "markdown",
   "metadata": {},
   "source": [
    "мы улучшили показатель f1 на 0.001. что можно обьяснить случайностью. давайте поменяем порог активации, для этого напишем функцию"
   ]
  },
  {
   "cell_type": "code",
   "execution_count": 43,
   "metadata": {
    "ExecuteTime": {
     "end_time": "2022-05-22T11:34:31.377155Z",
     "start_time": "2022-05-22T11:34:31.358807Z"
    }
   },
   "outputs": [],
   "source": [
    "def own_activator(threshold, probas):\n",
    "    if probas > threshold:\n",
    "        return 1\n",
    "    else:\n",
    "        return 0"
   ]
  },
  {
   "cell_type": "code",
   "execution_count": 95,
   "metadata": {},
   "outputs": [
    {
     "data": {
      "text/plain": [
       "array([0.03032291, 0.34165564, 0.00662105, ..., 0.00051991, 0.00147509,\n",
       "       0.01649846], dtype=float32)"
      ]
     },
     "execution_count": 95,
     "metadata": {},
     "output_type": "execute_result"
    }
   ],
   "source": [
    "model_log = LogisticRegression(random_state=1234,   solver = 'newton-cg')\n",
    "model_log.fit(features[0:7950], data[0:7950].toxic)\n",
    "log_probas = model_log.predict_proba(features[7950:15900])\n",
    "log_probas_of_1 = log_probas[:, 1]\n",
    "log_probas_of_1"
   ]
  },
  {
   "cell_type": "code",
   "execution_count": 112,
   "metadata": {
    "scrolled": true
   },
   "outputs": [
    {
     "data": {
      "application/vnd.jupyter.widget-view+json": {
       "model_id": "61ce010f33f94774818fd94ba3c0e4db",
       "version_major": 2,
       "version_minor": 0
      },
      "text/plain": [
       "  0%|          | 0/200 [00:00<?, ?it/s]"
      ]
     },
     "metadata": {},
     "output_type": "display_data"
    },
    {
     "name": "stdout",
     "output_type": "stream",
     "text": [
      "0.7005721551176097   0.325\n"
     ]
    }
   ],
   "source": [
    "best_f1_log_thr = 0\n",
    "for i in notebook.tqdm(np.arange(0,1,0.005)):\n",
    "    asda = pd.Series([own_activator(i, x) for x in log_probas_of_1])\n",
    "    if f1_score(data[7950:15900].toxic, asda) > best_f1_log_thr:\n",
    "        best_f1_log_thr = f1_score(data[7950:15900].toxic, asda)\n",
    "        best_ii = i\n",
    "print(best_f1_log_thr, ' ', best_ii)"
   ]
  },
  {
   "cell_type": "markdown",
   "metadata": {},
   "source": [
    "пока лучший результат. давайте еще кое-что попробуем, не получится-увеличим выборку. я хочу сейчас отмасштабировать данные. я не прибегаю к ансамблю потому-что мы предположили, что чем проще модель-тем лучше. если совсем ничего не поможет, придется делать ансамбль"
   ]
  },
  {
   "cell_type": "markdown",
   "metadata": {},
   "source": [
    "с масштабированием данных скользская ситуацияю кто то считает, что один скалер нужно обучать на тренировочной выборке и им же масштабировать тестовую выборку, кто-то считает, что нужно два по-разному обученных скалера, чтобы модель была безоговорочно готова к реальным данным. я считаю, что второй вариант правильнее. но меня просили выполнять масштабирование первым способом, поэтому давайте так и поступим. в документации про это ни слова."
   ]
  },
  {
   "cell_type": "code",
   "execution_count": 116,
   "metadata": {
    "scrolled": true
   },
   "outputs": [],
   "source": [
    "features_for_scal = pd.DataFrame(data = features) #на самом деле надо было это раньше сделать\n",
    "features_for_scal_train = features_for_scal[0:7950]\n",
    "features_for_scal_test = features_for_scal[7950:15900]"
   ]
  },
  {
   "cell_type": "code",
   "execution_count": 117,
   "metadata": {},
   "outputs": [],
   "source": [
    "scaler_lin = StandardScaler().fit(features_for_scal_train)\n",
    "features_for_scal_train = scaler_lin.transform(features_for_scal_train)\n",
    "features_for_scal_test = scaler_lin.transform(features_for_scal_test)"
   ]
  },
  {
   "cell_type": "code",
   "execution_count": 118,
   "metadata": {},
   "outputs": [
    {
     "data": {
      "text/plain": [
       "0.5237730061349692"
      ]
     },
     "execution_count": 118,
     "metadata": {},
     "output_type": "execute_result"
    }
   ],
   "source": [
    "model_log_scaled = LogisticRegression(random_state=1234,solver = 'newton-cg')\n",
    "model_log_scaled.fit(features_for_scal_train, data[0:7950].toxic)\n",
    "pred_scaled = model_log.predict(features_for_scal_test)\n",
    "f1_score(data[7950:15900].toxic, pred_scaled)"
   ]
  },
  {
   "cell_type": "code",
   "execution_count": 119,
   "metadata": {},
   "outputs": [
    {
     "data": {
      "text/plain": [
       "array([2.7113056e-03, 3.5822305e-01, 1.6999491e-04, ..., 2.7889500e-06,\n",
       "       4.2814148e-07, 8.1155375e-03], dtype=float32)"
      ]
     },
     "execution_count": 119,
     "metadata": {},
     "output_type": "execute_result"
    }
   ],
   "source": [
    "model_log = LogisticRegression(random_state=1234,   solver = 'newton-cg')\n",
    "model_log.fit(features_for_scal_train, data[0:7950].toxic)\n",
    "log_probas = model_log.predict_proba(features_for_scal_test)\n",
    "log_probas_of_1 = log_probas[:, 1]\n",
    "log_probas_of_1"
   ]
  },
  {
   "cell_type": "code",
   "execution_count": 120,
   "metadata": {
    "scrolled": true
   },
   "outputs": [
    {
     "data": {
      "application/vnd.jupyter.widget-view+json": {
       "model_id": "a97e8c17b80145bc8a63ea98699b72e7",
       "version_major": 2,
       "version_minor": 0
      },
      "text/plain": [
       "  0%|          | 0/200 [00:00<?, ?it/s]"
      ]
     },
     "metadata": {},
     "output_type": "display_data"
    },
    {
     "name": "stdout",
     "output_type": "stream",
     "text": [
      "0.6487549148099606   0.47000000000000003\n"
     ]
    }
   ],
   "source": [
    "best_f1_log_thr = 0\n",
    "for i in notebook.tqdm(np.arange(0,1,0.005)):\n",
    "    asda = pd.Series([own_activator(i, x) for x in log_probas_of_1])\n",
    "    if f1_score(data[7950:15900].toxic, asda) > best_f1_log_thr:\n",
    "        best_f1_log_thr = f1_score(data[7950:15900].toxic, asda)\n",
    "        best_ii = i\n",
    "print(best_f1_log_thr, ' ', best_ii)"
   ]
  },
  {
   "cell_type": "markdown",
   "metadata": {},
   "source": [
    "не впечатляет. ничего не остается, кроме как увеличить выборку в 5 раз."
   ]
  },
  {
   "cell_type": "code",
   "execution_count": 4,
   "metadata": {},
   "outputs": [
    {
     "data": {
      "text/plain": [
       "(159571, 2)"
      ]
     },
     "execution_count": 4,
     "metadata": {},
     "output_type": "execute_result"
    }
   ],
   "source": [
    "data.shape"
   ]
  },
  {
   "cell_type": "markdown",
   "metadata": {},
   "source": [
    "### Тестирование большей выборки"
   ]
  },
  {
   "cell_type": "code",
   "execution_count": 5,
   "metadata": {
    "ExecuteTime": {
     "end_time": "2022-05-21T02:09:02.710640Z",
     "start_time": "2022-05-21T02:09:02.651974Z"
    }
   },
   "outputs": [],
   "source": [
    "data_shorten_2 = data[0:80000]"
   ]
  },
  {
   "cell_type": "markdown",
   "metadata": {},
   "source": [
    "<a id='tokens'></a>\n",
    "Вообще, уменьшение количества токенов до 50(при стандарте равном 512) это вынужденная мера. Количество токенов, в отличии от количество строк сильнее влияет на скорость прогонки через берт. если при увеличении количиства строк на n, количество данных увеличивается на n, то при увеличении количество токенов на k, при том, что уже есть i строк мы увеличим количество данных на на k*i. 50- опытоно подобранная величина, которая не вызывает рпоблем.\n",
    "\n",
    "наглядный пример. при размере батча в 100, мой компьютер обрабатывал один батч в среднем за 10.6 секунд при 50 токенах и за ~17 секунд при 75 токенах.\n",
    "\n",
    "значит, если мы увеличим колчиество токенов в полтора раза то время затраченное на вычичсление увеличится на 6.4n с, в то время как при увеличении обьема данных в полтора раза при таком же количестве токенов время увеличится на 5.3n c"
   ]
  },
  {
   "cell_type": "code",
   "execution_count": 6,
   "metadata": {
    "ExecuteTime": {
     "end_time": "2022-05-21T02:11:55.122911Z",
     "start_time": "2022-05-21T02:09:26.073768Z"
    }
   },
   "outputs": [],
   "source": [
    "tokenized_2 = data_shorten_2.text.apply((lambda x: tokenizer.encode(x, add_special_tokens=True, truncation=True, max_length = 70)))"
   ]
  },
  {
   "cell_type": "code",
   "execution_count": 7,
   "metadata": {
    "ExecuteTime": {
     "end_time": "2022-05-21T02:11:55.849566Z",
     "start_time": "2022-05-21T02:11:55.122911Z"
    }
   },
   "outputs": [],
   "source": [
    "padded_2 = np.array([i + [0]*(70-len(i)) for i in tokenized_2.values])"
   ]
  },
  {
   "cell_type": "code",
   "execution_count": 8,
   "metadata": {
    "ExecuteTime": {
     "end_time": "2022-05-21T02:11:55.917110Z",
     "start_time": "2022-05-21T02:11:55.851504Z"
    }
   },
   "outputs": [],
   "source": [
    "attention_mask_2 = np.where(padded_2 != 0, 1, 0)"
   ]
  },
  {
   "cell_type": "code",
   "execution_count": 11,
   "metadata": {
    "ExecuteTime": {
     "end_time": "2022-05-20T08:05:04.363448Z",
     "start_time": "2022-05-20T08:05:04.348334Z"
    }
   },
   "outputs": [
    {
     "data": {
      "text/plain": [
       "1066"
      ]
     },
     "execution_count": 11,
     "metadata": {},
     "output_type": "execute_result"
    }
   ],
   "source": [
    "padded_2.shape[0] // 75"
   ]
  },
  {
   "cell_type": "code",
   "execution_count": 9,
   "metadata": {
    "ExecuteTime": {
     "end_time": "2022-05-21T09:33:01.649540Z",
     "start_time": "2022-05-21T02:11:55.919990Z"
    },
    "scrolled": true
   },
   "outputs": [
    {
     "data": {
      "application/vnd.jupyter.widget-view+json": {
       "model_id": "41722ff20ed84bf9ab38e4d8d6d9b8fa",
       "version_major": 2,
       "version_minor": 0
      },
      "text/plain": [
       "  0%|          | 0/1230 [00:00<?, ?it/s]"
      ]
     },
     "metadata": {},
     "output_type": "display_data"
    }
   ],
   "source": [
    "embeddings_2 = []\n",
    "batch_size = 65\n",
    "for i in notebook.tqdm(range(padded_2.shape[0] // batch_size)):\n",
    "    batch_2 = torch.LongTensor(padded_2[batch_size*i:batch_size*(i+1)])\n",
    "    attention_mask_batch_2 = torch.LongTensor(attention_mask_2[batch_size*i:batch_size*(i+1)])\n",
    "    batch_embeddings_2 = model(batch_2, attention_mask=attention_mask_batch_2)\n",
    "    with torch.no_grad():\n",
    "        batch_embeddings_2 = model(batch_2, attention_mask=attention_mask_batch_2) \n",
    "    embeddings_2.append(batch_embeddings_2[0][:,0,:].numpy())"
   ]
  },
  {
   "cell_type": "code",
   "execution_count": 11,
   "metadata": {
    "ExecuteTime": {
     "end_time": "2022-05-21T10:19:47.539848Z",
     "start_time": "2022-05-21T10:19:47.409109Z"
    }
   },
   "outputs": [],
   "source": [
    "features_2 = np.concatenate(embeddings_2)"
   ]
  },
  {
   "cell_type": "markdown",
   "metadata": {},
   "source": [
    "давайте обучим нашу модель на 80% данных, проведем валидацию на 10% и оставшиеся оставим на тестирование"
   ]
  },
  {
   "cell_type": "code",
   "execution_count": 13,
   "metadata": {
    "ExecuteTime": {
     "end_time": "2022-05-21T10:20:51.235141Z",
     "start_time": "2022-05-21T10:20:51.116037Z"
    }
   },
   "outputs": [
    {
     "data": {
      "text/html": [
       "<div>\n",
       "<style scoped>\n",
       "    .dataframe tbody tr th:only-of-type {\n",
       "        vertical-align: middle;\n",
       "    }\n",
       "\n",
       "    .dataframe tbody tr th {\n",
       "        vertical-align: top;\n",
       "    }\n",
       "\n",
       "    .dataframe thead th {\n",
       "        text-align: right;\n",
       "    }\n",
       "</style>\n",
       "<table border=\"1\" class=\"dataframe\">\n",
       "  <thead>\n",
       "    <tr style=\"text-align: right;\">\n",
       "      <th></th>\n",
       "      <th>0</th>\n",
       "      <th>1</th>\n",
       "      <th>2</th>\n",
       "      <th>3</th>\n",
       "      <th>4</th>\n",
       "      <th>5</th>\n",
       "      <th>6</th>\n",
       "      <th>7</th>\n",
       "      <th>8</th>\n",
       "      <th>9</th>\n",
       "      <th>...</th>\n",
       "      <th>758</th>\n",
       "      <th>759</th>\n",
       "      <th>760</th>\n",
       "      <th>761</th>\n",
       "      <th>762</th>\n",
       "      <th>763</th>\n",
       "      <th>764</th>\n",
       "      <th>765</th>\n",
       "      <th>766</th>\n",
       "      <th>767</th>\n",
       "    </tr>\n",
       "  </thead>\n",
       "  <tbody>\n",
       "    <tr>\n",
       "      <th>0</th>\n",
       "      <td>0.220490</td>\n",
       "      <td>-0.097744</td>\n",
       "      <td>-0.073250</td>\n",
       "      <td>-0.071392</td>\n",
       "      <td>-0.085661</td>\n",
       "      <td>-0.183036</td>\n",
       "      <td>0.322567</td>\n",
       "      <td>0.242754</td>\n",
       "      <td>-0.038898</td>\n",
       "      <td>-0.271066</td>\n",
       "      <td>...</td>\n",
       "      <td>0.177155</td>\n",
       "      <td>-0.026148</td>\n",
       "      <td>0.086816</td>\n",
       "      <td>-0.171983</td>\n",
       "      <td>0.303477</td>\n",
       "      <td>0.019843</td>\n",
       "      <td>-0.199227</td>\n",
       "      <td>0.153798</td>\n",
       "      <td>0.416239</td>\n",
       "      <td>0.403389</td>\n",
       "    </tr>\n",
       "    <tr>\n",
       "      <th>1</th>\n",
       "      <td>-0.118798</td>\n",
       "      <td>-0.156563</td>\n",
       "      <td>0.238368</td>\n",
       "      <td>-0.128910</td>\n",
       "      <td>-0.122928</td>\n",
       "      <td>-0.096002</td>\n",
       "      <td>0.643841</td>\n",
       "      <td>0.153690</td>\n",
       "      <td>-0.207519</td>\n",
       "      <td>-0.335488</td>\n",
       "      <td>...</td>\n",
       "      <td>0.098510</td>\n",
       "      <td>-0.217268</td>\n",
       "      <td>0.038986</td>\n",
       "      <td>-0.440684</td>\n",
       "      <td>0.285150</td>\n",
       "      <td>-0.148382</td>\n",
       "      <td>0.210517</td>\n",
       "      <td>-0.048998</td>\n",
       "      <td>0.543574</td>\n",
       "      <td>0.514805</td>\n",
       "    </tr>\n",
       "    <tr>\n",
       "      <th>2</th>\n",
       "      <td>0.075954</td>\n",
       "      <td>0.061317</td>\n",
       "      <td>-0.122161</td>\n",
       "      <td>-0.135580</td>\n",
       "      <td>-0.120700</td>\n",
       "      <td>-0.396360</td>\n",
       "      <td>0.039420</td>\n",
       "      <td>0.519339</td>\n",
       "      <td>-0.130742</td>\n",
       "      <td>-0.324620</td>\n",
       "      <td>...</td>\n",
       "      <td>0.017995</td>\n",
       "      <td>-0.276312</td>\n",
       "      <td>0.167717</td>\n",
       "      <td>-0.168578</td>\n",
       "      <td>0.155621</td>\n",
       "      <td>0.323910</td>\n",
       "      <td>-0.154194</td>\n",
       "      <td>0.106488</td>\n",
       "      <td>0.530345</td>\n",
       "      <td>0.335555</td>\n",
       "    </tr>\n",
       "    <tr>\n",
       "      <th>3</th>\n",
       "      <td>0.067235</td>\n",
       "      <td>-0.040190</td>\n",
       "      <td>0.106863</td>\n",
       "      <td>-0.184665</td>\n",
       "      <td>0.028552</td>\n",
       "      <td>-0.340553</td>\n",
       "      <td>0.065569</td>\n",
       "      <td>0.265943</td>\n",
       "      <td>-0.061013</td>\n",
       "      <td>-0.209012</td>\n",
       "      <td>...</td>\n",
       "      <td>0.191439</td>\n",
       "      <td>-0.054419</td>\n",
       "      <td>-0.013607</td>\n",
       "      <td>-0.072732</td>\n",
       "      <td>0.213455</td>\n",
       "      <td>-0.039148</td>\n",
       "      <td>-0.266562</td>\n",
       "      <td>-0.024168</td>\n",
       "      <td>0.337838</td>\n",
       "      <td>0.367264</td>\n",
       "    </tr>\n",
       "    <tr>\n",
       "      <th>4</th>\n",
       "      <td>-0.116651</td>\n",
       "      <td>-0.038441</td>\n",
       "      <td>-0.080841</td>\n",
       "      <td>-0.028249</td>\n",
       "      <td>-0.014768</td>\n",
       "      <td>-0.308648</td>\n",
       "      <td>0.141258</td>\n",
       "      <td>0.533530</td>\n",
       "      <td>-0.274986</td>\n",
       "      <td>-0.334551</td>\n",
       "      <td>...</td>\n",
       "      <td>-0.012091</td>\n",
       "      <td>-0.161019</td>\n",
       "      <td>0.241566</td>\n",
       "      <td>-0.178456</td>\n",
       "      <td>0.210459</td>\n",
       "      <td>0.240435</td>\n",
       "      <td>-0.285982</td>\n",
       "      <td>0.031116</td>\n",
       "      <td>0.412562</td>\n",
       "      <td>0.304650</td>\n",
       "    </tr>\n",
       "  </tbody>\n",
       "</table>\n",
       "<p>5 rows × 768 columns</p>\n",
       "</div>"
      ],
      "text/plain": [
       "        0         1         2         3         4         5         6    \\\n",
       "0  0.220490 -0.097744 -0.073250 -0.071392 -0.085661 -0.183036  0.322567   \n",
       "1 -0.118798 -0.156563  0.238368 -0.128910 -0.122928 -0.096002  0.643841   \n",
       "2  0.075954  0.061317 -0.122161 -0.135580 -0.120700 -0.396360  0.039420   \n",
       "3  0.067235 -0.040190  0.106863 -0.184665  0.028552 -0.340553  0.065569   \n",
       "4 -0.116651 -0.038441 -0.080841 -0.028249 -0.014768 -0.308648  0.141258   \n",
       "\n",
       "        7         8         9    ...       758       759       760       761  \\\n",
       "0  0.242754 -0.038898 -0.271066  ...  0.177155 -0.026148  0.086816 -0.171983   \n",
       "1  0.153690 -0.207519 -0.335488  ...  0.098510 -0.217268  0.038986 -0.440684   \n",
       "2  0.519339 -0.130742 -0.324620  ...  0.017995 -0.276312  0.167717 -0.168578   \n",
       "3  0.265943 -0.061013 -0.209012  ...  0.191439 -0.054419 -0.013607 -0.072732   \n",
       "4  0.533530 -0.274986 -0.334551  ... -0.012091 -0.161019  0.241566 -0.178456   \n",
       "\n",
       "        762       763       764       765       766       767  \n",
       "0  0.303477  0.019843 -0.199227  0.153798  0.416239  0.403389  \n",
       "1  0.285150 -0.148382  0.210517 -0.048998  0.543574  0.514805  \n",
       "2  0.155621  0.323910 -0.154194  0.106488  0.530345  0.335555  \n",
       "3  0.213455 -0.039148 -0.266562 -0.024168  0.337838  0.367264  \n",
       "4  0.210459  0.240435 -0.285982  0.031116  0.412562  0.304650  \n",
       "\n",
       "[5 rows x 768 columns]"
      ]
     },
     "execution_count": 13,
     "metadata": {},
     "output_type": "execute_result"
    }
   ],
   "source": [
    "features_final = pd.DataFrame(data = features_2)\n",
    "features_final.head()"
   ]
  },
  {
   "cell_type": "code",
   "execution_count": 24,
   "metadata": {
    "ExecuteTime": {
     "end_time": "2022-05-21T10:26:58.643757Z",
     "start_time": "2022-05-21T10:26:58.624967Z"
    }
   },
   "outputs": [
    {
     "data": {
      "text/plain": [
       "0    892\n",
       "1    108\n",
       "Name: toxic, dtype: int64"
      ]
     },
     "execution_count": 24,
     "metadata": {},
     "output_type": "execute_result"
    }
   ],
   "source": []
  },
  {
   "cell_type": "code",
   "execution_count": 14,
   "metadata": {
    "ExecuteTime": {
     "end_time": "2022-05-21T10:20:56.448080Z",
     "start_time": "2022-05-21T10:20:56.218023Z"
    }
   },
   "outputs": [],
   "source": [
    "features_train, features_temp = train_test_split(features_final, shuffle=False, test_size=0.6)\n",
    "features_valid, features_test = train_test_split(features_temp, shuffle=False, test_size=0.5)\n",
    "\n",
    "target_train, target_temp = train_test_split(data.toxic[:len(features_final)], shuffle=False, test_size=0.6)\n",
    "target_valid, target_test = train_test_split(target_temp, shuffle=False, test_size=0.5)"
   ]
  },
  {
   "cell_type": "markdown",
   "metadata": {},
   "source": [
    "можно было конечно сначала обьеденить датасеты, потом снова разделить, но зачем проделывать лишнюю работу?"
   ]
  },
  {
   "cell_type": "code",
   "execution_count": 47,
   "metadata": {
    "ExecuteTime": {
     "end_time": "2022-05-21T10:48:51.087460Z",
     "start_time": "2022-05-21T10:48:50.937636Z"
    }
   },
   "outputs": [],
   "source": [
    "from sklearn.calibration import CalibratedClassifierCV\n",
    "from sklearn.svm import LinearSVC\n",
    "from transformers import pipeline\n",
    "from sklearn.feature_extraction.text import TfidfVectorizer"
   ]
  },
  {
   "cell_type": "code",
   "execution_count": 50,
   "metadata": {
    "ExecuteTime": {
     "end_time": "2022-05-21T10:49:28.230356Z",
     "start_time": "2022-05-21T10:49:28.123569Z"
    },
    "scrolled": true
   },
   "outputs": [
    {
     "ename": "TypeError",
     "evalue": "unhashable type: 'list'",
     "output_type": "error",
     "traceback": [
      "\u001b[1;31m---------------------------------------------------------------------------\u001b[0m",
      "\u001b[1;31mTypeError\u001b[0m                                 Traceback (most recent call last)",
      "\u001b[1;32m~\\AppData\\Local\\Temp/ipykernel_9176/991090581.py\u001b[0m in \u001b[0;36m<module>\u001b[1;34m\u001b[0m\n\u001b[0;32m      9\u001b[0m                                         \u001b[0mcv\u001b[0m \u001b[1;33m=\u001b[0m \u001b[1;36m5\u001b[0m\u001b[1;33m\u001b[0m\u001b[1;33m\u001b[0m\u001b[0m\n\u001b[0;32m     10\u001b[0m \t\t\t\t\t)\n\u001b[1;32m---> 11\u001b[1;33m text_clf_fl_first = pipeline(\n\u001b[0m\u001b[0;32m     12\u001b[0m \t\t\t      [\n\u001b[0;32m     13\u001b[0m \t\t\t       ('tfidfV', \n",
      "\u001b[1;32m~\\AppData\\Local\\Programs\\Python\\Python39\\lib\\site-packages\\transformers\\pipelines\\__init__.py\u001b[0m in \u001b[0;36mpipeline\u001b[1;34m(task, model, config, tokenizer, feature_extractor, framework, revision, use_fast, use_auth_token, model_kwargs, pipeline_class, **kwargs)\u001b[0m\n\u001b[0;32m    521\u001b[0m \u001b[1;33m\u001b[0m\u001b[0m\n\u001b[0;32m    522\u001b[0m     \u001b[1;31m# Retrieve the task\u001b[0m\u001b[1;33m\u001b[0m\u001b[1;33m\u001b[0m\u001b[1;33m\u001b[0m\u001b[0m\n\u001b[1;32m--> 523\u001b[1;33m     \u001b[0mtargeted_task\u001b[0m\u001b[1;33m,\u001b[0m \u001b[0mtask_options\u001b[0m \u001b[1;33m=\u001b[0m \u001b[0mcheck_task\u001b[0m\u001b[1;33m(\u001b[0m\u001b[0mtask\u001b[0m\u001b[1;33m)\u001b[0m\u001b[1;33m\u001b[0m\u001b[1;33m\u001b[0m\u001b[0m\n\u001b[0m\u001b[0;32m    524\u001b[0m     \u001b[1;32mif\u001b[0m \u001b[0mpipeline_class\u001b[0m \u001b[1;32mis\u001b[0m \u001b[1;32mNone\u001b[0m\u001b[1;33m:\u001b[0m\u001b[1;33m\u001b[0m\u001b[1;33m\u001b[0m\u001b[0m\n\u001b[0;32m    525\u001b[0m         \u001b[0mpipeline_class\u001b[0m \u001b[1;33m=\u001b[0m \u001b[0mtargeted_task\u001b[0m\u001b[1;33m[\u001b[0m\u001b[1;34m\"impl\"\u001b[0m\u001b[1;33m]\u001b[0m\u001b[1;33m\u001b[0m\u001b[1;33m\u001b[0m\u001b[0m\n",
      "\u001b[1;32m~\\AppData\\Local\\Programs\\Python\\Python39\\lib\\site-packages\\transformers\\pipelines\\__init__.py\u001b[0m in \u001b[0;36mcheck_task\u001b[1;34m(task)\u001b[0m\n\u001b[0;32m    354\u001b[0m \u001b[1;33m\u001b[0m\u001b[0m\n\u001b[0;32m    355\u001b[0m     \"\"\"\n\u001b[1;32m--> 356\u001b[1;33m     \u001b[1;32mif\u001b[0m \u001b[0mtask\u001b[0m \u001b[1;32min\u001b[0m \u001b[0mTASK_ALIASES\u001b[0m\u001b[1;33m:\u001b[0m\u001b[1;33m\u001b[0m\u001b[1;33m\u001b[0m\u001b[0m\n\u001b[0m\u001b[0;32m    357\u001b[0m         \u001b[0mtask\u001b[0m \u001b[1;33m=\u001b[0m \u001b[0mTASK_ALIASES\u001b[0m\u001b[1;33m[\u001b[0m\u001b[0mtask\u001b[0m\u001b[1;33m]\u001b[0m\u001b[1;33m\u001b[0m\u001b[1;33m\u001b[0m\u001b[0m\n\u001b[0;32m    358\u001b[0m     \u001b[1;32mif\u001b[0m \u001b[0mtask\u001b[0m \u001b[1;32min\u001b[0m \u001b[0mSUPPORTED_TASKS\u001b[0m\u001b[1;33m:\u001b[0m\u001b[1;33m\u001b[0m\u001b[1;33m\u001b[0m\u001b[0m\n",
      "\u001b[1;31mTypeError\u001b[0m: unhashable type: 'list'"
     ]
    }
   ],
   "source": [
    "calibrated_cv = CalibratedClassifierCV(\n",
    "\t\t\t\t\tLinearSVC(\n",
    "\t\t\t\t\t\t   C = 3, \n",
    "\t\t\t\t\t\t   intercept_scaling = 1, \n",
    "\t\t\t\t\t\t   class_weight = 'balanced', \n",
    "\t\t\t\t\t\t   random_state = 412\n",
    "\t\t\t\t\t\t ), \n",
    "\t\t\t\t\tmethod = 'sigmoid', \n",
    "\t\t\t\t\tcv = 5\n",
    "\t\t\t\t\t)\n",
    "text_clf_fl_first = pipeline(\n",
    "\t\t\t      [\n",
    "\t\t\t       ('tfidfV', \n",
    "\t\t\t\tTfidfVectorizer(\n",
    "\n",
    "\t\t\t\t\t\t lowercase=True, \n",
    "\t\t\t\t\t\t sublinear_tf=True, \n",
    "\t\t\t\t\t\t min_df=10, \n",
    "\t\t\t\t\t\t norm='l2', \n",
    "\t\t\t\t\t\t encoding='utf8', \n",
    "\t\t\t\t\t\t ngram_range=(1, 4) )\n",
    "\t\t\t\t\t\t# stop_words=stop_words)\n",
    "\t\t\t\t\t\t),\n",
    "                             ('clf', calibrated_cv)\n",
    "                           ])\n",
    "\n",
    "_ = text_clf_fl_first.fit(\n",
    "\t\t\t   df_tempr_fl_aos1['Answer'], \n",
    "\t\t\t   df_tempr_fl_aos1['NewClassification']\n",
    "\t\t\t  )"
   ]
  },
  {
   "cell_type": "code",
   "execution_count": 116,
   "metadata": {
    "ExecuteTime": {
     "end_time": "2022-05-20T21:11:10.846238Z",
     "start_time": "2022-05-20T21:11:10.713637Z"
    },
    "scrolled": true
   },
   "outputs": [
    {
     "ename": "MemoryError",
     "evalue": "Unable to allocate 9.69 GiB for an array with shape (1301031162,) and data type int64",
     "output_type": "error",
     "traceback": [
      "\u001b[1;31m---------------------------------------------------------------------------\u001b[0m",
      "\u001b[1;31mMemoryError\u001b[0m                               Traceback (most recent call last)",
      "\u001b[1;32m~\\AppData\\Local\\Temp/ipykernel_4252/1101368716.py\u001b[0m in \u001b[0;36m<module>\u001b[1;34m\u001b[0m\n\u001b[0;32m      1\u001b[0m \u001b[1;31m#asd = features_train.join(target_train)\u001b[0m\u001b[1;33m\u001b[0m\u001b[1;33m\u001b[0m\u001b[1;33m\u001b[0m\u001b[0m\n\u001b[1;32m----> 2\u001b[1;33m \u001b[0masd\u001b[0m \u001b[1;33m=\u001b[0m \u001b[0mfeatures_train\u001b[0m\u001b[1;33m.\u001b[0m\u001b[0mmerge\u001b[0m\u001b[1;33m(\u001b[0m\u001b[0mtarget_train\u001b[0m\u001b[1;33m,\u001b[0m \u001b[0mhow\u001b[0m \u001b[1;33m=\u001b[0m \u001b[1;34m'left'\u001b[0m\u001b[1;33m)\u001b[0m\u001b[1;31m#, left_on='lkey', right_on='rkey')\u001b[0m\u001b[1;33m\u001b[0m\u001b[1;33m\u001b[0m\u001b[0m\n\u001b[0m\u001b[0;32m      3\u001b[0m \u001b[0masd\u001b[0m\u001b[1;33m.\u001b[0m\u001b[0mhead\u001b[0m\u001b[1;33m(\u001b[0m\u001b[1;33m)\u001b[0m\u001b[1;33m\u001b[0m\u001b[1;33m\u001b[0m\u001b[0m\n\u001b[0;32m      4\u001b[0m \u001b[1;31m# asd = features_train\u001b[0m\u001b[1;33m\u001b[0m\u001b[1;33m\u001b[0m\u001b[1;33m\u001b[0m\u001b[0m\n\u001b[0;32m      5\u001b[0m \u001b[1;31m# asd['toxic'] = target_train\u001b[0m\u001b[1;33m\u001b[0m\u001b[1;33m\u001b[0m\u001b[1;33m\u001b[0m\u001b[0m\n",
      "\u001b[1;32m~\\AppData\\Local\\Programs\\Python\\Python39\\lib\\site-packages\\pandas\\core\\frame.py\u001b[0m in \u001b[0;36mmerge\u001b[1;34m(self, right, how, on, left_on, right_on, left_index, right_index, sort, suffixes, copy, indicator, validate)\u001b[0m\n\u001b[0;32m   9337\u001b[0m         \u001b[1;32mfrom\u001b[0m \u001b[0mpandas\u001b[0m\u001b[1;33m.\u001b[0m\u001b[0mcore\u001b[0m\u001b[1;33m.\u001b[0m\u001b[0mreshape\u001b[0m\u001b[1;33m.\u001b[0m\u001b[0mmerge\u001b[0m \u001b[1;32mimport\u001b[0m \u001b[0mmerge\u001b[0m\u001b[1;33m\u001b[0m\u001b[1;33m\u001b[0m\u001b[0m\n\u001b[0;32m   9338\u001b[0m \u001b[1;33m\u001b[0m\u001b[0m\n\u001b[1;32m-> 9339\u001b[1;33m         return merge(\n\u001b[0m\u001b[0;32m   9340\u001b[0m             \u001b[0mself\u001b[0m\u001b[1;33m,\u001b[0m\u001b[1;33m\u001b[0m\u001b[1;33m\u001b[0m\u001b[0m\n\u001b[0;32m   9341\u001b[0m             \u001b[0mright\u001b[0m\u001b[1;33m,\u001b[0m\u001b[1;33m\u001b[0m\u001b[1;33m\u001b[0m\u001b[0m\n",
      "\u001b[1;32m~\\AppData\\Local\\Programs\\Python\\Python39\\lib\\site-packages\\pandas\\core\\reshape\\merge.py\u001b[0m in \u001b[0;36mmerge\u001b[1;34m(left, right, how, on, left_on, right_on, left_index, right_index, sort, suffixes, copy, indicator, validate)\u001b[0m\n\u001b[0;32m    120\u001b[0m         \u001b[0mvalidate\u001b[0m\u001b[1;33m=\u001b[0m\u001b[0mvalidate\u001b[0m\u001b[1;33m,\u001b[0m\u001b[1;33m\u001b[0m\u001b[1;33m\u001b[0m\u001b[0m\n\u001b[0;32m    121\u001b[0m     )\n\u001b[1;32m--> 122\u001b[1;33m     \u001b[1;32mreturn\u001b[0m \u001b[0mop\u001b[0m\u001b[1;33m.\u001b[0m\u001b[0mget_result\u001b[0m\u001b[1;33m(\u001b[0m\u001b[1;33m)\u001b[0m\u001b[1;33m\u001b[0m\u001b[1;33m\u001b[0m\u001b[0m\n\u001b[0m\u001b[0;32m    123\u001b[0m \u001b[1;33m\u001b[0m\u001b[0m\n\u001b[0;32m    124\u001b[0m \u001b[1;33m\u001b[0m\u001b[0m\n",
      "\u001b[1;32m~\\AppData\\Local\\Programs\\Python\\Python39\\lib\\site-packages\\pandas\\core\\reshape\\merge.py\u001b[0m in \u001b[0;36mget_result\u001b[1;34m(self)\u001b[0m\n\u001b[0;32m    714\u001b[0m             \u001b[0mself\u001b[0m\u001b[1;33m.\u001b[0m\u001b[0mleft\u001b[0m\u001b[1;33m,\u001b[0m \u001b[0mself\u001b[0m\u001b[1;33m.\u001b[0m\u001b[0mright\u001b[0m \u001b[1;33m=\u001b[0m \u001b[0mself\u001b[0m\u001b[1;33m.\u001b[0m\u001b[0m_indicator_pre_merge\u001b[0m\u001b[1;33m(\u001b[0m\u001b[0mself\u001b[0m\u001b[1;33m.\u001b[0m\u001b[0mleft\u001b[0m\u001b[1;33m,\u001b[0m \u001b[0mself\u001b[0m\u001b[1;33m.\u001b[0m\u001b[0mright\u001b[0m\u001b[1;33m)\u001b[0m\u001b[1;33m\u001b[0m\u001b[1;33m\u001b[0m\u001b[0m\n\u001b[0;32m    715\u001b[0m \u001b[1;33m\u001b[0m\u001b[0m\n\u001b[1;32m--> 716\u001b[1;33m         \u001b[0mjoin_index\u001b[0m\u001b[1;33m,\u001b[0m \u001b[0mleft_indexer\u001b[0m\u001b[1;33m,\u001b[0m \u001b[0mright_indexer\u001b[0m \u001b[1;33m=\u001b[0m \u001b[0mself\u001b[0m\u001b[1;33m.\u001b[0m\u001b[0m_get_join_info\u001b[0m\u001b[1;33m(\u001b[0m\u001b[1;33m)\u001b[0m\u001b[1;33m\u001b[0m\u001b[1;33m\u001b[0m\u001b[0m\n\u001b[0m\u001b[0;32m    717\u001b[0m \u001b[1;33m\u001b[0m\u001b[0m\n\u001b[0;32m    718\u001b[0m         llabels, rlabels = _items_overlap_with_suffix(\n",
      "\u001b[1;32m~\\AppData\\Local\\Programs\\Python\\Python39\\lib\\site-packages\\pandas\\core\\reshape\\merge.py\u001b[0m in \u001b[0;36m_get_join_info\u001b[1;34m(self)\u001b[0m\n\u001b[0;32m    965\u001b[0m             )\n\u001b[0;32m    966\u001b[0m         \u001b[1;32melse\u001b[0m\u001b[1;33m:\u001b[0m\u001b[1;33m\u001b[0m\u001b[1;33m\u001b[0m\u001b[0m\n\u001b[1;32m--> 967\u001b[1;33m             \u001b[1;33m(\u001b[0m\u001b[0mleft_indexer\u001b[0m\u001b[1;33m,\u001b[0m \u001b[0mright_indexer\u001b[0m\u001b[1;33m)\u001b[0m \u001b[1;33m=\u001b[0m \u001b[0mself\u001b[0m\u001b[1;33m.\u001b[0m\u001b[0m_get_join_indexers\u001b[0m\u001b[1;33m(\u001b[0m\u001b[1;33m)\u001b[0m\u001b[1;33m\u001b[0m\u001b[1;33m\u001b[0m\u001b[0m\n\u001b[0m\u001b[0;32m    968\u001b[0m \u001b[1;33m\u001b[0m\u001b[0m\n\u001b[0;32m    969\u001b[0m             \u001b[1;32mif\u001b[0m \u001b[0mself\u001b[0m\u001b[1;33m.\u001b[0m\u001b[0mright_index\u001b[0m\u001b[1;33m:\u001b[0m\u001b[1;33m\u001b[0m\u001b[1;33m\u001b[0m\u001b[0m\n",
      "\u001b[1;32m~\\AppData\\Local\\Programs\\Python\\Python39\\lib\\site-packages\\pandas\\core\\reshape\\merge.py\u001b[0m in \u001b[0;36m_get_join_indexers\u001b[1;34m(self)\u001b[0m\n\u001b[0;32m    939\u001b[0m     \u001b[1;32mdef\u001b[0m \u001b[0m_get_join_indexers\u001b[0m\u001b[1;33m(\u001b[0m\u001b[0mself\u001b[0m\u001b[1;33m)\u001b[0m \u001b[1;33m->\u001b[0m \u001b[0mtuple\u001b[0m\u001b[1;33m[\u001b[0m\u001b[0mnpt\u001b[0m\u001b[1;33m.\u001b[0m\u001b[0mNDArray\u001b[0m\u001b[1;33m[\u001b[0m\u001b[0mnp\u001b[0m\u001b[1;33m.\u001b[0m\u001b[0mintp\u001b[0m\u001b[1;33m]\u001b[0m\u001b[1;33m,\u001b[0m \u001b[0mnpt\u001b[0m\u001b[1;33m.\u001b[0m\u001b[0mNDArray\u001b[0m\u001b[1;33m[\u001b[0m\u001b[0mnp\u001b[0m\u001b[1;33m.\u001b[0m\u001b[0mintp\u001b[0m\u001b[1;33m]\u001b[0m\u001b[1;33m]\u001b[0m\u001b[1;33m:\u001b[0m\u001b[1;33m\u001b[0m\u001b[1;33m\u001b[0m\u001b[0m\n\u001b[0;32m    940\u001b[0m         \u001b[1;34m\"\"\"return the join indexers\"\"\"\u001b[0m\u001b[1;33m\u001b[0m\u001b[1;33m\u001b[0m\u001b[0m\n\u001b[1;32m--> 941\u001b[1;33m         return get_join_indexers(\n\u001b[0m\u001b[0;32m    942\u001b[0m             \u001b[0mself\u001b[0m\u001b[1;33m.\u001b[0m\u001b[0mleft_join_keys\u001b[0m\u001b[1;33m,\u001b[0m \u001b[0mself\u001b[0m\u001b[1;33m.\u001b[0m\u001b[0mright_join_keys\u001b[0m\u001b[1;33m,\u001b[0m \u001b[0msort\u001b[0m\u001b[1;33m=\u001b[0m\u001b[0mself\u001b[0m\u001b[1;33m.\u001b[0m\u001b[0msort\u001b[0m\u001b[1;33m,\u001b[0m \u001b[0mhow\u001b[0m\u001b[1;33m=\u001b[0m\u001b[0mself\u001b[0m\u001b[1;33m.\u001b[0m\u001b[0mhow\u001b[0m\u001b[1;33m\u001b[0m\u001b[1;33m\u001b[0m\u001b[0m\n\u001b[0;32m    943\u001b[0m         )\n",
      "\u001b[1;32m~\\AppData\\Local\\Programs\\Python\\Python39\\lib\\site-packages\\pandas\\core\\reshape\\merge.py\u001b[0m in \u001b[0;36mget_join_indexers\u001b[1;34m(left_keys, right_keys, sort, how, **kwargs)\u001b[0m\n\u001b[0;32m   1507\u001b[0m \u001b[1;33m\u001b[0m\u001b[0m\n\u001b[0;32m   1508\u001b[0m     \u001b[1;31m# error: Cannot call function of unknown type\u001b[0m\u001b[1;33m\u001b[0m\u001b[1;33m\u001b[0m\u001b[1;33m\u001b[0m\u001b[0m\n\u001b[1;32m-> 1509\u001b[1;33m     \u001b[1;32mreturn\u001b[0m \u001b[0mjoin_func\u001b[0m\u001b[1;33m(\u001b[0m\u001b[0mlkey\u001b[0m\u001b[1;33m,\u001b[0m \u001b[0mrkey\u001b[0m\u001b[1;33m,\u001b[0m \u001b[0mcount\u001b[0m\u001b[1;33m,\u001b[0m \u001b[1;33m**\u001b[0m\u001b[0mkwargs\u001b[0m\u001b[1;33m)\u001b[0m  \u001b[1;31m# type: ignore[operator]\u001b[0m\u001b[1;33m\u001b[0m\u001b[1;33m\u001b[0m\u001b[0m\n\u001b[0m\u001b[0;32m   1510\u001b[0m \u001b[1;33m\u001b[0m\u001b[0m\n\u001b[0;32m   1511\u001b[0m \u001b[1;33m\u001b[0m\u001b[0m\n",
      "\u001b[1;32m~\\AppData\\Local\\Programs\\Python\\Python39\\lib\\site-packages\\pandas\\_libs\\join.pyx\u001b[0m in \u001b[0;36mpandas._libs.join.left_outer_join\u001b[1;34m()\u001b[0m\n",
      "\u001b[1;31mMemoryError\u001b[0m: Unable to allocate 9.69 GiB for an array with shape (1301031162,) and data type int64"
     ]
    }
   ],
   "source": [
    "#asd = features_train.join(target_train)\n",
    "asd = features_train.merge(target_train, how = 'left')#, left_on='lkey', right_on='rkey')\n",
    "asd.head()\n",
    "# asd = features_train\n",
    "# asd['toxic'] = target_train\n",
    "# asd"
   ]
  },
  {
   "cell_type": "code",
   "execution_count": 93,
   "metadata": {
    "ExecuteTime": {
     "end_time": "2022-05-20T20:56:50.378802Z",
     "start_time": "2022-05-20T20:56:50.337573Z"
    }
   },
   "outputs": [],
   "source": [
    "from sklearn.utils import shuffle\n",
    "def upsample(features, target, repeat):\n",
    "    features_zeros = features[target == 0]\n",
    "    features_ones = features[target == 1]\n",
    "    target_zeros = target[target == 0]\n",
    "    target_ones = target[target == 1]\n",
    "\n",
    "    features_upsampled = pd.concat([features_zeros] + [features_ones] * repeat)\n",
    "    target_upsampled = pd.concat([target_zeros] + [target_ones] * repeat)\n",
    "    \n",
    "    features_upsampled, target_upsampled = shuffle(\n",
    "        features_upsampled, target_upsampled, random_state=12345)\n",
    "    \n",
    "    return features_upsampled, target_upsampled"
   ]
  },
  {
   "cell_type": "code",
   "execution_count": 94,
   "metadata": {
    "ExecuteTime": {
     "end_time": "2022-05-20T20:57:27.353987Z",
     "start_time": "2022-05-20T20:57:26.993832Z"
    }
   },
   "outputs": [
    {
     "data": {
      "text/plain": [
       "0    35829\n",
       "1    29127\n",
       "Name: toxic, dtype: int64"
      ]
     },
     "execution_count": 94,
     "metadata": {},
     "output_type": "execute_result"
    }
   ],
   "source": [
    "dass, asdad = upsample(asd, asd.toxic, 7)\n",
    "asdad.value_counts()"
   ]
  },
  {
   "cell_type": "code",
   "execution_count": null,
   "metadata": {},
   "outputs": [],
   "source": []
  },
  {
   "cell_type": "code",
   "execution_count": 36,
   "metadata": {
    "ExecuteTime": {
     "end_time": "2022-05-21T10:42:05.406512Z",
     "start_time": "2022-05-21T10:42:04.744526Z"
    }
   },
   "outputs": [],
   "source": [
    "scaler_lin = StandardScaler().fit(features_train)\n",
    "features_for_scal_train = scaler_lin.transform(features_train)\n",
    "features_for_scal_valid = scaler_lin.transform(features_valid)\n",
    "features_for_scal_test = scaler_lin.transform(features_test)"
   ]
  },
  {
   "cell_type": "code",
   "execution_count": 115,
   "metadata": {
    "ExecuteTime": {
     "end_time": "2022-05-20T21:08:33.646357Z",
     "start_time": "2022-05-20T21:08:29.358508Z"
    }
   },
   "outputs": [
    {
     "data": {
      "text/plain": [
       "0.38432934926958834"
      ]
     },
     "execution_count": 115,
     "metadata": {},
     "output_type": "execute_result"
    }
   ],
   "source": [
    "model_log_extended = LogisticRegression(random_state=1234)\n",
    "model_log_extended.fit(asd.drop('toxic', axis = 1), asd.toxic)\n",
    "#выше нужна индексация чтобы точно ничего не перепутать\n",
    "pred_log_extended = model_log_extended.predict(features_for_scal_valid)\n",
    "f1_score(target_valid, pred_log_extended)"
   ]
  },
  {
   "cell_type": "code",
   "execution_count": 37,
   "metadata": {
    "ExecuteTime": {
     "end_time": "2022-05-21T10:43:22.334517Z",
     "start_time": "2022-05-21T10:43:19.121766Z"
    }
   },
   "outputs": [
    {
     "data": {
      "text/plain": [
       "0.7259395050412466"
      ]
     },
     "execution_count": 37,
     "metadata": {},
     "output_type": "execute_result"
    }
   ],
   "source": [
    "model_log_extended = LogisticRegression(random_state=1234)\n",
    "model_log_extended.fit(features_for_scal_train, target_train)\n",
    "#выше нужна индексация чтобы точно ничего не перепутать\n",
    "pred_log_extended = model_log_extended.predict(features_for_scal_valid)\n",
    "f1_score(target_valid, pred_log_extended)"
   ]
  },
  {
   "cell_type": "code",
   "execution_count": 25,
   "metadata": {
    "ExecuteTime": {
     "end_time": "2022-05-21T10:28:05.809019Z",
     "start_time": "2022-05-21T10:28:02.507674Z"
    }
   },
   "outputs": [
    {
     "data": {
      "text/plain": [
       "0.7272727272727273"
      ]
     },
     "execution_count": 25,
     "metadata": {},
     "output_type": "execute_result"
    }
   ],
   "source": [
    "model_log_extended = LogisticRegression(random_state=1234)\n",
    "model_log_extended.fit(features_train, target_train)\n",
    "#выше нужна индексация чтобы точно ничего не перепутать\n",
    "pred_log_extended = model_log_extended.predict(features_valid)\n",
    "f1_score(target_valid, pred_log_extended)"
   ]
  },
  {
   "cell_type": "code",
   "execution_count": 17,
   "metadata": {
    "ExecuteTime": {
     "end_time": "2022-05-21T10:22:59.703371Z",
     "start_time": "2022-05-21T10:22:56.312910Z"
    }
   },
   "outputs": [
    {
     "data": {
      "text/plain": [
       "array([0.03123476, 0.00900383, 0.00167304, ..., 0.03429091, 0.1035808 ,\n",
       "       0.0688976 ])"
      ]
     },
     "execution_count": 17,
     "metadata": {},
     "output_type": "execute_result"
    }
   ],
   "source": [
    "model_log = LogisticRegression(random_state=1234)\n",
    "model_log.fit(features_train, target_train)\n",
    "log_probas = model_log.predict_proba(features_valid)\n",
    "log_probas_of_1 = log_probas[:, 1]\n",
    "log_probas_of_1"
   ]
  },
  {
   "cell_type": "markdown",
   "metadata": {},
   "source": [
    "<a id=''></a>"
   ]
  },
  {
   "cell_type": "code",
   "execution_count": 20,
   "metadata": {
    "ExecuteTime": {
     "end_time": "2022-05-21T10:23:31.993424Z",
     "start_time": "2022-05-21T10:23:28.453761Z"
    }
   },
   "outputs": [
    {
     "data": {
      "application/vnd.jupyter.widget-view+json": {
       "model_id": "937350f29e8049d4a193a2e5338099a3",
       "version_major": 2,
       "version_minor": 0
      },
      "text/plain": [
       "  0%|          | 0/200 [00:00<?, ?it/s]"
      ]
     },
     "metadata": {},
     "output_type": "display_data"
    },
    {
     "name": "stdout",
     "output_type": "stream",
     "text": [
      "0.7370517928286853   0.41000000000000003\n"
     ]
    }
   ],
   "source": [
    "best_f1_log_thr = 0\n",
    "for i in notebook.tqdm(np.arange(0,1,0.005)):\n",
    "    asda = pd.Series([own_activator(i, x) for x in log_probas_of_1])\n",
    "    if f1_score(target_valid, asda) > best_f1_log_thr:\n",
    "        best_f1_log_thr = f1_score(target_valid, asda)\n",
    "        best_ii = i\n",
    "print(best_f1_log_thr, ' ', best_ii)"
   ]
  },
  {
   "cell_type": "code",
   "execution_count": 21,
   "metadata": {
    "ExecuteTime": {
     "end_time": "2022-05-20T12:31:36.842452Z",
     "start_time": "2022-05-20T12:21:59.533348Z"
    },
    "scrolled": true
   },
   "outputs": [
    {
     "data": {
      "application/vnd.jupyter.widget-view+json": {
       "model_id": "88f6767980464c69ad3143db72afacab",
       "version_major": 2,
       "version_minor": 0
      },
      "text/plain": [
       "  0%|          | 0/4 [00:00<?, ?it/s]"
      ]
     },
     "metadata": {},
     "output_type": "display_data"
    },
    {
     "name": "stdout",
     "output_type": "stream",
     "text": [
      "пока лучшее f1 = 0.6714801444043322 при С = 0.001 и solver = sag\n",
      "----------------------------------------------------------------\n"
     ]
    },
    {
     "data": {
      "application/vnd.jupyter.widget-view+json": {
       "model_id": "942fbd466429471c88f9b9804e60f810",
       "version_major": 2,
       "version_minor": 0
      },
      "text/plain": [
       "  0%|          | 0/4 [00:00<?, ?it/s]"
      ]
     },
     "metadata": {},
     "output_type": "display_data"
    },
    {
     "name": "stdout",
     "output_type": "stream",
     "text": [
      "пока лучшее f1 = 0.7186484730344379 при С = 0.01 и solver = lbfgs\n",
      "----------------------------------------------------------------\n"
     ]
    },
    {
     "data": {
      "application/vnd.jupyter.widget-view+json": {
       "model_id": "e21336cac64443bebcf12e0aa7efd589",
       "version_major": 2,
       "version_minor": 0
      },
      "text/plain": [
       "  0%|          | 0/4 [00:00<?, ?it/s]"
      ]
     },
     "metadata": {},
     "output_type": "display_data"
    },
    {
     "name": "stdout",
     "output_type": "stream",
     "text": [
      "пока лучшее f1 = 0.7432950191570882 при С = 0.1 и solver = liblinear\n",
      "----------------------------------------------------------------\n"
     ]
    },
    {
     "data": {
      "application/vnd.jupyter.widget-view+json": {
       "model_id": "a46b5887ae52400ab95de3e37c817e16",
       "version_major": 2,
       "version_minor": 0
      },
      "text/plain": [
       "  0%|          | 0/4 [00:00<?, ?it/s]"
      ]
     },
     "metadata": {},
     "output_type": "display_data"
    },
    {
     "name": "stdout",
     "output_type": "stream",
     "text": [
      "пока лучшее f1 = 0.754740834386852 при С = 1 и solver = lbfgs\n",
      "----------------------------------------------------------------\n"
     ]
    },
    {
     "data": {
      "application/vnd.jupyter.widget-view+json": {
       "model_id": "bbc6de52fd8b48d0b04a909cbbec82c6",
       "version_major": 2,
       "version_minor": 0
      },
      "text/plain": [
       "  0%|          | 0/4 [00:00<?, ?it/s]"
      ]
     },
     "metadata": {},
     "output_type": "display_data"
    },
    {
     "name": "stdout",
     "output_type": "stream",
     "text": [
      "пока лучшее f1 = 0.754740834386852 при С = 1 и solver = lbfgs\n",
      "----------------------------------------------------------------\n"
     ]
    },
    {
     "data": {
      "application/vnd.jupyter.widget-view+json": {
       "model_id": "45a4331997874563b10bf64b96b0dc03",
       "version_major": 2,
       "version_minor": 0
      },
      "text/plain": [
       "  0%|          | 0/4 [00:00<?, ?it/s]"
      ]
     },
     "metadata": {},
     "output_type": "display_data"
    },
    {
     "name": "stdout",
     "output_type": "stream",
     "text": [
      "пока лучшее f1 = 0.754740834386852 при С = 1 и solver = lbfgs\n",
      "----------------------------------------------------------------\n",
      "лучшее значение f1 = 0.754740834386852 при С = 1 и  solver = lbfgs\n"
     ]
    }
   ],
   "source": [
    "best_f1_log = 0\n",
    "for i in [0.001, 0.01, 0.1, 1 , 10, 100]:\n",
    "    for k in notebook.tqdm(['newton-cg', 'lbfgs', 'liblinear', 'sag']):\n",
    "        model_log = LogisticRegression(random_state=1234, C = i,  solver = k)\n",
    "        model_log.fit(features_train, target_train)\n",
    "        log_probas = model_log.predict_proba(features_valid)\n",
    "        log_probas_of_1 = log_probas[:, 1]\n",
    "        asda = pd.Series([own_activator(.355, x) for x in log_probas_of_1])\n",
    "        if f1_score(target_valid, asda) > best_f1_log:\n",
    "            best_f1_log = f1_score(target_valid, asda)\n",
    "            best_c = i\n",
    "            best_solver = k\n",
    "    print(f'пока лучшее f1 = {best_f1_log} при С = {best_c} и solver = {best_solver}')\n",
    "    print('----------------------------------------------------------------')\n",
    "print(f'лучшее значение f1 = {best_f1_log} при С = {best_c} и  solver = {best_solver}')"
   ]
  },
  {
   "cell_type": "code",
   "execution_count": null,
   "metadata": {},
   "outputs": [],
   "source": []
  },
  {
   "cell_type": "code",
   "execution_count": 44,
   "metadata": {
    "ExecuteTime": {
     "end_time": "2022-05-20T20:25:56.452879Z",
     "start_time": "2022-05-20T20:25:47.933064Z"
    }
   },
   "outputs": [
    {
     "data": {
      "text/plain": [
       "0.7172264355362946"
      ]
     },
     "execution_count": 44,
     "metadata": {},
     "output_type": "execute_result"
    }
   ],
   "source": [
    "model_log = LogisticRegression(random_state=1234)\n",
    "model_log.fit(features_train, target_train)\n",
    "log_probas = model_log.predict_proba(features_test)\n",
    "log_probas_of_1 = log_probas[:, 1]\n",
    "asda = pd.Series([own_activator(0.350, x) for x in log_probas_of_1])\n",
    "f1_score(target_test, asda)"
   ]
  },
  {
   "cell_type": "markdown",
   "metadata": {},
   "source": [
    "### DecisionTreeClassifier"
   ]
  },
  {
   "cell_type": "code",
   "execution_count": 52,
   "metadata": {
    "ExecuteTime": {
     "end_time": "2022-05-20T20:32:09.688849Z",
     "start_time": "2022-05-20T20:27:06.065055Z"
    },
    "scrolled": true
   },
   "outputs": [
    {
     "ename": "KeyboardInterrupt",
     "evalue": "",
     "output_type": "error",
     "traceback": [
      "\u001b[1;31m---------------------------------------------------------------------------\u001b[0m",
      "\u001b[1;31mKeyboardInterrupt\u001b[0m                         Traceback (most recent call last)",
      "\u001b[1;32m~\\AppData\\Local\\Temp/ipykernel_4252/3875317493.py\u001b[0m in \u001b[0;36m<module>\u001b[1;34m\u001b[0m\n\u001b[0;32m      1\u001b[0m \u001b[0mmodel_tree\u001b[0m \u001b[1;33m=\u001b[0m \u001b[0mDecisionTreeClassifier\u001b[0m\u001b[1;33m(\u001b[0m\u001b[0mrandom_state\u001b[0m \u001b[1;33m=\u001b[0m \u001b[1;36m12345\u001b[0m\u001b[1;33m)\u001b[0m\u001b[1;33m\u001b[0m\u001b[1;33m\u001b[0m\u001b[0m\n\u001b[1;32m----> 2\u001b[1;33m \u001b[0mmodel_tree\u001b[0m\u001b[1;33m.\u001b[0m\u001b[0mfit\u001b[0m\u001b[1;33m(\u001b[0m\u001b[0mfeatures_train\u001b[0m\u001b[1;33m,\u001b[0m \u001b[0mtarget_train\u001b[0m\u001b[1;33m)\u001b[0m\u001b[1;33m\u001b[0m\u001b[1;33m\u001b[0m\u001b[0m\n\u001b[0m\u001b[0;32m      3\u001b[0m \u001b[0mmodel_tree\u001b[0m\u001b[1;33m.\u001b[0m\u001b[0mtree_\u001b[0m\u001b[1;33m.\u001b[0m\u001b[0mmax_depth\u001b[0m\u001b[1;33m\u001b[0m\u001b[1;33m\u001b[0m\u001b[0m\n",
      "\u001b[1;32m~\\AppData\\Local\\Programs\\Python\\Python39\\lib\\site-packages\\sklearn\\tree\\_classes.py\u001b[0m in \u001b[0;36mfit\u001b[1;34m(self, X, y, sample_weight, check_input, X_idx_sorted)\u001b[0m\n\u001b[0;32m    935\u001b[0m         \"\"\"\n\u001b[0;32m    936\u001b[0m \u001b[1;33m\u001b[0m\u001b[0m\n\u001b[1;32m--> 937\u001b[1;33m         super().fit(\n\u001b[0m\u001b[0;32m    938\u001b[0m             \u001b[0mX\u001b[0m\u001b[1;33m,\u001b[0m\u001b[1;33m\u001b[0m\u001b[1;33m\u001b[0m\u001b[0m\n\u001b[0;32m    939\u001b[0m             \u001b[0my\u001b[0m\u001b[1;33m,\u001b[0m\u001b[1;33m\u001b[0m\u001b[1;33m\u001b[0m\u001b[0m\n",
      "\u001b[1;32m~\\AppData\\Local\\Programs\\Python\\Python39\\lib\\site-packages\\sklearn\\tree\\_classes.py\u001b[0m in \u001b[0;36mfit\u001b[1;34m(self, X, y, sample_weight, check_input, X_idx_sorted)\u001b[0m\n\u001b[0;32m    418\u001b[0m             )\n\u001b[0;32m    419\u001b[0m \u001b[1;33m\u001b[0m\u001b[0m\n\u001b[1;32m--> 420\u001b[1;33m         \u001b[0mbuilder\u001b[0m\u001b[1;33m.\u001b[0m\u001b[0mbuild\u001b[0m\u001b[1;33m(\u001b[0m\u001b[0mself\u001b[0m\u001b[1;33m.\u001b[0m\u001b[0mtree_\u001b[0m\u001b[1;33m,\u001b[0m \u001b[0mX\u001b[0m\u001b[1;33m,\u001b[0m \u001b[0my\u001b[0m\u001b[1;33m,\u001b[0m \u001b[0msample_weight\u001b[0m\u001b[1;33m)\u001b[0m\u001b[1;33m\u001b[0m\u001b[1;33m\u001b[0m\u001b[0m\n\u001b[0m\u001b[0;32m    421\u001b[0m \u001b[1;33m\u001b[0m\u001b[0m\n\u001b[0;32m    422\u001b[0m         \u001b[1;32mif\u001b[0m \u001b[0mself\u001b[0m\u001b[1;33m.\u001b[0m\u001b[0mn_outputs_\u001b[0m \u001b[1;33m==\u001b[0m \u001b[1;36m1\u001b[0m \u001b[1;32mand\u001b[0m \u001b[0mis_classifier\u001b[0m\u001b[1;33m(\u001b[0m\u001b[0mself\u001b[0m\u001b[1;33m)\u001b[0m\u001b[1;33m:\u001b[0m\u001b[1;33m\u001b[0m\u001b[1;33m\u001b[0m\u001b[0m\n",
      "\u001b[1;31mKeyboardInterrupt\u001b[0m: "
     ]
    }
   ],
   "source": [
    "model_tree = DecisionTreeClassifier(random_state = 12345)\n",
    "model_tree.fit(features_train, target_train)\n",
    "model_tree.tree_.max_depth"
   ]
  },
  {
   "cell_type": "code",
   "execution_count": null,
   "metadata": {},
   "outputs": [],
   "source": [
    "f1_score(features_valid, target_valid)"
   ]
  },
  {
   "cell_type": "markdown",
   "metadata": {},
   "source": [
    "без подбора глубины решающее дерево показывает достаточно посредсвенный результат."
   ]
  },
  {
   "cell_type": "code",
   "execution_count": 62,
   "metadata": {
    "scrolled": true
   },
   "outputs": [
    {
     "data": {
      "application/vnd.jupyter.widget-view+json": {
       "model_id": "464c1943dbbc49058b04d9a0e65ed870",
       "version_major": 2,
       "version_minor": 0
      },
      "text/plain": [
       "  0%|          | 0/44 [00:00<?, ?it/s]"
      ]
     },
     "metadata": {},
     "output_type": "display_data"
    },
    {
     "name": "stdout",
     "output_type": "stream",
     "text": [
      "лучшее значение f1 = 0.49918699186991866 достигается при значении depth = 6\n"
     ]
    }
   ],
   "source": [
    "best_f1_tree = 0\n",
    "for i in notebook.tqdm(range(1, 45)):\n",
    "    model_tree = DecisionTreeClassifier(random_state = 12345, max_depth = i)\n",
    "    model_tree.fit(features[0:7950], data[0:7950].toxic)\n",
    "    if f1_score(data[7950:15900].toxic, model_tree.predict(features[7950:15900])) > best_f1_tree:\n",
    "        best_f1_tree = f1_score(data[7950:15900].toxic, model_tree.predict(features[7950:15900]))\n",
    "        best_depth_tree = i\n",
    "print(f'лучшее значение f1 = {best_f1_tree} достигается при значении depth = {best_depth_tree}')"
   ]
  },
  {
   "cell_type": "code",
   "execution_count": 63,
   "metadata": {},
   "outputs": [
    {
     "data": {
      "text/plain": [
       "DecisionTreeClassifier(max_depth=6, random_state=12345)"
      ]
     },
     "execution_count": 63,
     "metadata": {},
     "output_type": "execute_result"
    }
   ],
   "source": [
    "model_tree = DecisionTreeClassifier(random_state = 12345, max_depth = 6)\n",
    "model_tree.fit(features[0:7950], data[0:7950].toxic)"
   ]
  },
  {
   "cell_type": "code",
   "execution_count": 64,
   "metadata": {},
   "outputs": [],
   "source": [
    "cf_matrix_tree = confusion_matrix(data[7950:15900].toxic, model_tree.predict(features[7950:15900]))"
   ]
  },
  {
   "cell_type": "code",
   "execution_count": 65,
   "metadata": {},
   "outputs": [
    {
     "data": {
      "image/png": "[encoded data removed]",
      "text/plain": [
       "<Figure size 432x288 with 2 Axes>"
      ]
     },
     "metadata": {
      "needs_background": "light"
     },
     "output_type": "display_data"
    }
   ],
   "source": [
    "group_names = ['True Neg','False Pos','False Neg','True Pos']\n",
    "group_counts = [\"{0:0.0f}\".format(value) for value in\n",
    "                cf_matrix_tree.flatten()]\n",
    "group_percentages = [\"{0:.2%}\".format(value) for value in\n",
    "                     cf_matrix_tree.flatten()/np.sum(cf_matrix_tree)]\n",
    "labels = [f\"{v1}\\n{v2}\\n{v3}\" for v1, v2, v3 in\n",
    "          zip(group_names,group_counts,group_percentages)]\n",
    "labels = np.asarray(labels).reshape(2,2)\n",
    "sns.heatmap(cf_matrix_tree, annot=labels, fmt='', cmap='Blues');"
   ]
  },
  {
   "cell_type": "markdown",
   "metadata": {},
   "source": [
    "видны очевидные проблемы этой модели. а именно определение положительных значений. FN>TP что значит, что у модели низкое значение полноты и как следствие помойное значение целевой метрики. смысла проверять алгоритм случайного леса особо нет, потому-что они построены по одному и тому же принципу с рещающим деревом и он вряд ли выдаст результат сильно лучше"
   ]
  },
  {
   "cell_type": "markdown",
   "metadata": {},
   "source": [
    "### CatBoostClassifier"
   ]
  },
  {
   "cell_type": "code",
   "execution_count": 33,
   "metadata": {
    "ExecuteTime": {
     "end_time": "2022-05-21T10:35:25.114283Z",
     "start_time": "2022-05-21T10:35:25.088133Z"
    }
   },
   "outputs": [
    {
     "ename": "AttributeError",
     "evalue": "'CatBoostClassifier' object has no attribute 'max_depth'",
     "output_type": "error",
     "traceback": [
      "\u001b[1;31m---------------------------------------------------------------------------\u001b[0m",
      "\u001b[1;31mAttributeError\u001b[0m                            Traceback (most recent call last)",
      "\u001b[1;32m~\\AppData\\Local\\Temp/ipykernel_9176/1223248957.py\u001b[0m in \u001b[0;36m<module>\u001b[1;34m\u001b[0m\n\u001b[1;32m----> 1\u001b[1;33m \u001b[0mmodel_cb\u001b[0m\u001b[1;33m.\u001b[0m\u001b[0mmax_depth\u001b[0m\u001b[1;33m\u001b[0m\u001b[1;33m\u001b[0m\u001b[0m\n\u001b[0m",
      "\u001b[1;31mAttributeError\u001b[0m: 'CatBoostClassifier' object has no attribute 'max_depth'"
     ]
    }
   ],
   "source": [
    "model_cb.max_depth"
   ]
  },
  {
   "cell_type": "code",
   "execution_count": 85,
   "metadata": {
    "ExecuteTime": {
     "end_time": "2022-05-22T12:01:00.503178Z",
     "start_time": "2022-05-22T12:01:00.470533Z"
    }
   },
   "outputs": [],
   "source": [
    "model_cb = CatBoostClassifier( iterations=100, \n",
    "                              random_state = 12345, \n",
    "                              eval_metric=\"F1\")"
   ]
  },
  {
   "cell_type": "code",
   "execution_count": 86,
   "metadata": {
    "ExecuteTime": {
     "end_time": "2022-05-22T12:01:49.088004Z",
     "start_time": "2022-05-22T12:01:26.022704Z"
    },
    "scrolled": true
   },
   "outputs": [
    {
     "data": {
      "application/vnd.jupyter.widget-view+json": {
       "model_id": "2bfd59bf1f754a6f823f08e657901b4f",
       "version_major": 2,
       "version_minor": 0
      },
      "text/plain": [
       "MetricVisualizer(layout=Layout(align_self='stretch', height='500px'))"
      ]
     },
     "metadata": {},
     "output_type": "display_data"
    },
    {
     "name": "stdout",
     "output_type": "stream",
     "text": [
      "Learning rate set to 0.203765\n",
      "0:\tlearn: 0.8059112\ttest: 0.4412238\tbest: 0.4412238 (0)\ttotal: 447ms\tremaining: 44.2s\n",
      "1:\tlearn: 0.8247831\ttest: 0.5029240\tbest: 0.5029240 (1)\ttotal: 683ms\tremaining: 33.5s\n",
      "2:\tlearn: 0.8341223\ttest: 0.5210872\tbest: 0.5210872 (2)\ttotal: 892ms\tremaining: 28.8s\n",
      "3:\tlearn: 0.8391063\ttest: 0.5326296\tbest: 0.5326296 (3)\ttotal: 1.1s\tremaining: 26.5s\n",
      "4:\tlearn: 0.8458870\ttest: 0.5416259\tbest: 0.5416259 (4)\ttotal: 1.34s\tremaining: 25.5s\n",
      "5:\tlearn: 0.8493583\ttest: 0.5490196\tbest: 0.5490196 (5)\ttotal: 1.57s\tremaining: 24.6s\n",
      "6:\tlearn: 0.8530364\ttest: 0.5507104\tbest: 0.5507104 (6)\ttotal: 1.77s\tremaining: 23.6s\n",
      "7:\tlearn: 0.8545934\ttest: 0.5519922\tbest: 0.5519922 (7)\ttotal: 1.97s\tremaining: 22.6s\n",
      "8:\tlearn: 0.8562100\ttest: 0.5581854\tbest: 0.5581854 (8)\ttotal: 2.17s\tremaining: 22s\n",
      "9:\tlearn: 0.8590154\ttest: 0.5582310\tbest: 0.5582310 (9)\ttotal: 2.38s\tremaining: 21.4s\n",
      "10:\tlearn: 0.8618864\ttest: 0.5625616\tbest: 0.5625616 (10)\ttotal: 2.58s\tremaining: 20.9s\n",
      "11:\tlearn: 0.8633476\ttest: 0.5637255\tbest: 0.5637255 (11)\ttotal: 2.77s\tremaining: 20.3s\n",
      "12:\tlearn: 0.8644576\ttest: 0.5677800\tbest: 0.5677800 (12)\ttotal: 2.96s\tremaining: 19.8s\n",
      "13:\tlearn: 0.8660296\ttest: 0.5696078\tbest: 0.5696078 (13)\ttotal: 3.15s\tremaining: 19.4s\n",
      "14:\tlearn: 0.8677725\ttest: 0.5722714\tbest: 0.5722714 (14)\ttotal: 3.36s\tremaining: 19s\n",
      "15:\tlearn: 0.8685525\ttest: 0.5731225\tbest: 0.5731225 (15)\ttotal: 3.56s\tremaining: 18.7s\n",
      "16:\tlearn: 0.8700995\ttest: 0.5729783\tbest: 0.5731225 (15)\ttotal: 3.76s\tremaining: 18.4s\n",
      "17:\tlearn: 0.8714206\ttest: 0.5758176\tbest: 0.5758176 (17)\ttotal: 3.96s\tremaining: 18s\n",
      "18:\tlearn: 0.8724280\ttest: 0.5792350\tbest: 0.5792350 (18)\ttotal: 4.16s\tremaining: 17.7s\n",
      "19:\tlearn: 0.8732148\ttest: 0.5770751\tbest: 0.5792350 (18)\ttotal: 4.34s\tremaining: 17.4s\n",
      "20:\tlearn: 0.8738663\ttest: 0.5801980\tbest: 0.5801980 (20)\ttotal: 4.52s\tremaining: 17s\n",
      "21:\tlearn: 0.8743966\ttest: 0.5810610\tbest: 0.5810610 (21)\ttotal: 4.72s\tremaining: 16.7s\n",
      "22:\tlearn: 0.8749689\ttest: 0.5834990\tbest: 0.5834990 (22)\ttotal: 4.94s\tremaining: 16.5s\n",
      "23:\tlearn: 0.8759374\ttest: 0.5825050\tbest: 0.5834990 (22)\ttotal: 5.16s\tremaining: 16.3s\n",
      "24:\tlearn: 0.8766135\ttest: 0.5813492\tbest: 0.5834990 (22)\ttotal: 5.41s\tremaining: 16.2s\n",
      "25:\tlearn: 0.8776723\ttest: 0.5846154\tbest: 0.5846154 (25)\ttotal: 5.62s\tremaining: 16s\n",
      "26:\tlearn: 0.8784099\ttest: 0.5847837\tbest: 0.5847837 (26)\ttotal: 5.79s\tremaining: 15.7s\n",
      "27:\tlearn: 0.8789321\ttest: 0.5890547\tbest: 0.5890547 (27)\ttotal: 5.99s\tremaining: 15.4s\n",
      "28:\tlearn: 0.8799353\ttest: 0.5915212\tbest: 0.5915212 (28)\ttotal: 6.21s\tremaining: 15.2s\n",
      "29:\tlearn: 0.8816248\ttest: 0.5921118\tbest: 0.5921118 (29)\ttotal: 6.41s\tremaining: 15s\n",
      "30:\tlearn: 0.8815953\ttest: 0.5923345\tbest: 0.5923345 (30)\ttotal: 6.61s\tremaining: 14.7s\n",
      "31:\tlearn: 0.8815920\ttest: 0.5920398\tbest: 0.5923345 (30)\ttotal: 6.79s\tremaining: 14.4s\n",
      "32:\tlearn: 0.8819196\ttest: 0.5920398\tbest: 0.5923345 (30)\ttotal: 7s\tremaining: 14.2s\n",
      "33:\tlearn: 0.8826236\ttest: 0.5907509\tbest: 0.5923345 (30)\ttotal: 7.2s\tremaining: 14s\n",
      "34:\tlearn: 0.8828028\ttest: 0.5907509\tbest: 0.5923345 (30)\ttotal: 7.38s\tremaining: 13.7s\n",
      "35:\tlearn: 0.8831064\ttest: 0.5925187\tbest: 0.5925187 (35)\ttotal: 7.56s\tremaining: 13.4s\n",
      "36:\tlearn: 0.8835763\ttest: 0.5937031\tbest: 0.5937031 (36)\ttotal: 7.76s\tremaining: 13.2s\n",
      "37:\tlearn: 0.8842472\ttest: 0.5939213\tbest: 0.5939213 (37)\ttotal: 7.94s\tremaining: 13s\n",
      "38:\tlearn: 0.8846620\ttest: 0.5939213\tbest: 0.5939213 (37)\ttotal: 8.13s\tremaining: 12.7s\n",
      "39:\tlearn: 0.8849453\ttest: 0.5932203\tbest: 0.5939213 (37)\ttotal: 8.32s\tremaining: 12.5s\n",
      "40:\tlearn: 0.8856637\ttest: 0.5959143\tbest: 0.5959143 (40)\ttotal: 8.5s\tremaining: 12.2s\n",
      "41:\tlearn: 0.8860107\ttest: 0.5934394\tbest: 0.5959143 (40)\ttotal: 8.7s\tremaining: 12s\n",
      "42:\tlearn: 0.8865775\ttest: 0.5949178\tbest: 0.5959143 (40)\ttotal: 8.92s\tremaining: 11.8s\n",
      "43:\tlearn: 0.8874263\ttest: 0.5955112\tbest: 0.5959143 (40)\ttotal: 9.11s\tremaining: 11.6s\n",
      "44:\tlearn: 0.8881644\ttest: 0.5953211\tbest: 0.5959143 (40)\ttotal: 9.29s\tremaining: 11.4s\n",
      "45:\tlearn: 0.8884129\ttest: 0.5969108\tbest: 0.5969108 (45)\ttotal: 9.46s\tremaining: 11.1s\n",
      "46:\tlearn: 0.8888889\ttest: 0.5977011\tbest: 0.5977011 (46)\ttotal: 9.66s\tremaining: 10.9s\n",
      "47:\tlearn: 0.8888199\ttest: 0.5978968\tbest: 0.5978968 (47)\ttotal: 9.85s\tremaining: 10.7s\n",
      "48:\tlearn: 0.8890888\ttest: 0.5962981\tbest: 0.5978968 (47)\ttotal: 10s\tremaining: 10.5s\n",
      "49:\tlearn: 0.8894818\ttest: 0.5971944\tbest: 0.5978968 (47)\ttotal: 10.2s\tremaining: 10.2s\n",
      "50:\tlearn: 0.8902197\ttest: 0.5967016\tbest: 0.5978968 (47)\ttotal: 10.4s\tremaining: 10s\n",
      "51:\tlearn: 0.8901641\ttest: 0.5963166\tbest: 0.5978968 (47)\ttotal: 10.6s\tremaining: 9.81s\n",
      "52:\tlearn: 0.8907156\ttest: 0.5958292\tbest: 0.5978968 (47)\ttotal: 10.8s\tremaining: 9.59s\n",
      "53:\tlearn: 0.8910738\ttest: 0.5988083\tbest: 0.5988083 (53)\ttotal: 11s\tremaining: 9.37s\n",
      "54:\tlearn: 0.8920872\ttest: 0.6024938\tbest: 0.6024938 (54)\ttotal: 11.2s\tremaining: 9.15s\n",
      "55:\tlearn: 0.8925148\ttest: 0.6001994\tbest: 0.6024938 (54)\ttotal: 11.4s\tremaining: 8.94s\n",
      "56:\tlearn: 0.8933292\ttest: 0.6000000\tbest: 0.6024938 (54)\ttotal: 11.6s\tremaining: 8.74s\n",
      "57:\tlearn: 0.8937477\ttest: 0.6003976\tbest: 0.6024938 (54)\ttotal: 11.8s\tremaining: 8.54s\n",
      "58:\tlearn: 0.8936487\ttest: 0.6000994\tbest: 0.6024938 (54)\ttotal: 12s\tremaining: 8.33s\n",
      "59:\tlearn: 0.8944611\ttest: 0.6023857\tbest: 0.6024938 (54)\ttotal: 12.2s\tremaining: 8.12s\n",
      "60:\tlearn: 0.8950273\ttest: 0.6023857\tbest: 0.6024938 (54)\ttotal: 12.4s\tremaining: 7.92s\n",
      "61:\tlearn: 0.8956260\ttest: 0.6036798\tbest: 0.6036798 (61)\ttotal: 12.6s\tremaining: 7.71s\n",
      "62:\tlearn: 0.8960580\ttest: 0.6036798\tbest: 0.6036798 (61)\ttotal: 12.8s\tremaining: 7.51s\n",
      "63:\tlearn: 0.8970880\ttest: 0.6040735\tbest: 0.6040735 (63)\ttotal: 13s\tremaining: 7.32s\n",
      "64:\tlearn: 0.8978972\ttest: 0.6067527\tbest: 0.6067527 (64)\ttotal: 13.2s\tremaining: 7.11s\n",
      "65:\tlearn: 0.8982295\ttest: 0.6076579\tbest: 0.6076579 (65)\ttotal: 13.4s\tremaining: 6.9s\n",
      "66:\tlearn: 0.8985669\ttest: 0.6081755\tbest: 0.6081755 (66)\ttotal: 13.6s\tremaining: 6.69s\n",
      "67:\tlearn: 0.8990712\ttest: 0.6077458\tbest: 0.6081755 (66)\ttotal: 13.8s\tremaining: 6.48s\n",
      "68:\tlearn: 0.8997678\ttest: 0.6056408\tbest: 0.6081755 (66)\ttotal: 14s\tremaining: 6.27s\n",
      "69:\tlearn: 0.9007274\ttest: 0.6065411\tbest: 0.6081755 (66)\ttotal: 14.1s\tremaining: 6.06s\n",
      "70:\tlearn: 0.9013683\ttest: 0.6050420\tbest: 0.6081755 (66)\ttotal: 14.3s\tremaining: 5.85s\n",
      "71:\tlearn: 0.9016997\ttest: 0.6056408\tbest: 0.6081755 (66)\ttotal: 14.5s\tremaining: 5.64s\n",
      "72:\tlearn: 0.9023529\ttest: 0.6050420\tbest: 0.6081755 (66)\ttotal: 14.7s\tremaining: 5.43s\n",
      "73:\tlearn: 0.9026346\ttest: 0.6072313\tbest: 0.6081755 (66)\ttotal: 14.9s\tremaining: 5.23s\n",
      "74:\tlearn: 0.9031399\ttest: 0.6072313\tbest: 0.6081755 (66)\ttotal: 15.1s\tremaining: 5.02s\n",
      "75:\tlearn: 0.9036812\ttest: 0.6092125\tbest: 0.6092125 (75)\ttotal: 15.3s\tremaining: 4.82s\n",
      "76:\tlearn: 0.9041503\ttest: 0.6086096\tbest: 0.6092125 (75)\ttotal: 15.5s\tremaining: 4.62s\n",
      "77:\tlearn: 0.9055693\ttest: 0.6053150\tbest: 0.6092125 (75)\ttotal: 15.6s\tremaining: 4.41s\n",
      "78:\tlearn: 0.9058274\ttest: 0.6080948\tbest: 0.6092125 (75)\ttotal: 15.8s\tremaining: 4.21s\n",
      "79:\tlearn: 0.9061987\ttest: 0.6092125\tbest: 0.6092125 (75)\ttotal: 16s\tremaining: 4.01s\n",
      "80:\tlearn: 0.9066939\ttest: 0.6095992\tbest: 0.6095992 (80)\ttotal: 16.2s\tremaining: 3.8s\n",
      "81:\tlearn: 0.9068515\ttest: 0.6115784\tbest: 0.6115784 (81)\ttotal: 16.4s\tremaining: 3.6s\n",
      "82:\tlearn: 0.9071552\ttest: 0.6125680\tbest: 0.6125680 (82)\ttotal: 16.6s\tremaining: 3.4s\n",
      "83:\tlearn: 0.9075157\ttest: 0.6118812\tbest: 0.6125680 (82)\ttotal: 16.8s\tremaining: 3.2s\n",
      "84:\tlearn: 0.9079660\ttest: 0.6114965\tbest: 0.6125680 (82)\ttotal: 17s\tremaining: 3s\n",
      "85:\tlearn: 0.9084607\ttest: 0.6115784\tbest: 0.6125680 (82)\ttotal: 17.2s\tremaining: 2.8s\n",
      "86:\tlearn: 0.9094115\ttest: 0.6113580\tbest: 0.6125680 (82)\ttotal: 17.4s\tremaining: 2.6s\n",
      "87:\tlearn: 0.9096087\ttest: 0.6106719\tbest: 0.6125680 (82)\ttotal: 17.6s\tremaining: 2.4s\n",
      "88:\tlearn: 0.9103683\ttest: 0.6105888\tbest: 0.6125680 (82)\ttotal: 17.8s\tremaining: 2.2s\n",
      "89:\tlearn: 0.9105379\ttest: 0.6127913\tbest: 0.6127913 (89)\ttotal: 18s\tremaining: 2s\n",
      "90:\tlearn: 0.9110829\ttest: 0.6122651\tbest: 0.6127913 (89)\ttotal: 18.2s\tremaining: 1.8s\n",
      "91:\tlearn: 0.9112961\ttest: 0.6113580\tbest: 0.6127913 (89)\ttotal: 18.4s\tremaining: 1.6s\n",
      "92:\tlearn: 0.9116627\ttest: 0.6113580\tbest: 0.6127913 (89)\ttotal: 18.6s\tremaining: 1.4s\n",
      "93:\tlearn: 0.9124609\ttest: 0.6131099\tbest: 0.6131099 (93)\ttotal: 18.8s\tremaining: 1.2s\n",
      "94:\tlearn: 0.9130166\ttest: 0.6131099\tbest: 0.6131099 (93)\ttotal: 18.9s\tremaining: 997ms\n",
      "95:\tlearn: 0.9143140\ttest: 0.6169056\tbest: 0.6169056 (95)\ttotal: 19.1s\tremaining: 797ms\n",
      "96:\tlearn: 0.9145278\ttest: 0.6175889\tbest: 0.6175889 (96)\ttotal: 19.3s\tremaining: 597ms\n",
      "97:\tlearn: 0.9148548\ttest: 0.6183432\tbest: 0.6183432 (97)\ttotal: 19.5s\tremaining: 398ms\n",
      "98:\tlearn: 0.9151358\ttest: 0.6185771\tbest: 0.6185771 (98)\ttotal: 19.7s\tremaining: 199ms\n",
      "99:\tlearn: 0.9158936\ttest: 0.6178942\tbest: 0.6185771 (98)\ttotal: 19.9s\tremaining: 0us\n",
      "\n",
      "bestTest = 0.6185770751\n",
      "bestIteration = 98\n",
      "\n",
      "Shrink model to first 99 iterations.\n"
     ]
    },
    {
     "data": {
      "text/plain": [
       "<catboost.core.CatBoostClassifier at 0x1389e338880>"
      ]
     },
     "execution_count": 86,
     "metadata": {},
     "output_type": "execute_result"
    }
   ],
   "source": [
    "model_cb.fit(features_train_3, target_train_3,  plot=True, \n",
    "             eval_set=(features_valid, target_valid))"
   ]
  },
  {
   "cell_type": "code",
   "execution_count": 73,
   "metadata": {},
   "outputs": [
    {
     "data": {
      "text/plain": [
       "0.6227450980392157"
      ]
     },
     "execution_count": 73,
     "metadata": {},
     "output_type": "execute_result"
    }
   ],
   "source": [
    "f1_score(data[7950:15900].toxic, model_cb.predict(features[7950:15900]))"
   ]
  },
  {
   "cell_type": "markdown",
   "metadata": {},
   "source": [
    "## Выводы"
   ]
  },
  {
   "cell_type": "markdown",
   "metadata": {},
   "source": [
    "Мы убедились в том, насколько BERT мощная модель. Но столкнулись с ограничениями вычисоительной силы домашнего компьютера, не зря такие огромные модели могут обучить только огромные корпорации. Мы пришли к выводу, что для нашей задачи подпшла самая простая модель логической регрессии, которая показала результат лучше, чем CatBoost. и еще, как оказалось, для оценки токсичности твита достаточно первых 50 токенов твита потому-что наша модель показывает достойный уровень f1 метрики, что может служить темой для отдельного иследования.\n",
    "\n",
    "остальные модели и не стоят сравнения. вот [лучшая модель](#best_model)\n",
    "\n",
    "давайте посмотрим на ее матрицу ошибок и сравним с константной моделью."
   ]
  },
  {
   "cell_type": "code",
   "execution_count": null,
   "metadata": {},
   "outputs": [],
   "source": [
    "model_log = LogisticRegression(random_state=1234)\n",
    "model_log.fit(features_train, target_train)\n",
    "log_probas = model_log.predict_proba(features_test)\n",
    "log_probas_of_1 = log_probas[:, 1]\n",
    "asda = pd.Series([own_activator(0.355, x) for x in log_probas_of_1])\n",
    "f1_score(target_valid, asda) > best_f1_log_thr:"
   ]
  },
  {
   "cell_type": "code",
   "execution_count": 183,
   "metadata": {},
   "outputs": [],
   "source": [
    "cf_matrix_tree = confusion_matrix(data[55791:79700].toxic, pd.Series([own_activator(0.335, x) for x in log_probas_of_1]))"
   ]
  },
  {
   "cell_type": "code",
   "execution_count": 184,
   "metadata": {
    "scrolled": true
   },
   "outputs": [
    {
     "data": {
      "image/png": "[encoded data removed]",
      "text/plain": [
       "<Figure size 432x288 with 2 Axes>"
      ]
     },
     "metadata": {
      "needs_background": "light"
     },
     "output_type": "display_data"
    }
   ],
   "source": [
    "group_names = ['True Neg','False Pos','False Neg','True Pos']\n",
    "group_counts = [\"{0:0.0f}\".format(value) for value in\n",
    "                cf_matrix_tree.flatten()]\n",
    "group_percentages = [\"{0:.2%}\".format(value) for value in\n",
    "                     cf_matrix_tree.flatten()/np.sum(cf_matrix_tree)]\n",
    "labels = [f\"{v1}\\n{v2}\\n{v3}\" for v1, v2, v3 in\n",
    "          zip(group_names,group_counts,group_percentages)]\n",
    "labels = np.asarray(labels).reshape(2,2)\n",
    "sns.heatmap(cf_matrix_tree, annot=labels, fmt='', cmap='RdPu');"
   ]
  },
  {
   "cell_type": "markdown",
   "metadata": {},
   "source": [
    "Наша модель хорошо определяет токсичные твиты, только 2.84% от всего набора данных(37.8% от всех 1) модель не угадала.\n",
    "\n",
    "Давайте посмотрим на AUC-ROC кривую нашей модели"
   ]
  },
  {
   "cell_type": "code",
   "execution_count": 189,
   "metadata": {},
   "outputs": [
    {
     "data": {
      "image/png": "[encoded data removed]",
      "text/plain": [
       "<Figure size 360x360 with 1 Axes>"
      ]
     },
     "metadata": {
      "needs_background": "light"
     },
     "output_type": "display_data"
    }
   ],
   "source": [
    "tpr, fpr = get_n_roc_coordinates(data[55791:79700].toxic, log_probas)\n",
    "# Plots the ROC curve\n",
    "plot_roc_curve(tpr, fpr)"
   ]
  },
  {
   "cell_type": "markdown",
   "metadata": {},
   "source": [
    "судя по ROC наша модель лучше определяет 0, чем еденицы, это может быть связанно с дисбалансом классов(график сужен)"
   ]
  },
  {
   "cell_type": "markdown",
   "metadata": {},
   "source": [
    "как же справится константная модель?"
   ]
  },
  {
   "cell_type": "code",
   "execution_count": 193,
   "metadata": {},
   "outputs": [
    {
     "data": {
      "text/plain": [
       "0.18747630960503373"
      ]
     },
     "execution_count": 193,
     "metadata": {},
     "output_type": "execute_result"
    }
   ],
   "source": [
    "f1_score(data[55791:79700].toxic, pd.Series([1 for x in data[55791:79700].toxic]))\n",
    "#если мы предскажем все 0 f1 будет 0 потому-что полнота будет равна 0"
   ]
  },
  {
   "cell_type": "markdown",
   "metadata": {},
   "source": [
    "наша модель явно лучше"
   ]
  }
 ],
 "metadata": {
  "ExecuteTimeLog": [
   {
    "duration": 4161,
    "start_time": "2022-05-22T18:42:37.939Z"
   },
   {
    "duration": 9,
    "start_time": "2022-05-22T18:42:42.103Z"
   },
   {
    "duration": 817,
    "start_time": "2022-05-22T18:42:42.115Z"
   },
   {
    "duration": 8,
    "start_time": "2022-05-22T18:42:46.238Z"
   },
   {
    "duration": 8,
    "start_time": "2022-05-22T18:42:47.119Z"
   },
   {
    "duration": 12,
    "start_time": "2022-05-22T18:42:48.399Z"
   },
   {
    "duration": 7,
    "start_time": "2022-05-22T18:42:48.981Z"
   },
   {
    "duration": 6,
    "start_time": "2022-05-22T18:42:50.143Z"
   },
   {
    "duration": 25,
    "start_time": "2022-05-22T18:42:51.061Z"
   },
   {
    "duration": 3,
    "start_time": "2022-05-22T18:42:51.862Z"
   },
   {
    "duration": 6,
    "start_time": "2022-05-22T18:42:52.357Z"
   },
   {
    "duration": 663,
    "start_time": "2022-05-22T18:42:52.963Z"
   },
   {
    "duration": 350,
    "start_time": "2022-05-22T18:42:54.996Z"
   },
   {
    "duration": 385,
    "start_time": "2022-05-22T18:50:39.480Z"
   },
   {
    "duration": 13302,
    "start_time": "2022-05-22T18:50:41.453Z"
   },
   {
    "duration": 36688,
    "start_time": "2022-05-22T18:50:54.757Z"
   },
   {
    "duration": 228,
    "start_time": "2022-05-22T18:54:09.967Z"
   },
   {
    "duration": 91238,
    "start_time": "2022-05-22T18:54:11.980Z"
   },
   {
    "duration": 3,
    "start_time": "2022-05-22T18:55:48.109Z"
   },
   {
    "duration": 242,
    "start_time": "2022-05-22T18:55:49.683Z"
   },
   {
    "duration": 18122,
    "start_time": "2022-05-22T18:55:51.383Z"
   },
   {
    "duration": 114,
    "start_time": "2022-05-22T18:56:09.507Z"
   }
  ],
  "kernelspec": {
   "display_name": "Python 3 (ipykernel)",
   "language": "python",
   "name": "python3"
  },
  "language_info": {
   "codemirror_mode": {
    "name": "ipython",
    "version": 3
   },
   "file_extension": ".py",
   "mimetype": "text/x-python",
   "name": "python",
   "nbconvert_exporter": "python",
   "pygments_lexer": "ipython3",
   "version": "3.10.1"
  },
  "toc": {
   "base_numbering": 1,
   "nav_menu": {},
   "number_sections": true,
   "sideBar": true,
   "skip_h1_title": true,
   "title_cell": "Содержание",
   "title_sidebar": "Contents",
   "toc_cell": true,
   "toc_position": {
    "height": "calc(100% - 180px)",
    "left": "10px",
    "top": "150px",
    "width": "302.391px"
   },
   "toc_section_display": true,
   "toc_window_display": false
  }
 },
 "nbformat": 4,
 "nbformat_minor": 2
}
